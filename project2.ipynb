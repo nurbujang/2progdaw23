{
 "cells": [
  {
   "cell_type": "markdown",
   "metadata": {},
   "source": [
    "# Project 2 Programming for Data Analysis Winter 2023 \n",
    "\n",
    "**Author: Nur Bujang**\n",
    "\n",
    "project2.ipynb\n",
    "***"
   ]
  },
  {
   "cell_type": "markdown",
   "metadata": {
    "vscode": {
     "languageId": "plaintext"
    }
   },
   "source": [
    "### Project Instruction:\n",
    "\n",
    "> Analyse CO2 vs Temperature Anomaly from 800kyrs – present.\n",
    "\n",
    "> Examine one other (paleo/modern) features (e.g. CH4 or polar ice-coverage)\n",
    "\n",
    "> Examine Irish context:\n",
    "\n",
    "    > Climate change signals: (see Maynooth study: The emergence of a climate change signal in long-term Irish meteorological observations - ScienceDirect)\n",
    "\n",
    "> Fuse and analyse data from various data sources and format fused data set as a pandas dataframe and export to csv and json formats\n",
    "\n",
    "> For all of the above variables, analyse the data, the trends and the relationships between them (temporal leads/lags/frequency analysis).\n",
    "\n",
    "> Predict global temperature anomaly over next few decades (synthesise data) and compare to published climate models if atmospheric CO2 trends continue\n",
    "\n",
    "> Comment on accelerated warming based on very latest features (e.g. temperature/polar-ice-coverage)"
   ]
  },
  {
   "cell_type": "markdown",
   "metadata": {},
   "source": [
    "Due: Sunday, 7 January 2024, 11:59 PM \n",
    "\n",
    "merge ice core x Mauna Loa data fot temp and co2 - some will hv time overlap, look at how the composite record from both these experiments was formed, overlay all the graphs, some will have time overlap. overlay them all on the same axis, with the composite, how did they decide with overlapping years, which one to take? and how much agreement between all diff datasets\n",
    "be beware of temp unit. 41586_2008_BFnature06949_MOESM31_ESM, Jeuzel's data (epicaDC.deutemp.EDC3-AICC), 186ya, temp in kelvin - SO how did they get the temp anomaly? was all these expressed in Celcius, and these are averages calculated over the entire period or what's the offset to change 218.3 (absolute temp in kelvin in deuttemp) to 0.88, 1.84 (temp anomaly in BFnature) for year 38,46 in BFnature datafile? how was that transformation done?\n",
    "\n",
    "other feature: ncei.noaa.gov/products/paleoclimatology, ncei.noaa.gov/access/paleo-search, CH4 https://euanmearns.com/the-vostok-ice-core-temperature-co2-and-ch4  or *sea ice https://nsidc.org/data/seaice_index, https://www.climate.gov/news-features/event-tracker/2023-antarctic-sea-ice-winter-maximum-lowest-record-wide-margin 2023 record low, way outside std, how many std from mean is it out, estimate how much of a fluke it is VS https://earth.gsfc.nasa.gov/cryo/data/arcticantarctic-sea-ice-time-series or total solar irradiance (look in paleo)\n",
    "\n",
    "in Irish context: https://www.rte.ie/brainstorm/2023/1020/1412054-human-induced-climate-change-irish-weather/ https://www.maynoothuniversity.ie/icarus/news/icarus-research-identifies-climate-change-weather-records-0 temp and precipitation data from long-term trends in daily extreme air temperature indices in ireland from 1885 to 2018 https://www.sciencedirect.com/science/article/pii/S2212094722000469- https:www.met.ie/climate/available-data/long-term-data-sets/ reproduce some of the analysis. \n",
    "\n",
    "relationship-correlation, does one lead/lag to the other, \n",
    "\n",
    "Just for temp: linear regression - predict global temp anomaly over next few decases, synthesise data and compare to published climate models if atmospheric CO2 trends continue\n",
    "\n",
    "traditionalist vs accelerationists- https://twitter.com/ryankatzrosene/status/1710108929789759812 look back at source data and see with CO2, esp temp, are we seeing linear/nonlinear increase ?"
   ]
  },
  {
   "cell_type": "markdown",
   "metadata": {
    "vscode": {
     "languageId": "plaintext"
    }
   },
   "source": [
    "# Project Title: \n",
    "\n",
    "## **An Analysis Of Paleo-Present Climate Data**\n",
    "\n",
    "## Abstract\n"
   ]
  },
  {
   "cell_type": "markdown",
   "metadata": {
    "vscode": {
     "languageId": "plaintext"
    }
   },
   "source": [
    "## 1.0 Background\n",
    "\n",
    "### 1.1 "
   ]
  },
  {
   "cell_type": "code",
   "execution_count": null,
   "metadata": {
    "vscode": {
     "languageId": "plaintext"
    }
   },
   "outputs": [],
   "source": []
  },
  {
   "cell_type": "code",
   "execution_count": null,
   "metadata": {
    "vscode": {
     "languageId": "plaintext"
    }
   },
   "outputs": [],
   "source": []
  },
  {
   "cell_type": "code",
   "execution_count": null,
   "metadata": {
    "vscode": {
     "languageId": "plaintext"
    }
   },
   "outputs": [],
   "source": []
  },
  {
   "cell_type": "markdown",
   "metadata": {},
   "source": [
    "## 2.0 Methods and Implementation\n",
    "\n",
    "### 2.1 Assumptions\n"
   ]
  },
  {
   "cell_type": "code",
   "execution_count": null,
   "metadata": {
    "vscode": {
     "languageId": "plaintext"
    }
   },
   "outputs": [],
   "source": []
  },
  {
   "cell_type": "code",
   "execution_count": null,
   "metadata": {
    "vscode": {
     "languageId": "plaintext"
    }
   },
   "outputs": [],
   "source": []
  },
  {
   "cell_type": "code",
   "execution_count": null,
   "metadata": {
    "vscode": {
     "languageId": "plaintext"
    }
   },
   "outputs": [],
   "source": []
  },
  {
   "cell_type": "markdown",
   "metadata": {},
   "source": [
    "# 3.0 Analysis\n",
    "\n",
    "## 3.1 "
   ]
  },
  {
   "cell_type": "code",
   "execution_count": null,
   "metadata": {
    "vscode": {
     "languageId": "plaintext"
    }
   },
   "outputs": [],
   "source": []
  },
  {
   "cell_type": "code",
   "execution_count": null,
   "metadata": {
    "vscode": {
     "languageId": "plaintext"
    }
   },
   "outputs": [],
   "source": []
  },
  {
   "cell_type": "code",
   "execution_count": null,
   "metadata": {
    "vscode": {
     "languageId": "plaintext"
    }
   },
   "outputs": [],
   "source": []
  },
  {
   "cell_type": "code",
   "execution_count": null,
   "metadata": {
    "vscode": {
     "languageId": "plaintext"
    }
   },
   "outputs": [],
   "source": []
  },
  {
   "cell_type": "code",
   "execution_count": null,
   "metadata": {
    "vscode": {
     "languageId": "plaintext"
    }
   },
   "outputs": [],
   "source": []
  },
  {
   "cell_type": "code",
   "execution_count": null,
   "metadata": {
    "vscode": {
     "languageId": "plaintext"
    }
   },
   "outputs": [],
   "source": []
  },
  {
   "cell_type": "code",
   "execution_count": null,
   "metadata": {
    "vscode": {
     "languageId": "plaintext"
    }
   },
   "outputs": [],
   "source": []
  },
  {
   "cell_type": "code",
   "execution_count": null,
   "metadata": {
    "vscode": {
     "languageId": "plaintext"
    }
   },
   "outputs": [],
   "source": []
  },
  {
   "cell_type": "markdown",
   "metadata": {},
   "source": [
    "## 4.0 Conclusions"
   ]
  },
  {
   "cell_type": "markdown",
   "metadata": {},
   "source": [
    "## 5.0 References"
   ]
  },
  {
   "cell_type": "markdown",
   "metadata": {},
   "source": []
  },
  {
   "cell_type": "code",
   "execution_count": null,
   "metadata": {
    "vscode": {
     "languageId": "plaintext"
    }
   },
   "outputs": [],
   "source": [
    "***\n",
    "\n",
    "## End of Project 2"
   ]
  }
 ],
 "metadata": {
  "language_info": {
   "name": "python"
  }
 },
 "nbformat": 4,
 "nbformat_minor": 2
}
