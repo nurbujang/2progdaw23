{
 "cells": [
  {
   "cell_type": "markdown",
   "metadata": {},
   "source": [
    "# Project 2 Programming for Data Analysis Winter 2023 \n",
    "\n",
    "**Author: Nur Bujang**\n",
    "\n",
    "project2.ipynb\n",
    "***"
   ]
  },
  {
   "cell_type": "markdown",
   "metadata": {
    "vscode": {
     "languageId": "plaintext"
    }
   },
   "source": [
    "### Project Instruction:\n",
    "\n",
    "> Analyse CO2 vs Temperature Anomaly from 800kyrs – present.\n",
    "\n",
    "> Examine one other (paleo/modern) features (e.g. CH4 or polar ice-coverage)\n",
    "\n",
    "> Examine Irish context:\n",
    "\n",
    "    > Climate change signals: (see Maynooth study: The emergence of a climate change signal in long-term Irish meteorological observations - ScienceDirect)\n",
    "\n",
    "> Fuse and analyse data from various data sources and format fused data set as a pandas dataframe and export to csv and json formats\n",
    "\n",
    "> For all of the above variables, analyse the data, the trends and the relationships between them (temporal leads/lags/frequency analysis).\n",
    "\n",
    "> Predict global temperature anomaly over next few decades (synthesise data) and compare to published climate models if atmospheric CO2 trends continue\n",
    "\n",
    "> Comment on accelerated warming based on very latest features (e.g. temperature/polar-ice-coverage)"
   ]
  },
  {
   "cell_type": "markdown",
   "metadata": {},
   "source": [
    "merge ice core x Mauna Loa data fot temp and co2 - some will hv time overlap, look at how the composite record from both these experiments was formed, overlay all the graphs, some will have time overlap. overlay them all on the same axis, with the composite, how did they decide with overlapping years, which one to take? and how much agreement between all diff datasets\n",
    "be beware of temp unit. 41586_2008_BFnature06949_MOESM31_ESM, Jeuzel's data (epicaDC.deutemp.EDC3-AICC), 186ya, temp in kelvin - SO how did they get the temp anomaly? was all these expressed in Celcius, and these are averages calculated over the entire period or what's the offset to change 218.3 (absolute temp in kelvin in deuttemp) to 0.88, 1.84 (temp anomaly in BFnature) for year 38,46 in BFnature datafile? how was that transformation done?\n",
    "\n",
    "other feature: ncei.noaa.gov/products/paleoclimatology, ncei.noaa.gov/access/paleo-search, CH4 https://euanmearns.com/the-vostok-ice-core-temperature-co2-and-ch4  or *sea ice https://nsidc.org/data/seaice_index, https://www.climate.gov/news-features/event-tracker/2023-antarctic-sea-ice-winter-maximum-lowest-record-wide-margin 2023 record low, way outside std, how many std from mean is it out, estimate how much of a fluke it is VS https://earth.gsfc.nasa.gov/cryo/data/arcticantarctic-sea-ice-time-series or total solar irradiance (look in paleo)\n",
    "\n",
    "in Irish context: https://www.rte.ie/brainstorm/2023/1020/1412054-human-induced-climate-change-irish-weather/ https://www.maynoothuniversity.ie/icarus/news/icarus-research-identifies-climate-change-weather-records-0 temp and precipitation data from long-term trends in daily extreme air temperature indices in ireland from 1885 to 2018 https://www.sciencedirect.com/science/article/pii/S2212094722000469- https:www.met.ie/climate/available-data/long-term-data-sets/ reproduce some of the analysis. \n",
    "\n",
    "relationship-correlation, does one lead/lag to the other, \n",
    "\n",
    "Just for temp: linear regression - predict global temp anomaly over next few decases, synthesise data and compare to published climate models if atmospheric CO2 trends continue\n",
    "\n",
    "traditionalist vs accelerationists- https://twitter.com/ryankatzrosene/status/1710108929789759812 look back at source data and see with CO2, esp temp, are we seeing linear/nonlinear increase ?\n",
    "\n",
    "CO2 data from Luthi et al. 2008: https://static-content.springer.com/esm/art%3A10.1038%2Fnature06949/MediaObjects/41586_2008_BFnature06949_MOESM31_ESM.xls\n",
    "\n",
    "CO2 data from IPCC: paper: https://www.ipcc.ch/report/ar6/wg1/downloads/report/IPCC_AR6_WGI_Chapter01_SM.pdf\n",
    "                data: https://agupubs.onlinelibrary.wiley.com/action/downloadSupplement?doi=10.1002%2F2014GL061957&file=grl52461-sup-0003-supplementary.xls\n",
    "\n",
    "Temp Jouzel - epicaDC.deuttemp.EDC3-AICC: https://vlegalwaymayo.atu.ie/pluginfile.php/1171393/mod_resource/content/0/epicaDC.deuttemp.EDC3-AICC.xls\n",
    "\n",
    "Temperature Data from NOAA: https://www.ncei.noaa.gov/access/paleo-search/study/6080\n",
    "\n",
    "Irish Datasets: https://www.met.ie/climate/available-data/long-term-data-sets/"
   ]
  },
  {
   "cell_type": "markdown",
   "metadata": {
    "vscode": {
     "languageId": "plaintext"
    }
   },
   "source": [
    "# Project Title: \n",
    "\n",
    "## **An Analysis Of Paleo-Present Climate Data**\n",
    "\n",
    "## Abstract\n"
   ]
  },
  {
   "cell_type": "markdown",
   "metadata": {
    "vscode": {
     "languageId": "plaintext"
    }
   },
   "source": [
    "## 1.0 Background\n",
    "\n",
    "### 1.1 "
   ]
  },
  {
   "cell_type": "markdown",
   "metadata": {
    "vscode": {
     "languageId": "plaintext"
    }
   },
   "source": []
  },
  {
   "cell_type": "markdown",
   "metadata": {
    "vscode": {
     "languageId": "plaintext"
    }
   },
   "source": []
  },
  {
   "cell_type": "markdown",
   "metadata": {},
   "source": [
    "## 2.0 Methods and Implementation\n",
    "\n",
    "### 2.1 \n"
   ]
  },
  {
   "cell_type": "code",
   "execution_count": 2,
   "metadata": {},
   "outputs": [],
   "source": [
    "import pandas as pd"
   ]
  },
  {
   "cell_type": "code",
   "execution_count": null,
   "metadata": {},
   "outputs": [],
   "source": [
    "coipcc = pd.read_excel('data/coipcc.xls')\n",
    "coipcc.tail(30)"
   ]
  },
  {
   "cell_type": "code",
   "execution_count": null,
   "metadata": {},
   "outputs": [],
   "source": [
    "coluthi = pd.read_excel('data/coluthi.xls')\n",
    "coluthi.tail(30)"
   ]
  },
  {
   "cell_type": "code",
   "execution_count": 4,
   "metadata": {},
   "outputs": [
    {
     "data": {
      "text/html": [
       "<div>\n",
       "<style scoped>\n",
       "    .dataframe tbody tr th:only-of-type {\n",
       "        vertical-align: middle;\n",
       "    }\n",
       "\n",
       "    .dataframe tbody tr th {\n",
       "        vertical-align: top;\n",
       "    }\n",
       "\n",
       "    .dataframe thead th {\n",
       "        text-align: right;\n",
       "    }\n",
       "</style>\n",
       "<table border=\"1\" class=\"dataframe\">\n",
       "  <thead>\n",
       "    <tr style=\"text-align: right;\">\n",
       "      <th></th>\n",
       "      <th>bag</th>\n",
       "      <th>ztop</th>\n",
       "      <th>EDC3béta</th>\n",
       "      <th>AICC2012</th>\n",
       "      <th>deutfinal</th>\n",
       "      <th>temp</th>\n",
       "      <th>acc-EDC3beta</th>\n",
       "    </tr>\n",
       "  </thead>\n",
       "  <tbody>\n",
       "    <tr>\n",
       "      <th>5789</th>\n",
       "      <td>5790</td>\n",
       "      <td>3183.95</td>\n",
       "      <td>795777.1</td>\n",
       "      <td>792750.0000</td>\n",
       "      <td>-414.0</td>\n",
       "      <td>214.0</td>\n",
       "      <td>2.038</td>\n",
       "    </tr>\n",
       "    <tr>\n",
       "      <th>5790</th>\n",
       "      <td>5791</td>\n",
       "      <td>3184.50</td>\n",
       "      <td>796391.3</td>\n",
       "      <td>793417.0000</td>\n",
       "      <td>-418.6</td>\n",
       "      <td>213.2</td>\n",
       "      <td>1.898</td>\n",
       "    </tr>\n",
       "    <tr>\n",
       "      <th>5791</th>\n",
       "      <td>5792</td>\n",
       "      <td>3185.05</td>\n",
       "      <td>797050.9</td>\n",
       "      <td>794190.6667</td>\n",
       "      <td>-421.8</td>\n",
       "      <td>212.7</td>\n",
       "      <td>1.805</td>\n",
       "    </tr>\n",
       "    <tr>\n",
       "      <th>5792</th>\n",
       "      <td>5793</td>\n",
       "      <td>3185.60</td>\n",
       "      <td>797744.7</td>\n",
       "      <td>794964.3333</td>\n",
       "      <td>-423.5</td>\n",
       "      <td>212.5</td>\n",
       "      <td>1.758</td>\n",
       "    </tr>\n",
       "    <tr>\n",
       "      <th>5793</th>\n",
       "      <td>5794</td>\n",
       "      <td>3186.15</td>\n",
       "      <td>798456.8</td>\n",
       "      <td>795738.0000</td>\n",
       "      <td>-427.1</td>\n",
       "      <td>211.9</td>\n",
       "      <td>1.659</td>\n",
       "    </tr>\n",
       "    <tr>\n",
       "      <th>5794</th>\n",
       "      <td>5795</td>\n",
       "      <td>3186.70</td>\n",
       "      <td>799211.9</td>\n",
       "      <td>796644.3333</td>\n",
       "      <td>-432.0</td>\n",
       "      <td>211.1</td>\n",
       "      <td>1.535</td>\n",
       "    </tr>\n",
       "    <tr>\n",
       "      <th>5795</th>\n",
       "      <td>5796</td>\n",
       "      <td>3187.25</td>\n",
       "      <td>800028.2</td>\n",
       "      <td>797550.6667</td>\n",
       "      <td>-437.3</td>\n",
       "      <td>210.2</td>\n",
       "      <td>1.408</td>\n",
       "    </tr>\n",
       "    <tr>\n",
       "      <th>5796</th>\n",
       "      <td>5797</td>\n",
       "      <td>3187.80</td>\n",
       "      <td>800918.2</td>\n",
       "      <td>798457.0000</td>\n",
       "      <td>-439.0</td>\n",
       "      <td>209.9</td>\n",
       "      <td>1.370</td>\n",
       "    </tr>\n",
       "    <tr>\n",
       "      <th>5797</th>\n",
       "      <td>5798</td>\n",
       "      <td>3188.35</td>\n",
       "      <td>801833.2</td>\n",
       "      <td>799500.6667</td>\n",
       "      <td>-441.1</td>\n",
       "      <td>209.6</td>\n",
       "      <td>1.324</td>\n",
       "    </tr>\n",
       "    <tr>\n",
       "      <th>5798</th>\n",
       "      <td>5799</td>\n",
       "      <td>3188.90</td>\n",
       "      <td>802779.6</td>\n",
       "      <td>800544.3333</td>\n",
       "      <td>-440.6</td>\n",
       "      <td>209.6</td>\n",
       "      <td>1.335</td>\n",
       "    </tr>\n",
       "    <tr>\n",
       "      <th>5799</th>\n",
       "      <td>5800</td>\n",
       "      <td>3189.45</td>\n",
       "      <td>803718.9</td>\n",
       "      <td>801588.0000</td>\n",
       "      <td>-440.9</td>\n",
       "      <td>209.6</td>\n",
       "      <td>1.329</td>\n",
       "    </tr>\n",
       "    <tr>\n",
       "      <th>5800</th>\n",
       "      <td>5801</td>\n",
       "      <td>3190.00</td>\n",
       "      <td>804662.5</td>\n",
       "      <td>802636.6667</td>\n",
       "      <td>-438.7</td>\n",
       "      <td>210.0</td>\n",
       "      <td>1.376</td>\n",
       "    </tr>\n",
       "    <tr>\n",
       "      <th>5801</th>\n",
       "      <td>5802</td>\n",
       "      <td>3190.55</td>\n",
       "      <td>805574.1</td>\n",
       "      <td>803685.3333</td>\n",
       "      <td>-440.7</td>\n",
       "      <td>209.6</td>\n",
       "      <td>1.333</td>\n",
       "    </tr>\n",
       "    <tr>\n",
       "      <th>5802</th>\n",
       "      <td>5803</td>\n",
       "      <td>3191.10</td>\n",
       "      <td>806515.2</td>\n",
       "      <td>804734.0000</td>\n",
       "      <td>-440.1</td>\n",
       "      <td>209.7</td>\n",
       "      <td>1.345</td>\n",
       "    </tr>\n",
       "    <tr>\n",
       "      <th>5803</th>\n",
       "      <td>5804</td>\n",
       "      <td>3191.65</td>\n",
       "      <td>807447.6</td>\n",
       "      <td>805803.0000</td>\n",
       "      <td>-442.5</td>\n",
       "      <td>209.3</td>\n",
       "      <td>1.295</td>\n",
       "    </tr>\n",
       "    <tr>\n",
       "      <th>5804</th>\n",
       "      <td>5805</td>\n",
       "      <td>3192.20</td>\n",
       "      <td>808416.7</td>\n",
       "      <td>806872.0000</td>\n",
       "      <td>-440.1</td>\n",
       "      <td>209.7</td>\n",
       "      <td>1.347</td>\n",
       "    </tr>\n",
       "    <tr>\n",
       "      <th>5805</th>\n",
       "      <td>5806</td>\n",
       "      <td>3192.75</td>\n",
       "      <td>809348.4</td>\n",
       "      <td>807941.0000</td>\n",
       "      <td>-434.5</td>\n",
       "      <td>210.7</td>\n",
       "      <td>1.470</td>\n",
       "    </tr>\n",
       "    <tr>\n",
       "      <th>5806</th>\n",
       "      <td>5807</td>\n",
       "      <td>3193.30</td>\n",
       "      <td>810202.4</td>\n",
       "      <td>809010.0000</td>\n",
       "      <td>-436.7</td>\n",
       "      <td>210.3</td>\n",
       "      <td>1.422</td>\n",
       "    </tr>\n",
       "    <tr>\n",
       "      <th>5807</th>\n",
       "      <td>5808</td>\n",
       "      <td>3193.85</td>\n",
       "      <td>811085.2</td>\n",
       "      <td>810079.0000</td>\n",
       "      <td>-435.4</td>\n",
       "      <td>210.5</td>\n",
       "      <td>1.452</td>\n",
       "    </tr>\n",
       "    <tr>\n",
       "      <th>5808</th>\n",
       "      <td>5809</td>\n",
       "      <td>3194.40</td>\n",
       "      <td>811949.6</td>\n",
       "      <td>811148.0000</td>\n",
       "      <td>-433.1</td>\n",
       "      <td>210.9</td>\n",
       "      <td>1.506</td>\n",
       "    </tr>\n",
       "    <tr>\n",
       "      <th>5809</th>\n",
       "      <td>5810</td>\n",
       "      <td>3194.95</td>\n",
       "      <td>812783.5</td>\n",
       "      <td>812217.0000</td>\n",
       "      <td>-432.4</td>\n",
       "      <td>211.0</td>\n",
       "      <td>1.524</td>\n",
       "    </tr>\n",
       "    <tr>\n",
       "      <th>5810</th>\n",
       "      <td>5811</td>\n",
       "      <td>3195.50</td>\n",
       "      <td>813607.6</td>\n",
       "      <td>813286.0000</td>\n",
       "      <td>-431.7</td>\n",
       "      <td>211.1</td>\n",
       "      <td>1.541</td>\n",
       "    </tr>\n",
       "    <tr>\n",
       "      <th>5811</th>\n",
       "      <td>5812</td>\n",
       "      <td>3196.05</td>\n",
       "      <td>814422.8</td>\n",
       "      <td>814355.0000</td>\n",
       "      <td>-431.0</td>\n",
       "      <td>211.2</td>\n",
       "      <td>1.558</td>\n",
       "    </tr>\n",
       "    <tr>\n",
       "      <th>5812</th>\n",
       "      <td>5813</td>\n",
       "      <td>3196.60</td>\n",
       "      <td>815229.1</td>\n",
       "      <td>815424.0000</td>\n",
       "      <td>-431.2</td>\n",
       "      <td>211.2</td>\n",
       "      <td>1.553</td>\n",
       "    </tr>\n",
       "    <tr>\n",
       "      <th>5813</th>\n",
       "      <td>5814</td>\n",
       "      <td>3197.15</td>\n",
       "      <td>816037.8</td>\n",
       "      <td>816493.0000</td>\n",
       "      <td>-433.1</td>\n",
       "      <td>210.9</td>\n",
       "      <td>1.507</td>\n",
       "    </tr>\n",
       "    <tr>\n",
       "      <th>5814</th>\n",
       "      <td>5815</td>\n",
       "      <td>3197.70</td>\n",
       "      <td>816871.6</td>\n",
       "      <td>817562.0000</td>\n",
       "      <td>-432.2</td>\n",
       "      <td>211.0</td>\n",
       "      <td>1.529</td>\n",
       "    </tr>\n",
       "    <tr>\n",
       "      <th>5815</th>\n",
       "      <td>5816</td>\n",
       "      <td>3198.25</td>\n",
       "      <td>817693.6</td>\n",
       "      <td>818631.0000</td>\n",
       "      <td>-431.4</td>\n",
       "      <td>211.2</td>\n",
       "      <td>1.548</td>\n",
       "    </tr>\n",
       "    <tr>\n",
       "      <th>5816</th>\n",
       "      <td>5817</td>\n",
       "      <td>3198.80</td>\n",
       "      <td>818505.5</td>\n",
       "      <td>819700.0000</td>\n",
       "      <td>-430.3</td>\n",
       "      <td>211.3</td>\n",
       "      <td>1.576</td>\n",
       "    </tr>\n",
       "    <tr>\n",
       "      <th>5817</th>\n",
       "      <td>5818</td>\n",
       "      <td>3199.35</td>\n",
       "      <td>819303.1</td>\n",
       "      <td>820769.0000</td>\n",
       "      <td>-429.8</td>\n",
       "      <td>211.4</td>\n",
       "      <td>1.589</td>\n",
       "    </tr>\n",
       "    <tr>\n",
       "      <th>5818</th>\n",
       "      <td>5819</td>\n",
       "      <td>3199.90</td>\n",
       "      <td>820093.9</td>\n",
       "      <td>821838.0000</td>\n",
       "      <td>-430.0</td>\n",
       "      <td>211.4</td>\n",
       "      <td>1.583</td>\n",
       "    </tr>\n",
       "  </tbody>\n",
       "</table>\n",
       "</div>"
      ],
      "text/plain": [
       "       bag     ztop  EDC3béta     AICC2012  deutfinal   temp  acc-EDC3beta\n",
       "5789  5790  3183.95  795777.1  792750.0000     -414.0  214.0         2.038\n",
       "5790  5791  3184.50  796391.3  793417.0000     -418.6  213.2         1.898\n",
       "5791  5792  3185.05  797050.9  794190.6667     -421.8  212.7         1.805\n",
       "5792  5793  3185.60  797744.7  794964.3333     -423.5  212.5         1.758\n",
       "5793  5794  3186.15  798456.8  795738.0000     -427.1  211.9         1.659\n",
       "5794  5795  3186.70  799211.9  796644.3333     -432.0  211.1         1.535\n",
       "5795  5796  3187.25  800028.2  797550.6667     -437.3  210.2         1.408\n",
       "5796  5797  3187.80  800918.2  798457.0000     -439.0  209.9         1.370\n",
       "5797  5798  3188.35  801833.2  799500.6667     -441.1  209.6         1.324\n",
       "5798  5799  3188.90  802779.6  800544.3333     -440.6  209.6         1.335\n",
       "5799  5800  3189.45  803718.9  801588.0000     -440.9  209.6         1.329\n",
       "5800  5801  3190.00  804662.5  802636.6667     -438.7  210.0         1.376\n",
       "5801  5802  3190.55  805574.1  803685.3333     -440.7  209.6         1.333\n",
       "5802  5803  3191.10  806515.2  804734.0000     -440.1  209.7         1.345\n",
       "5803  5804  3191.65  807447.6  805803.0000     -442.5  209.3         1.295\n",
       "5804  5805  3192.20  808416.7  806872.0000     -440.1  209.7         1.347\n",
       "5805  5806  3192.75  809348.4  807941.0000     -434.5  210.7         1.470\n",
       "5806  5807  3193.30  810202.4  809010.0000     -436.7  210.3         1.422\n",
       "5807  5808  3193.85  811085.2  810079.0000     -435.4  210.5         1.452\n",
       "5808  5809  3194.40  811949.6  811148.0000     -433.1  210.9         1.506\n",
       "5809  5810  3194.95  812783.5  812217.0000     -432.4  211.0         1.524\n",
       "5810  5811  3195.50  813607.6  813286.0000     -431.7  211.1         1.541\n",
       "5811  5812  3196.05  814422.8  814355.0000     -431.0  211.2         1.558\n",
       "5812  5813  3196.60  815229.1  815424.0000     -431.2  211.2         1.553\n",
       "5813  5814  3197.15  816037.8  816493.0000     -433.1  210.9         1.507\n",
       "5814  5815  3197.70  816871.6  817562.0000     -432.2  211.0         1.529\n",
       "5815  5816  3198.25  817693.6  818631.0000     -431.4  211.2         1.548\n",
       "5816  5817  3198.80  818505.5  819700.0000     -430.3  211.3         1.576\n",
       "5817  5818  3199.35  819303.1  820769.0000     -429.8  211.4         1.589\n",
       "5818  5819  3199.90  820093.9  821838.0000     -430.0  211.4         1.583"
      ]
     },
     "execution_count": 4,
     "metadata": {},
     "output_type": "execute_result"
    }
   ],
   "source": [
    "tempjouzel = pd.read_excel('data/tempjouzel.xls')\n",
    "tempjouzel.tail(30)"
   ]
  },
  {
   "cell_type": "code",
   "execution_count": 3,
   "metadata": {},
   "outputs": [
    {
     "ename": "ParserError",
     "evalue": "Error tokenizing data. C error: Expected 1 fields in line 3, saw 2\n",
     "output_type": "error",
     "traceback": [
      "\u001b[0;31m---------------------------------------------------------------------------\u001b[0m",
      "\u001b[0;31mParserError\u001b[0m                               Traceback (most recent call last)",
      "\u001b[1;32m/home/rsalgo/Desktop/ATU/W23/PROGDAW2023/2progdaw23/project2.ipynb Cell 13\u001b[0m line \u001b[0;36m1\n\u001b[0;32m----> <a href='vscode-notebook-cell:/home/rsalgo/Desktop/ATU/W23/PROGDAW2023/2progdaw23/project2.ipynb#X36sZmlsZQ%3D%3D?line=0'>1</a>\u001b[0m tempnoaa \u001b[39m=\u001b[39m pd\u001b[39m.\u001b[39;49mread_csv(\u001b[39m'\u001b[39;49m\u001b[39mdata/tempnoaadomec.txt\u001b[39;49m\u001b[39m'\u001b[39;49m)\n\u001b[1;32m      <a href='vscode-notebook-cell:/home/rsalgo/Desktop/ATU/W23/PROGDAW2023/2progdaw23/project2.ipynb#X36sZmlsZQ%3D%3D?line=1'>2</a>\u001b[0m tempnoaa\u001b[39m.\u001b[39mtail(\u001b[39m30\u001b[39m)\n",
      "File \u001b[0;32m~/anaconda3/envs/base_3.11/lib/python3.11/site-packages/pandas/io/parsers/readers.py:948\u001b[0m, in \u001b[0;36mread_csv\u001b[0;34m(filepath_or_buffer, sep, delimiter, header, names, index_col, usecols, dtype, engine, converters, true_values, false_values, skipinitialspace, skiprows, skipfooter, nrows, na_values, keep_default_na, na_filter, verbose, skip_blank_lines, parse_dates, infer_datetime_format, keep_date_col, date_parser, date_format, dayfirst, cache_dates, iterator, chunksize, compression, thousands, decimal, lineterminator, quotechar, quoting, doublequote, escapechar, comment, encoding, encoding_errors, dialect, on_bad_lines, delim_whitespace, low_memory, memory_map, float_precision, storage_options, dtype_backend)\u001b[0m\n\u001b[1;32m    935\u001b[0m kwds_defaults \u001b[39m=\u001b[39m _refine_defaults_read(\n\u001b[1;32m    936\u001b[0m     dialect,\n\u001b[1;32m    937\u001b[0m     delimiter,\n\u001b[0;32m   (...)\u001b[0m\n\u001b[1;32m    944\u001b[0m     dtype_backend\u001b[39m=\u001b[39mdtype_backend,\n\u001b[1;32m    945\u001b[0m )\n\u001b[1;32m    946\u001b[0m kwds\u001b[39m.\u001b[39mupdate(kwds_defaults)\n\u001b[0;32m--> 948\u001b[0m \u001b[39mreturn\u001b[39;00m _read(filepath_or_buffer, kwds)\n",
      "File \u001b[0;32m~/anaconda3/envs/base_3.11/lib/python3.11/site-packages/pandas/io/parsers/readers.py:617\u001b[0m, in \u001b[0;36m_read\u001b[0;34m(filepath_or_buffer, kwds)\u001b[0m\n\u001b[1;32m    614\u001b[0m     \u001b[39mreturn\u001b[39;00m parser\n\u001b[1;32m    616\u001b[0m \u001b[39mwith\u001b[39;00m parser:\n\u001b[0;32m--> 617\u001b[0m     \u001b[39mreturn\u001b[39;00m parser\u001b[39m.\u001b[39;49mread(nrows)\n",
      "File \u001b[0;32m~/anaconda3/envs/base_3.11/lib/python3.11/site-packages/pandas/io/parsers/readers.py:1748\u001b[0m, in \u001b[0;36mTextFileReader.read\u001b[0;34m(self, nrows)\u001b[0m\n\u001b[1;32m   1741\u001b[0m nrows \u001b[39m=\u001b[39m validate_integer(\u001b[39m\"\u001b[39m\u001b[39mnrows\u001b[39m\u001b[39m\"\u001b[39m, nrows)\n\u001b[1;32m   1742\u001b[0m \u001b[39mtry\u001b[39;00m:\n\u001b[1;32m   1743\u001b[0m     \u001b[39m# error: \"ParserBase\" has no attribute \"read\"\u001b[39;00m\n\u001b[1;32m   1744\u001b[0m     (\n\u001b[1;32m   1745\u001b[0m         index,\n\u001b[1;32m   1746\u001b[0m         columns,\n\u001b[1;32m   1747\u001b[0m         col_dict,\n\u001b[0;32m-> 1748\u001b[0m     ) \u001b[39m=\u001b[39m \u001b[39mself\u001b[39;49m\u001b[39m.\u001b[39;49m_engine\u001b[39m.\u001b[39;49mread(  \u001b[39m# type: ignore[attr-defined]\u001b[39;49;00m\n\u001b[1;32m   1749\u001b[0m         nrows\n\u001b[1;32m   1750\u001b[0m     )\n\u001b[1;32m   1751\u001b[0m \u001b[39mexcept\u001b[39;00m \u001b[39mException\u001b[39;00m:\n\u001b[1;32m   1752\u001b[0m     \u001b[39mself\u001b[39m\u001b[39m.\u001b[39mclose()\n",
      "File \u001b[0;32m~/anaconda3/envs/base_3.11/lib/python3.11/site-packages/pandas/io/parsers/c_parser_wrapper.py:234\u001b[0m, in \u001b[0;36mCParserWrapper.read\u001b[0;34m(self, nrows)\u001b[0m\n\u001b[1;32m    232\u001b[0m \u001b[39mtry\u001b[39;00m:\n\u001b[1;32m    233\u001b[0m     \u001b[39mif\u001b[39;00m \u001b[39mself\u001b[39m\u001b[39m.\u001b[39mlow_memory:\n\u001b[0;32m--> 234\u001b[0m         chunks \u001b[39m=\u001b[39m \u001b[39mself\u001b[39;49m\u001b[39m.\u001b[39;49m_reader\u001b[39m.\u001b[39;49mread_low_memory(nrows)\n\u001b[1;32m    235\u001b[0m         \u001b[39m# destructive to chunks\u001b[39;00m\n\u001b[1;32m    236\u001b[0m         data \u001b[39m=\u001b[39m _concatenate_chunks(chunks)\n",
      "File \u001b[0;32mparsers.pyx:843\u001b[0m, in \u001b[0;36mpandas._libs.parsers.TextReader.read_low_memory\u001b[0;34m()\u001b[0m\n",
      "File \u001b[0;32mparsers.pyx:904\u001b[0m, in \u001b[0;36mpandas._libs.parsers.TextReader._read_rows\u001b[0;34m()\u001b[0m\n",
      "File \u001b[0;32mparsers.pyx:879\u001b[0m, in \u001b[0;36mpandas._libs.parsers.TextReader._tokenize_rows\u001b[0;34m()\u001b[0m\n",
      "File \u001b[0;32mparsers.pyx:890\u001b[0m, in \u001b[0;36mpandas._libs.parsers.TextReader._check_tokenize_status\u001b[0;34m()\u001b[0m\n",
      "File \u001b[0;32mparsers.pyx:2058\u001b[0m, in \u001b[0;36mpandas._libs.parsers.raise_parser_error\u001b[0;34m()\u001b[0m\n",
      "\u001b[0;31mParserError\u001b[0m: Error tokenizing data. C error: Expected 1 fields in line 3, saw 2\n"
     ]
    }
   ],
   "source": [
    "tempnoaa = pd.read_csv('data/tempnoaadomec.txt')\n",
    "tempnoaa.tail(30)"
   ]
  },
  {
   "cell_type": "code",
   "execution_count": null,
   "metadata": {},
   "outputs": [],
   "source": []
  },
  {
   "cell_type": "code",
   "execution_count": null,
   "metadata": {},
   "outputs": [],
   "source": []
  },
  {
   "cell_type": "code",
   "execution_count": null,
   "metadata": {},
   "outputs": [],
   "source": []
  },
  {
   "cell_type": "code",
   "execution_count": null,
   "metadata": {},
   "outputs": [],
   "source": []
  },
  {
   "cell_type": "code",
   "execution_count": null,
   "metadata": {},
   "outputs": [],
   "source": []
  },
  {
   "cell_type": "code",
   "execution_count": null,
   "metadata": {},
   "outputs": [],
   "source": []
  },
  {
   "cell_type": "code",
   "execution_count": null,
   "metadata": {},
   "outputs": [],
   "source": []
  },
  {
   "cell_type": "code",
   "execution_count": null,
   "metadata": {},
   "outputs": [],
   "source": []
  },
  {
   "cell_type": "code",
   "execution_count": null,
   "metadata": {},
   "outputs": [],
   "source": []
  },
  {
   "cell_type": "code",
   "execution_count": null,
   "metadata": {},
   "outputs": [],
   "source": []
  },
  {
   "cell_type": "code",
   "execution_count": null,
   "metadata": {},
   "outputs": [],
   "source": []
  },
  {
   "cell_type": "code",
   "execution_count": null,
   "metadata": {},
   "outputs": [],
   "source": []
  },
  {
   "cell_type": "code",
   "execution_count": null,
   "metadata": {},
   "outputs": [],
   "source": []
  },
  {
   "cell_type": "code",
   "execution_count": null,
   "metadata": {},
   "outputs": [],
   "source": []
  },
  {
   "cell_type": "code",
   "execution_count": null,
   "metadata": {},
   "outputs": [],
   "source": []
  },
  {
   "cell_type": "code",
   "execution_count": null,
   "metadata": {},
   "outputs": [],
   "source": []
  },
  {
   "cell_type": "code",
   "execution_count": null,
   "metadata": {},
   "outputs": [],
   "source": []
  },
  {
   "cell_type": "code",
   "execution_count": null,
   "metadata": {},
   "outputs": [],
   "source": []
  },
  {
   "cell_type": "code",
   "execution_count": null,
   "metadata": {},
   "outputs": [],
   "source": []
  },
  {
   "cell_type": "code",
   "execution_count": null,
   "metadata": {},
   "outputs": [],
   "source": []
  },
  {
   "cell_type": "code",
   "execution_count": null,
   "metadata": {},
   "outputs": [],
   "source": []
  },
  {
   "cell_type": "code",
   "execution_count": null,
   "metadata": {},
   "outputs": [],
   "source": []
  },
  {
   "cell_type": "code",
   "execution_count": null,
   "metadata": {},
   "outputs": [],
   "source": []
  },
  {
   "cell_type": "code",
   "execution_count": null,
   "metadata": {},
   "outputs": [],
   "source": []
  },
  {
   "cell_type": "code",
   "execution_count": null,
   "metadata": {},
   "outputs": [],
   "source": []
  },
  {
   "cell_type": "code",
   "execution_count": null,
   "metadata": {},
   "outputs": [],
   "source": []
  },
  {
   "cell_type": "code",
   "execution_count": null,
   "metadata": {},
   "outputs": [],
   "source": []
  },
  {
   "cell_type": "code",
   "execution_count": null,
   "metadata": {},
   "outputs": [],
   "source": []
  },
  {
   "cell_type": "code",
   "execution_count": null,
   "metadata": {},
   "outputs": [],
   "source": []
  },
  {
   "cell_type": "code",
   "execution_count": null,
   "metadata": {},
   "outputs": [],
   "source": []
  },
  {
   "cell_type": "code",
   "execution_count": null,
   "metadata": {},
   "outputs": [],
   "source": []
  },
  {
   "cell_type": "code",
   "execution_count": null,
   "metadata": {},
   "outputs": [],
   "source": []
  },
  {
   "cell_type": "code",
   "execution_count": null,
   "metadata": {},
   "outputs": [],
   "source": []
  },
  {
   "cell_type": "code",
   "execution_count": null,
   "metadata": {},
   "outputs": [],
   "source": []
  },
  {
   "cell_type": "code",
   "execution_count": null,
   "metadata": {},
   "outputs": [],
   "source": []
  },
  {
   "cell_type": "code",
   "execution_count": null,
   "metadata": {},
   "outputs": [],
   "source": []
  },
  {
   "cell_type": "code",
   "execution_count": null,
   "metadata": {},
   "outputs": [],
   "source": []
  },
  {
   "cell_type": "code",
   "execution_count": null,
   "metadata": {},
   "outputs": [],
   "source": []
  },
  {
   "cell_type": "code",
   "execution_count": null,
   "metadata": {},
   "outputs": [],
   "source": []
  },
  {
   "cell_type": "code",
   "execution_count": null,
   "metadata": {},
   "outputs": [],
   "source": []
  },
  {
   "cell_type": "code",
   "execution_count": null,
   "metadata": {},
   "outputs": [],
   "source": []
  },
  {
   "cell_type": "code",
   "execution_count": null,
   "metadata": {},
   "outputs": [],
   "source": []
  },
  {
   "cell_type": "code",
   "execution_count": null,
   "metadata": {},
   "outputs": [],
   "source": []
  },
  {
   "cell_type": "code",
   "execution_count": null,
   "metadata": {},
   "outputs": [],
   "source": []
  },
  {
   "cell_type": "code",
   "execution_count": null,
   "metadata": {},
   "outputs": [],
   "source": []
  },
  {
   "cell_type": "code",
   "execution_count": null,
   "metadata": {},
   "outputs": [],
   "source": []
  },
  {
   "cell_type": "code",
   "execution_count": null,
   "metadata": {},
   "outputs": [],
   "source": []
  },
  {
   "cell_type": "code",
   "execution_count": null,
   "metadata": {},
   "outputs": [],
   "source": []
  },
  {
   "cell_type": "code",
   "execution_count": null,
   "metadata": {},
   "outputs": [],
   "source": []
  },
  {
   "cell_type": "code",
   "execution_count": null,
   "metadata": {},
   "outputs": [],
   "source": []
  },
  {
   "cell_type": "code",
   "execution_count": null,
   "metadata": {},
   "outputs": [],
   "source": []
  },
  {
   "cell_type": "code",
   "execution_count": null,
   "metadata": {},
   "outputs": [],
   "source": []
  },
  {
   "cell_type": "code",
   "execution_count": null,
   "metadata": {},
   "outputs": [],
   "source": []
  },
  {
   "cell_type": "code",
   "execution_count": null,
   "metadata": {},
   "outputs": [],
   "source": []
  },
  {
   "cell_type": "code",
   "execution_count": null,
   "metadata": {},
   "outputs": [],
   "source": []
  },
  {
   "cell_type": "code",
   "execution_count": null,
   "metadata": {},
   "outputs": [],
   "source": []
  },
  {
   "cell_type": "code",
   "execution_count": null,
   "metadata": {},
   "outputs": [],
   "source": []
  },
  {
   "cell_type": "code",
   "execution_count": null,
   "metadata": {},
   "outputs": [],
   "source": []
  },
  {
   "cell_type": "code",
   "execution_count": null,
   "metadata": {},
   "outputs": [],
   "source": []
  },
  {
   "cell_type": "code",
   "execution_count": null,
   "metadata": {},
   "outputs": [],
   "source": []
  },
  {
   "cell_type": "markdown",
   "metadata": {},
   "source": [
    "# 3.0 Analysis\n",
    "\n",
    "## 3.1 "
   ]
  },
  {
   "cell_type": "code",
   "execution_count": null,
   "metadata": {},
   "outputs": [],
   "source": []
  },
  {
   "cell_type": "code",
   "execution_count": null,
   "metadata": {},
   "outputs": [],
   "source": []
  },
  {
   "cell_type": "code",
   "execution_count": null,
   "metadata": {},
   "outputs": [],
   "source": []
  },
  {
   "cell_type": "code",
   "execution_count": null,
   "metadata": {},
   "outputs": [],
   "source": []
  },
  {
   "cell_type": "code",
   "execution_count": null,
   "metadata": {},
   "outputs": [],
   "source": []
  },
  {
   "cell_type": "code",
   "execution_count": null,
   "metadata": {},
   "outputs": [],
   "source": []
  },
  {
   "cell_type": "code",
   "execution_count": null,
   "metadata": {},
   "outputs": [],
   "source": []
  },
  {
   "cell_type": "code",
   "execution_count": null,
   "metadata": {},
   "outputs": [],
   "source": []
  },
  {
   "cell_type": "markdown",
   "metadata": {},
   "source": [
    "## 4.0 Conclusions"
   ]
  },
  {
   "cell_type": "markdown",
   "metadata": {},
   "source": [
    "## 5.0 References"
   ]
  },
  {
   "cell_type": "markdown",
   "metadata": {},
   "source": []
  },
  {
   "cell_type": "code",
   "execution_count": null,
   "metadata": {},
   "outputs": [],
   "source": [
    "***\n",
    "\n",
    "## End of Project 2"
   ]
  }
 ],
 "metadata": {
  "kernelspec": {
   "display_name": "base_3.11",
   "language": "python",
   "name": "python3"
  },
  "language_info": {
   "codemirror_mode": {
    "name": "ipython",
    "version": 3
   },
   "file_extension": ".py",
   "mimetype": "text/x-python",
   "name": "python",
   "nbconvert_exporter": "python",
   "pygments_lexer": "ipython3",
   "version": "3.11.5"
  }
 },
 "nbformat": 4,
 "nbformat_minor": 2
}
