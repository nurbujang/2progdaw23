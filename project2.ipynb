{
 "cells": [
  {
   "cell_type": "markdown",
   "metadata": {},
   "source": [
    "# Project 2 Programming for Data Analysis Winter 2023 \n",
    "\n",
    "**Author: Nur Bujang**\n",
    "\n",
    "project2.ipynb\n",
    "***"
   ]
  },
  {
   "cell_type": "markdown",
   "metadata": {},
   "source": [
    "## Table of Content for project2.ipynb\n",
    "\n",
    "* Project Instruction\n",
    "\n",
    "* Project Title: An Analysis Of Paleo-Present Climate Data\n",
    "\n",
    "* Abstract\n",
    "\n",
    "* 1.0 Background\n",
    "\n",
    "    * 1.1 Climate Change\n",
    "\n",
    "    * 1.2 Global Warming\n",
    "\n",
    "    * 1.3 Links Between CO<sub>2</sub>, Temperature, CH<sub>4</sub> And Precipitation In Climate Change\n",
    "\n",
    "        * 1.3.1 CO<sub>2</sub>\n",
    "\n",
    "        * 1.3.2 Temperature\n",
    "\n",
    "        * 1.3.3 CH<sub>4</sub>\n",
    "\n",
    "        * 1.3.4 Ireland's Temperature And Precipitation\n",
    "\n",
    "* 2.0 Methods and Implementation\n",
    "\n",
    "    * 2.1 CO<sub>2</sub> vs Temperature Anomaly From 822kya To Present\n",
    "\n",
    "        * 2.1.1 CO<sub>2</sub>\n",
    "\n",
    "        * 2.1.2 Temperature\n",
    "\n",
    "    * 2.2 CH<sub>4</sub> Anomaly From 822kya To Present\n",
    "\n",
    "    * 2.3 Irish Context: Climate Change Signal\n",
    "\n",
    "        * 2.3.1 Ireland's Temperature\n",
    "\n",
    "        * 2.3.2 Ireland's Precipitation\n",
    "\n",
    "    * 2.4 Data Fusion To csv And json\n",
    "\n",
    "    * 2.5 Analysis Of CO<sub>2</sub>, Temperature, CH<sub>4</sub> and Precipitation\n",
    "\n",
    "        * 2.5.1 Pearson Correlation\n",
    "\n",
    "        * 2.5.2 Trend Analysis\n",
    "            \n",
    "            * 2.5.2.1 Mann-Kendall Test With MK Z Statistic\n",
    "\n",
    "            * 2.5.2.2 Fast Fourier Transform (FFT)\n",
    "\n",
    "            * 2.5.2.3 Multi-Seasonal Time Series Decomposition for Ireland's Temperature and Precipitation\n",
    "\n",
    "            * 2.5.2.4 Ireland's Annual Temperature Signal to Noise Ratio (SNR)\n",
    "\n",
    "        * 2.5.3 Temporal Lead/Lag Analysis\n",
    "\n",
    "            * 2.5.3.1 The Granger Causality Test\n",
    "\n",
    "            * 2.5.3.2 Autocorrelation Function (ACF) and Partial Autocorrelation Function (PACF)\n",
    "\n",
    "            * 2.5.3.3 Time Lagged Cross-Correlation Analysis\n",
    "\n",
    "        * 2.5.4 Global Temperature Anomaly Prediction\n",
    "\n",
    "        * 2.5.5 Accelerated Warming\n",
    "\n",
    "* 4.0 Conclusions\n",
    "\n",
    "* 5.0 References"
   ]
  },
  {
   "cell_type": "markdown",
   "metadata": {
    "vscode": {
     "languageId": "plaintext"
    }
   },
   "source": [
    "### Project Instruction:\n",
    "\n",
    "> Analyse CO2 vs Temperature Anomaly from 800kyrs – present.\n",
    "\n",
    "> Examine one other (paleo/modern) features (e.g. CH4 or polar ice-coverage)\n",
    "\n",
    "> Examine Irish context:\n",
    "\n",
    "    > Climate change signals: (see Maynooth study: The emergence of a climate change signal in long-term Irish meteorological observations - ScienceDirect)\n",
    "\n",
    "> Fuse and analyse data from various data sources and format fused data set as a pandas dataframe and export to csv and json formats\n",
    "\n",
    "> For all of the above variables, analyse the data, the trends and the relationships between them (temporal leads/lags/frequency analysis).\n",
    "\n",
    "> Predict global temperature anomaly over next few decades (synthesise data) and compare to published climate models if atmospheric CO2 trends continue\n",
    "\n",
    "> Comment on accelerated warming based on very latest features (e.g. temperature/polar-ice-coverage)"
   ]
  },
  {
   "cell_type": "markdown",
   "metadata": {},
   "source": [
    "comment: **are the data that u see outside of normal noise or within? if outside, there's a signal happening in data, not just some random effects of noise**"
   ]
  },
  {
   "cell_type": "markdown",
   "metadata": {
    "vscode": {
     "languageId": "plaintext"
    }
   },
   "source": [
    "# Project Title: **An Analysis Of Paleo-Present Climate Data**\n",
    "\n",
    "## Abstract\n",
    "\n",
    "A complete dataset containing CO<sub>2</sub>, temperature, temperature anomaly, CH<sub>4</sub> from 822kya to present and Ireland's temperature and precipitation were saved into df_all.csv and df_all.json. Luthi et al. 2008's CO<sub>2</sub> dataset is not a subset of the IPCC Report, with the latter showing the presence of gas age revision. Time (Gas age) adjustment in AICC2012 shifted the temperature values from 822kya to 400kya when compared to NOAA NCEI dataset. Temperature anomaly from Jouzel-AICC paper was derived from NOAA. Pearson Correlation shows that CO<sub>2</sub> has a high positive correlation with CH<sub>4</sub> and temperature, and a high negative correlation with Irish temperature. The Mann-Kendall Test shows significant increasing trends in CO<sub>2</sub>, temperature, temperature anomaly, CH<sub>4</sub>, while Ireland's temperature and precipitation show decreasing trends over time. Fast Fourier Transform (FFT) shows that for CO<sub>2</sub>, CH<sub>4</sub> and temperature, there is a significant dominant frequency occuring every 10000 years and a lesser magnitude one every 25000 years. Multi-Seasonal Time Series Decomposition for Ireland's temperature and precipitation shows the presence of the seasonal effect, but the temperature and precipitation have remained relatively constant over the years. Ireland's Temperature Signal to Noise Ratio (SNR)\n",
    "\n",
    "The Granger Causality Test indicate a a causal relationship between CO<sub>2</sub> and temperature, between temperature and CH<sub>04</sub>, and CO<sub>2</sub> correlates with a rise in CH<sub>4</sub>. Autocorrelation Function (ACF) values are significant for temperature, CO<sub>2</sub> and CH<sub>4</sub> for lags up to 12000years, 15000 years and 11000 years, respectively. Partial Autocorrelation Function (PACF) values for temperature, CO<sub>2</sub> and CH<sub>4</sub> are statistically significant until lag=1000 years. The autocorrelation between Irish temperature and precipitation and their lagged versions decrease over time. Time Lagged Cross-Correlation Analysis shows that CO<sub>2</sub> X temperature, and temperature X CH<sub>4</sub>exhibit negative cross-correlation towards present time, but CO<sub>2</sub> and CH<sub>4</sub> exhibit stronger positive cross-correlation towards present time, as well as a positive cross-correlation between Ireland's temperature and precipitation towards present time. Global temperature anomaly prediction shows that it will increase over time, if the atmospheric CO<sub>2</sub> trend keeps increasing. There is an accelerated increase of CO<sub>2</sub>, temperature, temperature anomaly, CH<sub>4</sub> and Ireland's temperature and precipitation over the last 200 years, although there is no indication of accelerated warming based on data from the last 5 years."
   ]
  },
  {
   "cell_type": "markdown",
   "metadata": {
    "vscode": {
     "languageId": "plaintext"
    }
   },
   "source": [
    "## 1.0 Background\n",
    "\n",
    "### 1.1 Climate Change\n",
    "\n",
    "Climate is characterized by long-term patterns in temperature, humidity, winds, rainfall and extreme weather frequency. Climate change refers to significant and persistent changes in the local, regional and global climate pattern (NASA, 2023b). According to United Nations (2023) and NASA (2023a), the impacts of climate change include rising sea levels, catastrophic and frequent floods and droughts and melting polar ice. \n",
    "\n",
    "### 1.2 Global Warming\n",
    "Global warming is a specific aspect of climate change defined by the abnormally-accelerated increase in Earth's average surface temperature due to human activity (Riebeek, 2010). This surface temperature increase has been observed since the pre-industrial period, mostly due to greenhouse gasses from fossil fuel burning (NASA, 2023b). According to United States Environmental Protection Agency (2017), examples of greenhouse gases include carbon dioxide(CO<sub>2</sub>), nitrous oxide(N<sub>2</sub>O), methane (CH<sub>4</sub>) and sulfur hexafluoride (SF<sub>6</sub>).\n",
    "\n",
    "### 1.3 Links Between CO<sub>2</sub>, Temperature, CH<sub>4</sub> And Precipitation In Climate Change\n",
    "\n",
    "The interrelationships between atmospheric carbon dioxide (CO<sub>2</sub>), methane (CH<sub>4</sub>), temperature, and precipitation is intricate and play a vital role in the complex system of climate change. The greenhouse gases (CO<sub>2</sub> and CH<sub>4</sub>) trap heat in the Earth's atmosphere by absorbing and re-emitting infrared radiation back toward Earth's surface (www.ces.fau.edu, n.d.). This Greenhouse Effect results in a rise in average global temperatures, impacting various components of the Earth's climate system. \n",
    "\n",
    "These warmer temperatures affect the atmospheric circulation and moisture patterns through intensification of the water cycle where warmer air holds more moisture (Wikipedia, 2023). This shifts in rainfall and precipitation distribution patterns leads to intense and frequent extreme weather events, such as heavy rainfall, storms, heatwaves and droughts (Understanding Global Change, n.d., Dore, 2005, www.eea.europa.eu, n.d.).\n",
    "\n",
    "Changes in temperature and precipitation can also create an ice-albedo feedback, where the reduction Earth's albedo (reflectivity) from ice and snow melt caused by warmer temperatures leads to more absorption of solar radiation, thus further warming the planet (CIRES Education and Outreach at CU Boulder, n.d.).\n",
    "\n",
    "#### 1.3.1 Atmospheric CO<sub>2</sub>\n",
    "\n",
    "According to Berner (1991), atmospheric CO<sub>2</sub> dictates the world climate on geological time magnitude. Results from ice-core data show that atmospheric CO<sub>2</sub> concentrations were significantly lower between 650kyr and 750kyr compared to the present day (Lüthi et al., 2008). A few years later, Bereiter et al. (2015) followed up with a corrected 442–816kyr portion of the EPICA Dome C CO<sub>2</sub> data.\n",
    "\n",
    "According to Hertzberg and Schreuder (2016), there has been a steady increase in the average atmospheric CO<sub>2</sub> concentration from 280ppmv to 400ppmv over the last two centuries. Data from atmospheric CO<sub>2</sub> concentration collected at  at Mauna Loa Observatory, Hawaii shows a linear trend from 315ppm in 1959 to 425ppm in 2022 (NOAA, 2023).\n",
    "\n",
    "#### 1.3.2 Temperature\n",
    "\n",
    "Results from high-resolution deuterium measurements of ice core data show that based on 100-year mean values over the past 800kyr, surface temperature increased ~15°C (Jouzel et al., 2007). Parrenin et al. (2013) found that atmospheric CO<sub>2</sub> and surface air temperature move synchronously for most part from 800kyr to the present time eventhough Fischer et al. (1999), Monnin et al. (2001) and Lourantou et al. (2010) reported that atmospheric CO<sub>2</sub> lags behind temperature by a few hundred years. However, Hertzberg and Schreuder (2016) noticed that temperature changes always precedes atmospheric CO<sub>2</sub> changes by several hundred to a thousand years, thus suggesting that temperature change causes CO<sub>2</sub>, and not vice versa. \n",
    "\n",
    "Chen et al. (2023) reported a correlation between atmospheric CO<sub>2</sub> and temperature. Earlier, Kang and Larsson (2013) reported a feedback system where temperature and CO<sub>2</sub> Granger-cause each other in both directions.\n",
    "\n",
    "#### 1.3.3 Atmospheric CH<sub>4</sub>\n",
    "\n",
    "Petit et al. (1999) reported that CO<sub>2</sub> and CH<sub>4</sub> concentrations follow the same trend for each glacial cycle. Monnin et al. (2001) reported that eventough the reasons behind CH<sub>4</sub> concentrations variations are different from CO<sub>2</sub>, in general, CO<sub>2</sub> and CH<sub>4</sub> increase are parallel with each other. There is also a high correlation between temperature and CH<sub>4</sub> in the past (Spahni et al., 2005). Using Granger causality analysis, temperature, CO<sub>2</sub> and CH<sub>4</sub> bidirectionally Granger-cause each other, where one's increase causes an increase in the other in a feedback system (Larsson and Persson, 2023).\n",
    "\n",
    "#### 1.3.4 Ireland's Temperature And Precipitation\n",
    "\n",
    "An analysis of a homogenized Island of Ireland Precipitation (IIP) data from 1850–2010 to study long-term rainfall series in Ireland found an increasing pattern or upward trend in the amount of precipitation (rainfall or snowfall) during the winter months, while a negative or decreasing pattern was found in the amount of precipitation during the summer months (Noone et al., 2016). \n",
    "\n",
    "Long-term air temperature series data for Ireland between 1831-1968 was reconstructed by Mateus, Potito and Curley (2020) and between 1885–2018 (Mateus and Potito, 2021). Subsequent analysis between 1885 to 2018 found significant air temperature increase in all seasons, especially spring and autumn and significant air temperature decrease during cold days, cold nights and frost days (Mateus and Potito, 2022).\n",
    "\n",
    "Later, Murphy et al. (2023a) found that Dublin-based stations show a maximum increase of 1.14°C in the annual mean temperature for every 1°C increase in the global mean surface temperature and increase in extremely heavy rainfall were recorded for 30% of stations. Such temperature increase would result in higher a risk of river and groundwater flooding in Ireland (Murphy et al., 2023b)."
   ]
  },
  {
   "cell_type": "markdown",
   "metadata": {},
   "source": [
    "## 2.0 Methods and Implementation\n",
    "\n",
    "### 2.1 CO<sub>2</sub> vs Temperature Anomaly From 822kya To Present\n",
    "\n",
    "#### 2.1.1 CO<sub>2</sub>\n",
    "\n",
    "Data for CO<sub>2</sub> was a composite of Chen et al. (2023) and Lan, Tans and Thoning (2023)."
   ]
  },
  {
   "cell_type": "code",
   "execution_count": 236,
   "metadata": {},
   "outputs": [],
   "source": [
    "import pandas as pd\n",
    "import numpy as np\n",
    "import plotly.express as px\n",
    "import plotly.graph_objects as go\n",
    "from plotly.subplots import make_subplots\n",
    "import matplotlib.pyplot as plt\n",
    "import seaborn as sb\n",
    "import pymannkendall as mk\n",
    "from scipy.fft import fft, fftfreq\n",
    "from statsmodels.tsa.seasonal import seasonal_decompose\n",
    "from statsmodels.tsa.stattools import grangercausalitytests\n",
    "from statsmodels.graphics.tsaplots import plot_acf, plot_pacf\n",
    "from scipy.signal import correlate\n",
    "from sklearn.linear_model import LinearRegression\n",
    "from sklearn.model_selection import train_test_split\n",
    "from sklearn.metrics import mean_squared_error\n",
    "from statsmodels.nonparametric.smoothers_lowess import lowess\n",
    "import datetime\n",
    "import warnings\n",
    "warnings.filterwarnings('ignore')"
   ]
  },
  {
   "cell_type": "markdown",
   "metadata": {},
   "source": [
    "#### CO<sub>2</sub> pre 2001"
   ]
  },
  {
   "cell_type": "markdown",
   "metadata": {},
   "source": [
    "CO<sub>2</sub> was imported from IPCC report (Chen et al., 2023), and the relevant columns were selected with iloc (Pandas.pydata.org iloc, n.d.)."
   ]
  },
  {
   "cell_type": "code",
   "execution_count": null,
   "metadata": {},
   "outputs": [],
   "source": [
    "df_co2_pre2001 = pd.read_csv('data/co2/coipcc800kyr-2001.csv')\n",
    "df_co2_pre2001.head(3)"
   ]
  },
  {
   "cell_type": "code",
   "execution_count": null,
   "metadata": {},
   "outputs": [],
   "source": [
    "df_co2_pre2001 = df_co2_pre2001.iloc[:, :2].copy() # select columns 1 and 2 only\n",
    "df_co2_pre2001.head(3)"
   ]
  },
  {
   "cell_type": "markdown",
   "metadata": {},
   "source": [
    "Because negative years does not exist, numpy negative was used because the age scale was years before 1950 (Numpy.org numpy.negative, n.d.)."
   ]
  },
  {
   "cell_type": "code",
   "execution_count": null,
   "metadata": {},
   "outputs": [],
   "source": [
    "df_co2_pre2001['year'] = (np.negative(df_co2_pre2001['Gasage (yr BP) '])\n",
    "                          + 1950)\n",
    "df_co2_pre2001.head(3)"
   ]
  },
  {
   "cell_type": "markdown",
   "metadata": {},
   "source": [
    "Column was renamed as shown in Pandas.pydata.org rename (n.d.)."
   ]
  },
  {
   "cell_type": "code",
   "execution_count": null,
   "metadata": {},
   "outputs": [],
   "source": [
    "df_co2_pre2001.rename(columns={'co2 (ppmv)': 'co2 ppmv ipcc'}, \n",
    "                    inplace=True)\n",
    "df_co2_pre2001.head(3)"
   ]
  },
  {
   "cell_type": "code",
   "execution_count": null,
   "metadata": {},
   "outputs": [],
   "source": [
    "df_co2_pre2001 = df_co2_pre2001[['year','co2 ppmv ipcc']].copy()\n",
    "df_co2_pre2001.head(3)"
   ]
  },
  {
   "cell_type": "markdown",
   "metadata": {},
   "source": [
    "CO<sub>2</sub> was imported from Lüthi et al. (2008)."
   ]
  },
  {
   "cell_type": "code",
   "execution_count": null,
   "metadata": {},
   "outputs": [],
   "source": [
    "df_co2_luthi = pd.read_csv('data/co2/coluthi.csv')\n",
    "df_co2_luthi.head(3)"
   ]
  },
  {
   "cell_type": "code",
   "execution_count": null,
   "metadata": {},
   "outputs": [],
   "source": [
    "df_co2_luthi.rename(columns={'co2 (ppmv)': 'co2 ppmv luthi'}, \n",
    "                    inplace=True)\n",
    "df_co2_luthi.head(3)"
   ]
  },
  {
   "cell_type": "markdown",
   "metadata": {},
   "source": [
    "Numpy negative was used because the age scale was years before 1950 (Numpy.org numpy.negative, n.d.)."
   ]
  },
  {
   "cell_type": "code",
   "execution_count": null,
   "metadata": {},
   "outputs": [],
   "source": [
    "df_co2_luthi['year'] = (np.negative(df_co2_luthi['EDC3_gas_a (yr)'])\n",
    "                          + 1950)\n",
    "df_co2_luthi.head(3)"
   ]
  },
  {
   "cell_type": "code",
   "execution_count": null,
   "metadata": {},
   "outputs": [],
   "source": [
    "df_co2_luthi = df_co2_luthi[['year','co2 ppmv luthi']].copy()\n",
    "df_co2_luthi.head(3)"
   ]
  },
  {
   "cell_type": "markdown",
   "metadata": {},
   "source": [
    "Pandas concat was used to combine dataframe objects (Pandas.pydata.org concat, n.d.)."
   ]
  },
  {
   "cell_type": "code",
   "execution_count": null,
   "metadata": {},
   "outputs": [],
   "source": [
    "df_co2_ipcc_vs_luthi = pd.concat([df_co2_pre2001, \n",
    "                        df_co2_luthi\n",
    "])\n",
    "df_co2_ipcc_vs_luthi.head(3)"
   ]
  },
  {
   "cell_type": "markdown",
   "metadata": {},
   "source": [
    "A scatter plot was generated to visualise the data according to Plotly.com express.scatter (n.d.) and Plotly.com Scatter Plots (n.d.). "
   ]
  },
  {
   "cell_type": "code",
   "execution_count": null,
   "metadata": {},
   "outputs": [],
   "source": [
    "px.scatter(df_co2_ipcc_vs_luthi.sort_values('year', ascending=True), \n",
    "        x='year', \n",
    "        y=['co2 ppmv ipcc', 'co2 ppmv luthi'], \n",
    "        width=1200,\n",
    "        title=\"Comparison of CO2 Dataset from IPCC Report and Luthi et al. 2008\"\n",
    "        )"
   ]
  },
  {
   "cell_type": "markdown",
   "metadata": {},
   "source": [
    "The CO<sub>2</sub> dataset from Luthi et al. 2008 is not a subset of the IPCC Report. Values between 17.80kyr and 111.86kyr are different from one another. Similarities in CO<sub>2</sub> values between the two dataset suggests a gas age revision in IPCC Report, as seen from 154.5-218.2kyr, 332.9-389.9kyr and 689.6-822kya."
   ]
  },
  {
   "cell_type": "code",
   "execution_count": null,
   "metadata": {},
   "outputs": [],
   "source": [
    "# Standardise CO2 columns\n",
    "\n",
    "df_co2_pre2001.rename(columns={'co2 ppmv ipcc': 'co2 ppmv'}, \n",
    "                    inplace=True)\n",
    "\n",
    "df_co2_luthi.rename(columns={'co2 ppmv luthi': 'co2 ppmv'}, \n",
    "                    inplace=True)"
   ]
  },
  {
   "cell_type": "markdown",
   "metadata": {},
   "source": [
    "#### CO<sub>2</sub> post 2001"
   ]
  },
  {
   "cell_type": "code",
   "execution_count": null,
   "metadata": {},
   "outputs": [],
   "source": [
    "df_co2_post2001 = pd.read_csv('data/co2/conoaa1979-2022.csv', skiprows=37)\n",
    "df_co2_post2001.head(3)"
   ]
  },
  {
   "cell_type": "code",
   "execution_count": null,
   "metadata": {},
   "outputs": [],
   "source": [
    "df_co2_post2001 = df_co2_post2001.iloc[:, :2].copy()\n",
    "df_co2_post2001.rename(columns={'mean': 'co2 ppmv'}, inplace=True)\n",
    "df_co2_post2001.tail(3)"
   ]
  },
  {
   "cell_type": "markdown",
   "metadata": {},
   "source": [
    "#### CO<sub>2</sub> complete\n",
    "\n",
    "The complete CO<sub>2</sub> dataset was merged from three sources using Pandas.pydata.org merge (n.d.)."
   ]
  },
  {
   "cell_type": "code",
   "execution_count": null,
   "metadata": {},
   "outputs": [],
   "source": [
    "df_co2_all = [df_co2_pre2001[['year', 'co2 ppmv']].rename(columns={'co2 ppmv': 'co2 ppmv pre2001'}), \n",
    "               df_co2_luthi[['year', 'co2 ppmv']].rename(columns={'co2 ppmv': 'co2 ppmv luthi'}), \n",
    "               df_co2_post2001[['year','co2 ppmv']].rename(columns={'co2 ppmv': 'co2 ppmv post2001'})\n",
    "               ]\n",
    "df_co2_all[0].head(3)"
   ]
  },
  {
   "cell_type": "code",
   "execution_count": null,
   "metadata": {},
   "outputs": [],
   "source": [
    "df_co2_all[1].head(3) "
   ]
  },
  {
   "cell_type": "code",
   "execution_count": null,
   "metadata": {},
   "outputs": [],
   "source": [
    "df_co2_all[2].head(3)"
   ]
  },
  {
   "cell_type": "code",
   "execution_count": null,
   "metadata": {},
   "outputs": [],
   "source": [
    "df_co2_all_0_1 = df_co2_all[0].merge(df_co2_all[1], left_on='year', right_on='year', how='outer')\n",
    "df_co2_all_0_1.head(3)"
   ]
  },
  {
   "cell_type": "code",
   "execution_count": null,
   "metadata": {},
   "outputs": [],
   "source": [
    "df_co2_all_0_2 = df_co2_all_0_1.merge(df_co2_all[2], left_on='year', right_on='year', how='outer')\n",
    "df_co2_all_0_2.head(3)"
   ]
  },
  {
   "cell_type": "markdown",
   "metadata": {},
   "source": [
    "After the column names were defined, a column was created containing the mean CO<sub>2</sub> values from all three sources (Pandas.pydata.org mean, n.d.)."
   ]
  },
  {
   "cell_type": "code",
   "execution_count": null,
   "metadata": {},
   "outputs": [],
   "source": [
    "co2_columns = [c for c in df_co2_all_0_2.columns if c.startswith('co2')]\n",
    "co2_columns"
   ]
  },
  {
   "cell_type": "code",
   "execution_count": null,
   "metadata": {},
   "outputs": [],
   "source": [
    "df_co2_all_0_2['co2 mean'] = df_co2_all_0_2[co2_columns].mean(axis=1)\n",
    "df_co2_all_0_2.head(3)"
   ]
  },
  {
   "cell_type": "markdown",
   "metadata": {},
   "source": [
    "Because it is impossible to have a negative time value, the column year was sorted according to Pandas.pydata.org sort_values (n.d.). The oldest time point for all the datasets in this project was 819888 years ago from Jouzel et al. (2007)-AICC dataset, and reset as time 0. "
   ]
  },
  {
   "cell_type": "code",
   "execution_count": null,
   "metadata": {},
   "outputs": [],
   "source": [
    "df_co2_all_0_2.sort_values('year', inplace=True)\n",
    "df_co2_all_0_2.reset_index(drop=True, inplace=True)\n",
    "df_co2_all_0_2.head(3)"
   ]
  },
  {
   "cell_type": "markdown",
   "metadata": {},
   "source": [
    "The oldest time point at 819888 before year zero (821911 years before 2023) from Jouzel et al. (2007)-AICC dataset was reset as time 0."
   ]
  },
  {
   "cell_type": "code",
   "execution_count": null,
   "metadata": {},
   "outputs": [],
   "source": [
    "# reset based on 821911 years ago as 0\n",
    "\n",
    "df_co2_all_0_2['year reset'] = df_co2_all_0_2['year'] + 16169.13 + np.negative(df_co2_all_0_2['year'].min()) \n",
    "df_co2_all_0_2.head(3)"
   ]
  },
  {
   "cell_type": "code",
   "execution_count": null,
   "metadata": {},
   "outputs": [],
   "source": [
    "df_co2_all_0_2.tail(3)"
   ]
  },
  {
   "cell_type": "code",
   "execution_count": null,
   "metadata": {},
   "outputs": [],
   "source": [
    "df_co2_all_0_2.set_index('year reset', inplace=True, drop=True)\n",
    "df_co2_all_0_2.head(3)"
   ]
  },
  {
   "cell_type": "code",
   "execution_count": null,
   "metadata": {},
   "outputs": [],
   "source": [
    "type(df_co2_all_0_2) "
   ]
  },
  {
   "cell_type": "markdown",
   "metadata": {},
   "source": [
    "#### 2.1.2 Temperature\n",
    "\n",
    "Data for temperature was a composite of National Centers for Environmental Information (NOAA NCEI, n.d.), Jouzel and Masson‐Delmotte (2007) versions of Jouzel et al. (2007) and NOAA NCEI (2023b). The 20th century global average temperature is 13.9°C (57.0°F) NOAA NCEI (2023a).\n",
    "\n",
    "In the tempnoaajoudelt2000-801662 dataset (Jouzel and Masson‐Delmotte, 2007), $\\delta$ T is the temperature difference from the average of the last 1000 years in °C, with corrections (Bintanja, van de Wal and Oerlemans, 2005, Parrenin et al., 2007). The dataset tempjouzelaicc2000-800kyr from AICC12 has a different ice core chronology and timescale."
   ]
  },
  {
   "cell_type": "markdown",
   "metadata": {},
   "source": [
    "#### Temperature pre 2005"
   ]
  },
  {
   "cell_type": "code",
   "execution_count": null,
   "metadata": {},
   "outputs": [],
   "source": [
    "# Temperature from Jouzel-AICC\n",
    "\n",
    "df_temp_joai = pd.read_csv('data/at/tempjouzelaicc2005-800kyr.csv')\n",
    "df_temp_joai.head(3)"
   ]
  },
  {
   "cell_type": "code",
   "execution_count": null,
   "metadata": {},
   "outputs": [],
   "source": [
    "df_temp_joai.rename(columns={'temp': 'temp k'}, inplace=True)\n",
    "df_temp_joai.head(3)"
   ]
  },
  {
   "cell_type": "code",
   "execution_count": null,
   "metadata": {},
   "outputs": [],
   "source": [
    "df_temp_joai['temp c'] = df_temp_joai['temp k'] - 273.15\n",
    "df_temp_joai.head(3)"
   ]
  },
  {
   "cell_type": "code",
   "execution_count": null,
   "metadata": {},
   "outputs": [],
   "source": [
    "df_temp_joai['edc year'] = (np.negative(df_temp_joai['EDC3béta'])\n",
    "                          + 1950)\n",
    "df_temp_joai.head(3)"
   ]
  },
  {
   "cell_type": "code",
   "execution_count": null,
   "metadata": {},
   "outputs": [],
   "source": [
    "df_temp_joai['aicc year'] = (np.negative(df_temp_joai['AICC2012'])\n",
    "                          + 1950)\n",
    "df_temp_joai.head(3)"
   ]
  },
  {
   "cell_type": "markdown",
   "metadata": {},
   "source": [
    "A scatter plot was generated to visualise the data according to Plotly.com express.scatter (n.d.) and Plotly.com Scatter Plots (n.d.). "
   ]
  },
  {
   "cell_type": "code",
   "execution_count": null,
   "metadata": {},
   "outputs": [],
   "source": [
    "px.scatter(df_temp_joai, x=['edc year', 'aicc year'], y='temp c', width=1200, \n",
    "           title=\"Comparison of Temperature Data from Jouzel et al. (2007)-AICC and NOAA NCEI (2023b)\"\n",
    "           )"
   ]
  },
  {
   "cell_type": "markdown",
   "metadata": {},
   "source": [
    "Time (Gas age) adjustment in AICC2012 shifted the temperature values from 822kya to 400kya. The temperature and time from 400kya to present remain the same.\n",
    "\n",
    "Henceforth, gas age from AICC will be used as time unit."
   ]
  },
  {
   "cell_type": "code",
   "execution_count": null,
   "metadata": {},
   "outputs": [],
   "source": [
    "df_temp_joai.rename(columns={'aicc year': 'year'}, inplace=True)\n",
    "df_temp_joai.head(3)"
   ]
  },
  {
   "cell_type": "code",
   "execution_count": null,
   "metadata": {},
   "outputs": [],
   "source": [
    "df_temp_joai.sort_values(['year'], inplace=True)"
   ]
  },
  {
   "cell_type": "code",
   "execution_count": null,
   "metadata": {},
   "outputs": [],
   "source": [
    "# Temperature from NOAA (NOAA NCEI, n.d.)\n",
    "\n",
    "df_temp_noaanom = pd.read_csv('data/at/tempnoaajoudelt2000-801662.txt', skiprows = 91)\n",
    "df_temp_noaanom.head(3)"
   ]
  },
  {
   "cell_type": "markdown",
   "metadata": {},
   "source": [
    "The column names (string) in the text file was split according to Pandas.pydata.org Series.str.split (n.d.)."
   ]
  },
  {
   "cell_type": "code",
   "execution_count": null,
   "metadata": {},
   "outputs": [],
   "source": [
    "columns = df_temp_noaanom.columns.str.split()[0][:-1]\n",
    "columns"
   ]
  },
  {
   "cell_type": "code",
   "execution_count": null,
   "metadata": {},
   "outputs": [],
   "source": [
    "anom_split = df_temp_noaanom[' Bag         ztop          Age         Deuterium    anom c'].str.split()\n",
    "anom_split.tail(3)"
   ]
  },
  {
   "cell_type": "code",
   "execution_count": null,
   "metadata": {},
   "outputs": [],
   "source": [
    "for index, col in enumerate(columns):\n",
    "    \n",
    "    if col == 'anom':\n",
    "        col = 'anom c'\n",
    "    \n",
    "    df_temp_noaanom[col] = anom_split.str[index]"
   ]
  },
  {
   "cell_type": "markdown",
   "metadata": {},
   "source": [
    "The strings were then converted into floats using astype (Datatofish.com, 2021, Pandas.pydata.org astype, n.d.)."
   ]
  },
  {
   "cell_type": "code",
   "execution_count": null,
   "metadata": {},
   "outputs": [],
   "source": [
    "df_temp_noaanom = df_temp_noaanom.iloc[:, 1:].copy() # select everything but exclude column 1\n",
    "df_temp_noaanom = df_temp_noaanom.astype(float)\n",
    "df_temp_noaanom.head(3)"
   ]
  },
  {
   "cell_type": "code",
   "execution_count": null,
   "metadata": {},
   "outputs": [],
   "source": [
    "df_temp_noaanom['year'] = (np.negative(df_temp_noaanom['Age']) + 1950)\n",
    "df_temp_noaanom.head(3)"
   ]
  },
  {
   "cell_type": "markdown",
   "metadata": {},
   "source": [
    "#### Temperature post 2005"
   ]
  },
  {
   "cell_type": "code",
   "execution_count": null,
   "metadata": {},
   "outputs": [],
   "source": [
    "df_temp_post2005 = pd.read_csv('data/at/tempglobalanomnoaa1850-2022.csv', skiprows = 4)\n",
    "df_temp_post2005.head(3)"
   ]
  },
  {
   "cell_type": "code",
   "execution_count": null,
   "metadata": {},
   "outputs": [],
   "source": [
    "df_temp_post2005.rename(columns={'Year': 'year', \n",
    "                             'Anomaly': 'anom c'}, \n",
    "                             inplace=True)\n",
    "df_temp_post2005.head(3)"
   ]
  },
  {
   "cell_type": "markdown",
   "metadata": {},
   "source": [
    "#### Because the temperature average for 1901-2000 is 13.9°C (NOAA NCEI, 2023a):"
   ]
  },
  {
   "cell_type": "code",
   "execution_count": null,
   "metadata": {},
   "outputs": [],
   "source": [
    "df_temp_post2005['temp c'] = df_temp_post2005['anom c'] + 13.9\n",
    "df_temp_post2005.head(3)"
   ]
  },
  {
   "cell_type": "code",
   "execution_count": null,
   "metadata": {},
   "outputs": [],
   "source": [
    "df_temp_all = [df_temp_joai[['year', 'temp c']],\n",
    "               df_temp_noaanom[['year', 'anom c']], \n",
    "               df_temp_post2005[['year', 'anom c', 'temp c']].rename(columns=\n",
    "                                                                     {'anom c': 'modern anom c', \n",
    "                                                                      'temp c': 'modern temp c'} )\n",
    "               ]\n",
    "df_temp_all"
   ]
  },
  {
   "cell_type": "code",
   "execution_count": null,
   "metadata": {},
   "outputs": [],
   "source": [
    "df_temp_all[0]['year'] = df_temp_all[0]['year'].round(0).astype(int)\n",
    "df_temp_all[1]['year'] = df_temp_all[1]['year'].round(0).astype(int)"
   ]
  },
  {
   "cell_type": "code",
   "execution_count": null,
   "metadata": {},
   "outputs": [],
   "source": [
    "df_temp_all_0_1 = df_temp_all[0].merge(df_temp_all[1], \n",
    "                    left_on='year', right_on='year', \n",
    "                    how='outer')\n",
    "df_temp_all_0_1.head(3)"
   ]
  },
  {
   "cell_type": "code",
   "execution_count": null,
   "metadata": {},
   "outputs": [],
   "source": [
    "df_temp_all_0_2 = df_temp_all_0_1.merge(df_temp_all[2], \n",
    "                                        left_on='year', right_on='year', \n",
    "                                        how='outer')\n",
    "df_temp_all_0_2.sort_values('year', inplace=True)\n",
    "df_temp_all_0_2.reset_index(drop=True, inplace=True)\n",
    "df_temp_all_0_2.head(3)"
   ]
  },
  {
   "cell_type": "markdown",
   "metadata": {},
   "source": [
    "The oldest time point at 819888 before year zero (821911 years before 2023) from Jouzel et al. (2007)-AICC dataset was reset as time 0."
   ]
  },
  {
   "cell_type": "code",
   "execution_count": null,
   "metadata": {},
   "outputs": [],
   "source": [
    "# reset based on 821911 years ago as 0\n",
    "\n",
    "df_temp_all_0_2['year resetcol'] = df_temp_all_0_2['year'] + np.negative(df_temp_all_0_2['year'].min())\n",
    "df_temp_all_0_2.head(3)\n"
   ]
  },
  {
   "cell_type": "markdown",
   "metadata": {},
   "source": [
    "A lambda function was used to pass a function to another function (Sharma, 2020, GeeksforGeeks, 2020). It was applied on a Pandas.Period with yearly frequency (Pandas.pydata.org Period n.d., Pandas.pydata.org Time series, n.d.)."
   ]
  },
  {
   "cell_type": "code",
   "execution_count": null,
   "metadata": {},
   "outputs": [],
   "source": [
    "df_temp_all_0_2['year reset'] = df_temp_all_0_2['year resetcol'].apply(\n",
    "                                         lambda x: pd.Period(year=x, freq='Y'))\n",
    "df_temp_all_0_2.set_index('year reset', inplace=True, drop=True)\n",
    "df_temp_all_0_2.head(3)"
   ]
  },
  {
   "cell_type": "code",
   "execution_count": null,
   "metadata": {},
   "outputs": [],
   "source": [
    "df_temp_all_0_2.reset_index().plot.scatter(\n",
    "    x='year resetcol', \n",
    "    y='temp c',figsize=(15,5)\n",
    "    );"
   ]
  },
  {
   "cell_type": "markdown",
   "metadata": {},
   "source": [
    "The temperature anomaly from paleo datasets uses temperature difference from the average of the last 1000 years. For time series frequency conversion and resampling, df.resample was used (GeeksforGeeks, 2018, Pandas.pydata.org resample, n.d., Mishra, 2021)."
   ]
  },
  {
   "cell_type": "code",
   "execution_count": null,
   "metadata": {},
   "outputs": [],
   "source": [
    "resampled = df_temp_all_0_2.resample(\n",
    "    '1000Y')['temp c'].mean().to_frame(name='temp c mean')\n",
    "resampled.head(3)"
   ]
  },
  {
   "cell_type": "code",
   "execution_count": null,
   "metadata": {},
   "outputs": [],
   "source": [
    "df_temp_all_0_2.index.freq, resampled.index.freq"
   ]
  },
  {
   "cell_type": "code",
   "execution_count": null,
   "metadata": {},
   "outputs": [],
   "source": [
    "resampled_copy = resampled.copy()\n",
    "resampled_copy.index = resampled_copy.index.asfreq(df_temp_all_0_2.index.freq)\n",
    "print(resampled_copy.index.freq)\n",
    "resampled_copy.head(3)"
   ]
  },
  {
   "cell_type": "code",
   "execution_count": null,
   "metadata": {},
   "outputs": [],
   "source": [
    "df_with_mean = df_temp_all_0_2.merge(resampled_copy,left_index=True,\n",
    "                                     right_index=True, \n",
    "                                     how='outer')\n",
    "df_with_mean.head(3)"
   ]
  },
  {
   "cell_type": "code",
   "execution_count": null,
   "metadata": {},
   "outputs": [],
   "source": [
    "df_with_mean['cal anom c'] = df_with_mean['temp c'] - df_with_mean['temp c mean']\n",
    "df_with_mean.tail(3)"
   ]
  },
  {
   "cell_type": "markdown",
   "metadata": {},
   "source": [
    "Because the dataset has many missing values, Pandas.pydata.org ffill (n.d.) ws used to use the last value to replace the next missing value."
   ]
  },
  {
   "cell_type": "code",
   "execution_count": null,
   "metadata": {},
   "outputs": [],
   "source": [
    "df_with_mean['temp c ffill'] = df_with_mean['temp c'].ffill(axis=0)\n",
    "df_with_mean['temp c mean ffill'] = df_with_mean['temp c mean'].ffill(axis=0)\n",
    "df_with_mean.tail(3)"
   ]
  },
  {
   "cell_type": "code",
   "execution_count": null,
   "metadata": {},
   "outputs": [],
   "source": [
    "df_with_mean.index = df_with_mean.index.astype(str).astype(float)\n",
    "df_with_mean.head(3)"
   ]
  },
  {
   "cell_type": "markdown",
   "metadata": {},
   "source": [
    "It was assumed that the NOAA anomaly dataset was derived from the Jouzel-AICC dataset."
   ]
  },
  {
   "cell_type": "code",
   "execution_count": null,
   "metadata": {},
   "outputs": [],
   "source": [
    "df_with_mean['temp cmeanf anom'] = df_with_mean['anom c'] + df_with_mean['temp c mean ffill']\n",
    "df_with_mean.head(3)"
   ]
  },
  {
   "cell_type": "code",
   "execution_count": null,
   "metadata": {},
   "outputs": [],
   "source": [
    "df_with_mean['anom c alt'] = df_with_mean['temp cmeanf anom'] - df_with_mean['temp c ffill']\n",
    "df_with_mean.head(3)"
   ]
  },
  {
   "cell_type": "code",
   "execution_count": null,
   "metadata": {},
   "outputs": [],
   "source": [
    "px.scatter(df_with_mean, \n",
    "           #x='year reset',\n",
    "           x=df_with_mean.index,\n",
    "           y=['anom c', 'anom c alt', 'temp c ffill', 'temp cmeanf anom'],\n",
    "           width=1200, \n",
    "           title = \"Comparison of Temperature and Anomaly from the Jouzel-AICC and NOAA Dataset \")"
   ]
  },
  {
   "cell_type": "markdown",
   "metadata": {},
   "source": [
    "Plot shows that the anomaly from Jouzel-AICC paper (anom c alt) matched the anomaly from NOAA (anom c)."
   ]
  },
  {
   "cell_type": "markdown",
   "metadata": {},
   "source": [
    "#### Temperature complete"
   ]
  },
  {
   "cell_type": "code",
   "execution_count": null,
   "metadata": {},
   "outputs": [],
   "source": [
    "df_with_mean['anom modern anom'] = np.where(\n",
    "                                    df_with_mean['anom c'].isna(), df_with_mean['modern anom c'], \n",
    "                                    df_with_mean[['anom c', 'modern anom c']].mean(axis=1) )\n",
    "df_with_mean.tail(3)"
   ]
  },
  {
   "cell_type": "code",
   "execution_count": null,
   "metadata": {},
   "outputs": [],
   "source": [
    "df_with_mean['temp cf mod'] = np.where(\n",
    "                                    df_with_mean['temp c ffill'].isna(), \n",
    "                                    df_with_mean['modern temp c'], \n",
    "                                    df_with_mean[['temp c ffill', 'modern temp c']].mean(axis=1) )\n",
    "df_with_mean.tail(3)"
   ]
  },
  {
   "cell_type": "code",
   "execution_count": null,
   "metadata": {},
   "outputs": [],
   "source": [
    "type(df_with_mean)"
   ]
  },
  {
   "cell_type": "markdown",
   "metadata": {},
   "source": [
    "### 2.2 CH<sub>4</sub> Anomaly From 822kya To Present\n",
    "\n",
    "Data for CH<sub>4</sub> was a composite of Loulergue et al. (2008), Rubino et al. (2019) and Lan, Thoning and Dlugokencky (2023)."
   ]
  },
  {
   "cell_type": "markdown",
   "metadata": {},
   "source": [
    "#### CH<sub>4</sub> pre 1937"
   ]
  },
  {
   "cell_type": "code",
   "execution_count": null,
   "metadata": {},
   "outputs": [],
   "source": [
    "df_ch4_pre1937 = pd.read_csv('data/ch4/cheloulergue800kyr-1937.txt', skiprows = 153)\n",
    "df_ch4_pre1937.head(3)"
   ]
  },
  {
   "cell_type": "code",
   "execution_count": null,
   "metadata": {},
   "outputs": [],
   "source": [
    "columns = ['Depth', 'Gas Age', 'CH4 mean', '1s', 'Lab.']\n",
    "columns"
   ]
  },
  {
   "cell_type": "markdown",
   "metadata": {},
   "source": [
    "The column names (string) in the text file was split according to Pandas.pydata.org Series.str.split (n.d.)."
   ]
  },
  {
   "cell_type": "code",
   "execution_count": null,
   "metadata": {},
   "outputs": [],
   "source": [
    "df_ch4_pre1937_split = df_ch4_pre1937['Depth      Gas Age   CH4 mean   1s    Lab.'].str.split()\n",
    "df_ch4_pre1937_split.head(3)"
   ]
  },
  {
   "cell_type": "markdown",
   "metadata": {},
   "source": [
    "The strings were then converted into floats using astype (Datatofish.com, 2021, Pandas.pydata.org astype, n.d.)."
   ]
  },
  {
   "cell_type": "code",
   "execution_count": null,
   "metadata": {},
   "outputs": [],
   "source": [
    "for index, col in enumerate(columns):\n",
    "    \n",
    "    if col == 'CH4 mean':\n",
    "        col = 'ch4 ppbv'\n",
    "    \n",
    "    df_ch4_pre1937[col] = df_ch4_pre1937_split.str[index]\n",
    "    \n",
    "df_ch4_pre1937 = df_ch4_pre1937[['Gas Age', 'ch4 ppbv']].astype(float)\n",
    "df_ch4_pre1937.head(3)"
   ]
  },
  {
   "cell_type": "code",
   "execution_count": null,
   "metadata": {},
   "outputs": [],
   "source": [
    "df_ch4_pre1937['year'] = (np.negative(df_ch4_pre1937['Gas Age'])\n",
    "                          + 1950)\n",
    "df_ch4_pre1937.tail(3)"
   ]
  },
  {
   "cell_type": "code",
   "execution_count": null,
   "metadata": {},
   "outputs": [],
   "source": [
    "df_ch4_pre1937.rename(columns = {'CH4ppb':'ch4 ppbv'}, inplace=True)\n",
    "df_ch4_pre1937.head(3)"
   ]
  },
  {
   "cell_type": "code",
   "execution_count": null,
   "metadata": {},
   "outputs": [],
   "source": [
    "df_ch4_pre1937 = df_ch4_pre1937[['year', 'ch4 ppbv']].copy()\n",
    "df_ch4_pre1937.head(3)"
   ]
  },
  {
   "cell_type": "markdown",
   "metadata": {},
   "source": [
    "#### CH<sub>4</sub> 1938 - 1996"
   ]
  },
  {
   "cell_type": "code",
   "execution_count": null,
   "metadata": {},
   "outputs": [],
   "source": [
    "df_ch4_1938_1996 = pd.read_csv('data/ch4/chrubino630-1996.txt', skiprows = 110)\n",
    "df_ch4_1938_1996.head(3)"
   ]
  },
  {
   "cell_type": "markdown",
   "metadata": {},
   "source": [
    "Because the dataset chrubino630-1996.txt is tab-delimited, pandas read_csv was used with a delimiter as shown by Nik (2023). "
   ]
  },
  {
   "cell_type": "code",
   "execution_count": null,
   "metadata": {},
   "outputs": [],
   "source": [
    "df_ch4_1938_1996 = pd.read_csv('data/ch4/chrubino630-1996.txt', skiprows = 110, delimiter='\\t')\n",
    "df_ch4_1938_1996.head(3)"
   ]
  },
  {
   "cell_type": "code",
   "execution_count": null,
   "metadata": {},
   "outputs": [],
   "source": [
    "df_ch4_1938_1996 = df_ch4_1938_1996[['age_CH4', 'CH4ppb']].copy()\n",
    "df_ch4_1938_1996.head(3)"
   ]
  },
  {
   "cell_type": "code",
   "execution_count": null,
   "metadata": {},
   "outputs": [],
   "source": [
    "df_ch4_1938_1996.rename(columns = {'age_CH4':'year', 'CH4ppb':'ch4 ppbv'}, inplace=True)\n",
    "df_ch4_1938_1996.head(3)"
   ]
  },
  {
   "cell_type": "markdown",
   "metadata": {},
   "source": [
    "#### CH<sub>4</sub> post 1997"
   ]
  },
  {
   "cell_type": "code",
   "execution_count": null,
   "metadata": {},
   "outputs": [],
   "source": [
    "df_ch4_1997_2022 = pd.read_csv('data/ch4/chnoaa1984-2022.csv', skiprows = 43)\n",
    "df_ch4_1997_2022.head(3)"
   ]
  },
  {
   "cell_type": "code",
   "execution_count": null,
   "metadata": {},
   "outputs": [],
   "source": [
    "df_ch4_1997_2022.rename(columns={'mean': 'ch4 ppbv'}, inplace=True)\n",
    "df_ch4_1997_2022.head(3)"
   ]
  },
  {
   "cell_type": "code",
   "execution_count": null,
   "metadata": {},
   "outputs": [],
   "source": [
    "df_ch4_1997_2022 = df_ch4_1997_2022[['year','ch4 ppbv']].copy()\n",
    "df_ch4_1997_2022.head(3)"
   ]
  },
  {
   "cell_type": "markdown",
   "metadata": {},
   "source": [
    "#### CH<sub>4</sub> complete"
   ]
  },
  {
   "cell_type": "code",
   "execution_count": null,
   "metadata": {},
   "outputs": [],
   "source": [
    "df_ch4_all = [df_ch4_pre1937[['year','ch4 ppbv']].rename(\n",
    "                    columns={'ch4 ppbv': 'ch4 ppbv pre1937'}),\n",
    "               df_ch4_1938_1996[['year','ch4 ppbv']].rename(\n",
    "                    columns={'ch4 ppbv': 'ch4 ppbv 1938'}), \n",
    "               df_ch4_1997_2022[['year','ch4 ppbv']].rename(\n",
    "                    columns={'ch4 ppbv': 'ch4 ppbv 1997'})\n",
    "               ]\n",
    "df_ch4_all[0].head(2)"
   ]
  },
  {
   "cell_type": "code",
   "execution_count": null,
   "metadata": {},
   "outputs": [],
   "source": [
    "df_ch4_all_0_1 = df_ch4_all[0].merge(df_ch4_all[1], left_on='year', right_on='year', how='outer')\n",
    "df_ch4_all_0_2 = df_ch4_all_0_1.merge(df_ch4_all[2], left_on='year', right_on='year', how='outer')\n",
    "df_ch4_all_0_2.head(3)"
   ]
  },
  {
   "cell_type": "code",
   "execution_count": null,
   "metadata": {},
   "outputs": [],
   "source": [
    "ch4_columns = [c for c in df_ch4_all_0_2.columns if c.startswith('ch4')]\n",
    "df_ch4_all_0_2['ch4 mean'] = df_ch4_all_0_2[ch4_columns].mean(axis=1)\n",
    "df_ch4_all_0_2.head(3)"
   ]
  },
  {
   "cell_type": "code",
   "execution_count": null,
   "metadata": {},
   "outputs": [],
   "source": [
    "df_ch4_all_0_2.sort_values('year', inplace=True)\n",
    "df_ch4_all_0_2.reset_index(drop=True, inplace=True)\n",
    "df_ch4_all_0_2.head(3)"
   ]
  },
  {
   "cell_type": "markdown",
   "metadata": {},
   "source": [
    "The oldest time point at 819888 before year zero (821911 years before 2023) from Jouzel et al. (2007)-AICC dataset was reset as time 0."
   ]
  },
  {
   "cell_type": "code",
   "execution_count": null,
   "metadata": {},
   "outputs": [],
   "source": [
    "# reset based on 821911 years ago as 0\n",
    "\n",
    "df_ch4_all_0_2['year reset'] = (df_ch4_all_0_2['year'] + \n",
    "                                (df_ch4_all_0_2['year'].min() - df_temp_all_0_2['year'].min()) + \n",
    "                                np.negative(df_ch4_all_0_2['year'].min()))\n",
    "df_ch4_all_0_2.head(3)"
   ]
  },
  {
   "cell_type": "code",
   "execution_count": null,
   "metadata": {},
   "outputs": [],
   "source": [
    "df_ch4_all_0_2.tail(3)"
   ]
  },
  {
   "cell_type": "code",
   "execution_count": null,
   "metadata": {},
   "outputs": [],
   "source": [
    "df_ch4_all_0_2.set_index('year reset', inplace=True, drop=True)\n",
    "df_ch4_all_0_2.head(3)"
   ]
  },
  {
   "cell_type": "code",
   "execution_count": null,
   "metadata": {},
   "outputs": [],
   "source": [
    "type(df_ch4_all_0_2)"
   ]
  },
  {
   "cell_type": "markdown",
   "metadata": {},
   "source": [
    "### 2.3 Irish Context: Climate Change Signal\n",
    "\n",
    "Temperature data was a composite of Mateus (2021), Mateus and Potito (2021), Mateus, Potito and Curley (2020a), Mateus, Potito and Curley (2020b) at Phoenix Park, Dublin and Botanic Gardens Glasnevin, Dublin and Met Eireann (2019) at Dublin Airport.\n",
    "\n",
    "Precipitation data was a composite of Murphy et al. (2018a,b) and Met Eireann (2019) at Dublin Airport."
   ]
  },
  {
   "cell_type": "markdown",
   "metadata": {},
   "source": [
    "#### 2.3.1 Ireland's Temperature\n",
    "\n",
    "#### Temperature Phoenix Park\n",
    "\n",
    "Because the dataset irtempphoepk1831-1958.csv has unknown symbols, pandas read_csv was used with an encoding_error argument (Pandas.pydata.org read_csv, n.d.). "
   ]
  },
  {
   "cell_type": "code",
   "execution_count": null,
   "metadata": {},
   "outputs": [],
   "source": [
    "df_irtemp_1831_1958 = pd.read_csv('data/ire/irtempphoepk1831-1958.csv', \n",
    "                                  encoding_errors='ignore')\n",
    "df_irtemp_1831_1958.head(3)"
   ]
  },
  {
   "cell_type": "code",
   "execution_count": null,
   "metadata": {},
   "outputs": [],
   "source": [
    "df_irtemp_1831_1958.columns = [c.lower() for c in df_irtemp_1831_1958.columns]\n",
    "df_irtemp_1831_1958.head(3)"
   ]
  },
  {
   "cell_type": "code",
   "execution_count": null,
   "metadata": {},
   "outputs": [],
   "source": [
    "df_irtemp_1831_1958['irtemp c'] = df_irtemp_1831_1958[['max (c)', 'min (c)']].mean(axis=1)\n",
    "df_irtemp_1831_1958.head(3)"
   ]
  },
  {
   "cell_type": "markdown",
   "metadata": {},
   "source": [
    "Pandas.pydata.org to_datetime (n.d.) was used because the dataset has a year, month and day format."
   ]
  },
  {
   "cell_type": "code",
   "execution_count": null,
   "metadata": {},
   "outputs": [],
   "source": [
    "df_irtemp_1831_1958['dmy'] = pd.to_datetime(df_irtemp_1831_1958[['year', 'month', 'day']])\n",
    "df_irtemp_1831_1958.head(3)"
   ]
  },
  {
   "cell_type": "markdown",
   "metadata": {},
   "source": [
    "Datetime calculation was differentiated into normal year and leap year."
   ]
  },
  {
   "cell_type": "code",
   "execution_count": null,
   "metadata": {},
   "outputs": [],
   "source": [
    "df_irtemp_1831_1958['dmy float'] =  np.where(df_irtemp_1831_1958['dmy'].dt.is_leap_year == True,\n",
    "                                              \n",
    "                                        # normal year, 365 days\n",
    "                                        df_irtemp_1831_1958['dmy'].dt.year + df_irtemp_1831_1958['dmy'].dt.day_of_year / 365, \n",
    "\n",
    "                                        # 366 for a leap year\n",
    "                                        df_irtemp_1831_1958['dmy'].dt.year + df_irtemp_1831_1958['dmy'].dt.day_of_year / 366 \n",
    "                                        )\n",
    "df_irtemp_1831_1958.head(3)"
   ]
  },
  {
   "cell_type": "code",
   "execution_count": null,
   "metadata": {},
   "outputs": [],
   "source": [
    "df_irtemp_1831_1958 = df_irtemp_1831_1958[['dmy float', 'dmy', 'irtemp c']].copy()\n",
    "df_irtemp_1831_1958.head(3)\n"
   ]
  },
  {
   "cell_type": "markdown",
   "metadata": {},
   "source": [
    "#### Temperature Botanical Garden\n",
    "\n",
    "Because the dataset irtempbotgdn1834-1958.csv has unknown symbols, pandas read_csv was used with an encoding_error argument (Pandas.pydata.org read_csv, n.d.). "
   ]
  },
  {
   "cell_type": "code",
   "execution_count": null,
   "metadata": {},
   "outputs": [],
   "source": [
    "df_irtemp_1834_1958 = pd.read_csv('data/ire/irtempbotgdn1834-1958.csv', \n",
    "                                  encoding_errors='ignore')\n",
    "df_irtemp_1834_1958.head(3)"
   ]
  },
  {
   "cell_type": "code",
   "execution_count": null,
   "metadata": {},
   "outputs": [],
   "source": [
    "df_irtemp_1834_1958.rename(columns={'Year': 'year',\n",
    "                            'Month': 'month',\n",
    "                            'Day': 'day',\n",
    "                            'Max (C)': 'max c',\n",
    "                            'Min (C)': 'min c',},\n",
    "                            inplace=True)\n",
    "df_irtemp_1834_1958.head(3)"
   ]
  },
  {
   "cell_type": "code",
   "execution_count": null,
   "metadata": {},
   "outputs": [],
   "source": [
    "df_irtemp_1834_1958['irtemp c'] = df_irtemp_1834_1958['max c'] + df_irtemp_1834_1958['min c'] / 2\n",
    "df_irtemp_1834_1958.head(3)"
   ]
  },
  {
   "cell_type": "markdown",
   "metadata": {},
   "source": [
    "The dates were then converted into string using astype (Antony, 2017)."
   ]
  },
  {
   "cell_type": "code",
   "execution_count": null,
   "metadata": {},
   "outputs": [],
   "source": [
    "df_irtemp_1834_1958['dmy'] = (df_irtemp_1834_1958['day'].astype(str) + '-' + \n",
    "                               df_irtemp_1834_1958['month'].astype(str) + '-' + \n",
    "                               df_irtemp_1834_1958['year'].astype(str))\n",
    "df_irtemp_1834_1958.head(3)"
   ]
  },
  {
   "cell_type": "code",
   "execution_count": null,
   "metadata": {},
   "outputs": [],
   "source": [
    "df_irtemp_1834_1958['dmy'] = pd.to_datetime(df_irtemp_1834_1958['dmy'], format='mixed')\n",
    "\n",
    "df_irtemp_1834_1958['dmy float'] =  np.where(df_irtemp_1834_1958['dmy'].dt.is_leap_year == True,\n",
    "                                              \n",
    "                                        # normal year, 365 days\n",
    "                                        df_irtemp_1834_1958['dmy'].dt.year + df_irtemp_1834_1958['dmy'].dt.day_of_year / 365, \n",
    "\n",
    "                                        # 366 for a leap year\n",
    "                                        df_irtemp_1834_1958['dmy'].dt.year + df_irtemp_1834_1958['dmy'].dt.day_of_year / 366 \n",
    "                                        )\n",
    "df_irtemp_1834_1958.head(3) "
   ]
  },
  {
   "cell_type": "code",
   "execution_count": null,
   "metadata": {},
   "outputs": [],
   "source": [
    "df_irtemp_1834_1958 = df_irtemp_1834_1958[['dmy float', 'dmy', 'irtemp c', 'min c', 'max c']].copy()\n",
    "df_irtemp_1834_1958.head(3)"
   ]
  },
  {
   "cell_type": "code",
   "execution_count": null,
   "metadata": {},
   "outputs": [],
   "source": [
    "df_irtemp_1834_1958.to_csv('df_irtemp_1834_1958.csv', index=False)"
   ]
  },
  {
   "cell_type": "markdown",
   "metadata": {},
   "source": [
    "#### Temperature 1941-2022"
   ]
  },
  {
   "cell_type": "code",
   "execution_count": null,
   "metadata": {},
   "outputs": [],
   "source": [
    "df_irtemprainc_1941_2022 = pd.read_csv('data/ire/irraintemp1941-2023dubairp.csv', skiprows = 19)\n",
    "df_irtemprainc_1941_2022.head(3)"
   ]
  },
  {
   "cell_type": "code",
   "execution_count": null,
   "metadata": {},
   "outputs": [],
   "source": [
    "df_irtemprainc_1941_2022.rename(columns={'meant': 'irtemp c',\n",
    "                            'rain': 'rain mm'},\n",
    "                            inplace=True)\n",
    "df_irtemprainc_1941_2022.head(3)"
   ]
  },
  {
   "cell_type": "markdown",
   "metadata": {},
   "source": [
    "The dates were then converted into string using astype (Antony, 2017)."
   ]
  },
  {
   "cell_type": "code",
   "execution_count": null,
   "metadata": {},
   "outputs": [],
   "source": [
    "df_irtemprainc_1941_2022['dmy'] = (df_irtemprainc_1941_2022['month'].astype(str) + '-' + \n",
    "                               df_irtemprainc_1941_2022['year'].astype(str))\n",
    "df_irtemprainc_1941_2022.head(3)"
   ]
  },
  {
   "cell_type": "code",
   "execution_count": null,
   "metadata": {},
   "outputs": [],
   "source": [
    "df_irtemprainc_1941_2022['dmy'] = pd.to_datetime(df_irtemprainc_1941_2022['dmy'], format='mixed')\n",
    "\n",
    "df_irtemprainc_1941_2022['dmy float'] =  np.where(df_irtemprainc_1941_2022['dmy'].dt.is_leap_year == True,\n",
    "                                              \n",
    "                                        # normal year, 365 days\n",
    "                                        df_irtemprainc_1941_2022['dmy'].dt.year + df_irtemprainc_1941_2022['dmy'].dt.day_of_year / 365, \n",
    "\n",
    "                                        # 366 for a leap year\n",
    "                                        df_irtemprainc_1941_2022['dmy'].dt.year + df_irtemprainc_1941_2022['dmy'].dt.day_of_year / 366 \n",
    "                                        )\n",
    "df_irtemprainc_1941_2022.head(3) "
   ]
  },
  {
   "cell_type": "code",
   "execution_count": null,
   "metadata": {},
   "outputs": [],
   "source": [
    "df_irtemprainc_1941_2022 = df_irtemprainc_1941_2022[['dmy float', 'dmy', 'irtemp c']].copy()\n",
    "df_irtemprainc_1941_2022.head(3)"
   ]
  },
  {
   "cell_type": "markdown",
   "metadata": {},
   "source": [
    "#### Ireland Temperature complete"
   ]
  },
  {
   "cell_type": "code",
   "execution_count": null,
   "metadata": {},
   "outputs": [],
   "source": [
    "df_irtemprainc_1941_2022['dmy'].head(3)"
   ]
  },
  {
   "cell_type": "code",
   "execution_count": null,
   "metadata": {},
   "outputs": [],
   "source": [
    "df_irtemp_1834_1958['dmy'].head(3)"
   ]
  },
  {
   "cell_type": "code",
   "execution_count": null,
   "metadata": {},
   "outputs": [],
   "source": [
    "df_irtemp_1831_1958['dmy'].head(3)"
   ]
  },
  {
   "cell_type": "code",
   "execution_count": null,
   "metadata": {},
   "outputs": [],
   "source": [
    "df_irtemp_all = [\n",
    "    df_irtemp_1831_1958[[ 'dmy', 'irtemp c']],\n",
    "    df_irtemp_1834_1958[['dmy', 'irtemp c']],\n",
    "    df_irtemprainc_1941_2022[[ 'dmy', 'irtemp c']]\n",
    "]\n",
    "\n",
    "df_irtemp_all_0_1 = df_irtemp_all[0].merge(df_irtemp_all[1],\n",
    "                                           left_on='dmy', right_on='dmy', how='outer')\n",
    "df_irtemp_all = df_irtemp_all_0_1.merge(df_irtemp_all[2],\n",
    "                                           left_on='dmy', right_on='dmy', how='outer')"
   ]
  },
  {
   "cell_type": "code",
   "execution_count": null,
   "metadata": {},
   "outputs": [],
   "source": [
    "df_irtemp_all.sort_values('dmy', inplace=True)\n",
    "df_irtemp_all.set_index('dmy', drop=True, inplace=True)\n",
    "df_irtemp_all"
   ]
  },
  {
   "cell_type": "code",
   "execution_count": null,
   "metadata": {},
   "outputs": [],
   "source": [
    "irtemp_columns = [c for c in df_irtemp_all.columns if c.startswith('irtemp')]\n",
    "df_irtemp_all['irtemp mean'] = df_irtemp_all[irtemp_columns].mean(axis=1)\n",
    "df_irtemp_all.tail(3)"
   ]
  },
  {
   "cell_type": "code",
   "execution_count": null,
   "metadata": {},
   "outputs": [],
   "source": [
    "df_irtemp_all = df_irtemp_all[['irtemp mean']].copy()\n",
    "df_irtemp_all.tail(3)"
   ]
  },
  {
   "cell_type": "code",
   "execution_count": null,
   "metadata": {},
   "outputs": [],
   "source": [
    "df_irtemp_all.resample('1M')['irtemp mean'].mean() # for later"
   ]
  },
  {
   "cell_type": "code",
   "execution_count": null,
   "metadata": {},
   "outputs": [],
   "source": [
    "type(df_irtemp_all)"
   ]
  },
  {
   "cell_type": "markdown",
   "metadata": {},
   "source": [
    "#### 2.3.2 Ireland's Precipitation\n",
    "\n",
    "#### Precipitation 1711–2016"
   ]
  },
  {
   "cell_type": "code",
   "execution_count": null,
   "metadata": {},
   "outputs": [],
   "source": [
    "df_irrain_1711_2016 = pd.read_csv('data/ire/irrainIOI_1711-2016.csv')\n",
    "df_irrain_1711_2016.head(3)"
   ]
  },
  {
   "cell_type": "code",
   "execution_count": null,
   "metadata": {},
   "outputs": [],
   "source": [
    "df_irrain_1711_2016.rename(columns={'Year': 'year',\n",
    "                            'Month': 'month',\n",
    "                            'Median montly series': 'irrain mm'},\n",
    "                            inplace=True)\n",
    "df_irrain_1711_2016.head(3)"
   ]
  },
  {
   "cell_type": "markdown",
   "metadata": {},
   "source": [
    "The dates were then converted into string using astype (Antony, 2017)."
   ]
  },
  {
   "cell_type": "code",
   "execution_count": null,
   "metadata": {},
   "outputs": [],
   "source": [
    "df_irrain_1711_2016['dmy'] = (df_irrain_1711_2016['month'].astype(str) + '-' + \n",
    "                               df_irrain_1711_2016['year'].astype(str))\n",
    "df_irrain_1711_2016.head(3)"
   ]
  },
  {
   "cell_type": "code",
   "execution_count": null,
   "metadata": {},
   "outputs": [],
   "source": [
    "df_irrain_1711_2016['dmy'] = pd.to_datetime(df_irrain_1711_2016['dmy'], format='mixed')\n",
    "\n",
    "df_irrain_1711_2016['dmy float'] =  np.where(df_irrain_1711_2016['dmy'].dt.is_leap_year == True,\n",
    "                                              \n",
    "                                        # normal year, 365 days\n",
    "                                        df_irrain_1711_2016['dmy'].dt.year + df_irrain_1711_2016['dmy'].dt.day_of_year / 365, \n",
    "\n",
    "                                        # 366 for a leap year\n",
    "                                        df_irrain_1711_2016['dmy'].dt.year + df_irrain_1711_2016['dmy'].dt.day_of_year / 366 \n",
    "                                        )\n",
    "df_irrain_1711_2016.head(3) "
   ]
  },
  {
   "cell_type": "code",
   "execution_count": null,
   "metadata": {},
   "outputs": [],
   "source": [
    "df_irrain_1711_2016 = df_irrain_1711_2016[['dmy float', 'dmy', 'irrain mm']].copy()\n",
    "df_irrain_1711_2016.tail(3)"
   ]
  },
  {
   "cell_type": "markdown",
   "metadata": {},
   "source": [
    "#### Precipitation 1941-2022\n",
    "\n",
    "Data for the period above is taken from df_irtemprain_1941_2022.csv."
   ]
  },
  {
   "cell_type": "code",
   "execution_count": null,
   "metadata": {},
   "outputs": [],
   "source": [
    "df_irtemprainmm_1941_2022 = pd.read_csv('data/ire/irraintemp1941-2023dubairp.csv', skiprows = 19)\n",
    "df_irtemprainmm_1941_2022.head(3)"
   ]
  },
  {
   "cell_type": "code",
   "execution_count": null,
   "metadata": {},
   "outputs": [],
   "source": [
    "df_irtemprainmm_1941_2022.rename(columns={'rain': 'irrain mm'},\n",
    "                            inplace=True)\n",
    "df_irtemprainmm_1941_2022.head(3)"
   ]
  },
  {
   "cell_type": "markdown",
   "metadata": {},
   "source": [
    "The dates were then converted into string using astype (Antony, 2017)."
   ]
  },
  {
   "cell_type": "code",
   "execution_count": null,
   "metadata": {},
   "outputs": [],
   "source": [
    "df_irtemprainmm_1941_2022['dmy'] = (df_irtemprainmm_1941_2022['month'].astype(str) + '-' + \n",
    "                               df_irtemprainmm_1941_2022['year'].astype(str))\n",
    "df_irtemprainmm_1941_2022.head(3)"
   ]
  },
  {
   "cell_type": "code",
   "execution_count": null,
   "metadata": {},
   "outputs": [],
   "source": [
    "df_irtemprainmm_1941_2022['dmy'] = pd.to_datetime(df_irtemprainmm_1941_2022['dmy'], format='mixed')\n",
    "\n",
    "df_irtemprainmm_1941_2022['dmy float'] =  np.where(df_irtemprainmm_1941_2022['dmy'].dt.is_leap_year == True,\n",
    "                                              \n",
    "                                        # normal year, 365 days\n",
    "                                        df_irtemprainmm_1941_2022['dmy'].dt.year + df_irtemprainmm_1941_2022['dmy'].dt.day_of_year / 365, \n",
    "\n",
    "                                        # 366 for a leap year\n",
    "                                        df_irtemprainmm_1941_2022['dmy'].dt.year + df_irtemprainmm_1941_2022['dmy'].dt.day_of_year / 366 \n",
    "                                        )\n",
    "df_irtemprainmm_1941_2022.head(3) "
   ]
  },
  {
   "cell_type": "code",
   "execution_count": null,
   "metadata": {},
   "outputs": [],
   "source": [
    "df_irtemprainmm_1941_2022 = df_irtemprainmm_1941_2022[['dmy float', 'dmy', 'irrain mm']].copy()\n",
    "df_irtemprainmm_1941_2022.tail(3)"
   ]
  },
  {
   "cell_type": "markdown",
   "metadata": {},
   "source": [
    "#### Ireland Precipitation complete"
   ]
  },
  {
   "cell_type": "code",
   "execution_count": null,
   "metadata": {},
   "outputs": [],
   "source": [
    "df_irrain_1711_2016.shape, df_irtemprainmm_1941_2022.shape"
   ]
  },
  {
   "cell_type": "code",
   "execution_count": null,
   "metadata": {},
   "outputs": [],
   "source": [
    "df_irrain_all = [df_irrain_1711_2016[['dmy', 'irrain mm']],\n",
    "               df_irtemprainmm_1941_2022[['dmy', 'irrain mm']], \n",
    "               ]\n",
    "df_irrain_all[0].head(3)"
   ]
  },
  {
   "cell_type": "code",
   "execution_count": null,
   "metadata": {},
   "outputs": [],
   "source": [
    "df_irrain_all= df_irrain_all[0].merge(df_irrain_all[1],\n",
    "                                           left_on='dmy', right_on='dmy', how='outer')\n",
    "df_irrain_all"
   ]
  },
  {
   "cell_type": "code",
   "execution_count": null,
   "metadata": {},
   "outputs": [],
   "source": [
    "df_irrain_all.sort_values('dmy', inplace=True)\n",
    "df_irrain_all.set_index('dmy', drop=True, inplace=True)\n",
    "df_irrain_all"
   ]
  },
  {
   "cell_type": "code",
   "execution_count": null,
   "metadata": {},
   "outputs": [],
   "source": [
    "irrain_columns = [c for c in df_irrain_all.columns if c.startswith('irrain')]\n",
    "df_irrain_all['irrain mean'] = df_irrain_all[irrain_columns].mean(axis=1)\n",
    "df_irrain_all.head(3)"
   ]
  },
  {
   "cell_type": "code",
   "execution_count": null,
   "metadata": {},
   "outputs": [],
   "source": [
    "df_irrain_all = df_irrain_all[['irrain mean']].copy()\n",
    "df_irrain_all.head(3)"
   ]
  },
  {
   "cell_type": "code",
   "execution_count": null,
   "metadata": {},
   "outputs": [],
   "source": [
    "df_irrain_all.resample('1M')['irrain mean'].mean() # for later"
   ]
  },
  {
   "cell_type": "code",
   "execution_count": null,
   "metadata": {},
   "outputs": [],
   "source": [
    "type(df_irrain_all)"
   ]
  },
  {
   "cell_type": "markdown",
   "metadata": {},
   "source": [
    "### 2.4 Data Fusion To csv And json\n",
    "\n",
    "The list of dataframes were then merged into a single dataframe (Stratis, n.d., Pandas.pydata.org merge. n.d., Chugh, 2023, Jabeen, 2023)."
   ]
  },
  {
   "cell_type": "code",
   "execution_count": null,
   "metadata": {},
   "outputs": [],
   "source": [
    "df_irish = df_irrain_all.merge(df_irtemp_all, left_index=True, right_index=True, how='outer')\n",
    "df_irish"
   ]
  },
  {
   "cell_type": "code",
   "execution_count": null,
   "metadata": {},
   "outputs": [],
   "source": [
    "df_global = [df_co2_all_0_2[['co2 ppmv pre2001', 'co2 ppmv luthi', 'co2 ppmv post2001', 'co2 mean']],\n",
    "            df_with_mean[['year resetcol', 'temp c ffill', 'temp c mean ffill', \n",
    "                           'anom c', 'modern temp c', 'modern anom c', 'anom modern anom']], \n",
    "            df_ch4_all_0_2[['ch4 ppbv pre1937', 'ch4 ppbv 1938', 'ch4 ppbv 1997', 'ch4 mean']]\n",
    "]"
   ]
  },
  {
   "cell_type": "code",
   "execution_count": null,
   "metadata": {},
   "outputs": [],
   "source": [
    "df_global_0_1 = df_global[0].merge(df_global[1], left_index=True, right_index=True, how='outer')\n",
    "df_global = df_global_0_1.merge(df_global[2], left_index=True, right_index=True, how='outer')\n",
    "df_global"
   ]
  },
  {
   "cell_type": "code",
   "execution_count": null,
   "metadata": {},
   "outputs": [],
   "source": [
    "df_irish['dmy float'] = (df_irish.index.year + df_irish.index.month / 12)"
   ]
  },
  {
   "cell_type": "code",
   "execution_count": null,
   "metadata": {},
   "outputs": [],
   "source": [
    "# reset based on 821911 years ago as 0\n",
    "\n",
    "df_irish['year reset'] = (df_irish['dmy float'] + \n",
    "                                (df_irish['dmy float'].min() - df_temp_all_0_2['year'].min()) + \n",
    "                                np.negative(df_irish['dmy float'].min()))\n",
    "df_irish.head(3)"
   ]
  },
  {
   "cell_type": "code",
   "execution_count": null,
   "metadata": {},
   "outputs": [],
   "source": [
    "df_irish.tail(3)"
   ]
  },
  {
   "cell_type": "code",
   "execution_count": null,
   "metadata": {},
   "outputs": [],
   "source": [
    "df_all = [df_irish.set_index('year reset', drop=True).drop(columns=['dmy float']),\n",
    "          df_global.drop(columns=['year resetcol'])\n",
    "          ]\n",
    "\n",
    "df_all = df_all[0].merge(df_all[1], \n",
    "                #left_on='year reset', \n",
    "                left_index=True, right_index=True, how='outer')\n",
    "df_all.tail(3)"
   ]
  },
  {
   "cell_type": "markdown",
   "metadata": {},
   "source": [
    "Because the dataframe index has duplicate values, reset_index (Davs2rt, 2016, Evangelista, 2023) and drop duplicated were executed before saving to csv (Pandas.pydata.org .to_csv, n.d.). and json format (Pandas.pydata.org to_json, n.d.)."
   ]
  },
  {
   "cell_type": "code",
   "execution_count": null,
   "metadata": {},
   "outputs": [],
   "source": [
    "df_all.to_csv('df_all.csv', index=True)\n",
    "df_all.reset_index(drop=False).to_json('df_all.json', index=True)\n",
    "df_all.head(3)"
   ]
  },
  {
   "cell_type": "markdown",
   "metadata": {},
   "source": [
    "### 2.5 Analysis Of CO<sub>2</sub>, Temperature, CH<sub>4</sub> and Precipitation"
   ]
  },
  {
   "cell_type": "markdown",
   "metadata": {},
   "source": [
    "#### 2.5.1 Pearson Correlation\n",
    "\n",
    "The Pearson Correlation coefficient (PCC) measures linear correlation between two sets of data (Wikipedia Contributors, 2019c) and the correlation is considered strong when the value is closer to one (Statistics Solutions, 2021). The triangle correlation heatmap was generated using seaborn according to GeeksforGeeks (2020)."
   ]
  },
  {
   "cell_type": "code",
   "execution_count": null,
   "metadata": {},
   "outputs": [],
   "source": [
    "# Note:\n",
    "# if read from csv, set index later for resampling\n",
    "# if use from above, index is already set (but can get messy)\n",
    "\n",
    "\n",
    "prcols = ['co2 mean', 'temp c ffill', 'ch4 mean', 'irtemp mean', 'irrain mean']\n",
    "dfampr = pd.read_csv('df_all.csv', usecols=prcols)\n",
    "dfampr.head(3)"
   ]
  },
  {
   "cell_type": "code",
   "execution_count": null,
   "metadata": {},
   "outputs": [],
   "source": [
    "select_dfam = dfampr.loc[:, prcols]\n",
    "\n",
    "mask = np.triu(np.ones_like(dfampr.corr(method='pearson'))) # create mask for upper triangle\n",
    " \n",
    "correplot = sb.heatmap(dfampr.corr(method='pearson'), \n",
    "                      cmap=\"YlGnBu\", annot=True, mask=mask)\n",
    "\n",
    "plt.title('Pearson Correlation Heatmap for Carbon Dioxide, Temperature, Methane, Irish Temperature and Irish Precipitation')\n",
    "plt.show()"
   ]
  },
  {
   "cell_type": "markdown",
   "metadata": {},
   "source": [
    "Results show that CO<sub>2</sub> has a high positive correlation with CH<sub>4</sub> and temperature, and a high negative correlation with Irish temperature."
   ]
  },
  {
   "cell_type": "markdown",
   "metadata": {},
   "source": [
    "#### 2.5.2 Trend Analysis\n",
    "\n",
    "#### 2.5.2.1 Mann-Kendall Test With MK Z Statistic\n",
    "\n",
    "The Mann-Kendall test with the MK Z statistic is a non-parametric statistical test used to detect trends in time series data (Hussain, Nabi and Boota, 2015, Rajaram, 2021) and quantify changes in the climate system. This test is commonly used in climate change analysis to identify temporal trends in environmental variables, such as temperature, precipitation, or other climate-related parameters (Fathian et al., 2016). Python package pymannkendall was imported and Mann-Kendall test with MK Z statistic was performed as shown by Hussain Shourov (n.d.) and Hussain and Mahmud (2019)."
   ]
  },
  {
   "cell_type": "code",
   "execution_count": null,
   "metadata": {},
   "outputs": [],
   "source": [
    "df_all = pd.read_csv('df_all.csv')\n",
    "df_all.head(3)"
   ]
  },
  {
   "cell_type": "code",
   "execution_count": null,
   "metadata": {},
   "outputs": [],
   "source": [
    "df_all.tail(3)"
   ]
  },
  {
   "cell_type": "markdown",
   "metadata": {},
   "source": [
    "Because there are too many rows in the dataframe, a Period object was created with a yearly frequency (Pandas.pydata.org Period n.d., Pandas.pydata.org Time series, n.d.) in a lambda function (Sharma, 2020, GeeksforGeeks, 2020)."
   ]
  },
  {
   "cell_type": "code",
   "execution_count": null,
   "metadata": {},
   "outputs": [],
   "source": [
    "# pd.Period > set index > resample\n",
    "\n",
    "globalvar = ['co2 mean', 'temp c ffill', 'ch4 mean']\n",
    "\n",
    "df_all['year reset'] = df_all['year reset'].apply(lambda x: pd.Period(year=x, freq='Y'))\n",
    "df_all.set_index('year reset', drop=True, inplace=True)\n",
    "\n",
    "carbon = df_all.resample('1Y')[globalvar[0]].max().dropna()\n",
    "carbon.plot(figsize=(15,5))\n",
    "plt.title('Time Scale Plot of Atmospheric Carbon Dioxide from 822Kya to 2022');"
   ]
  },
  {
   "cell_type": "code",
   "execution_count": null,
   "metadata": {},
   "outputs": [],
   "source": [
    "mk.original_test(df_all['co2 mean'].dropna(), alpha=0.05)\n",
    "\n",
    "# OR:\n",
    "\n",
    "# v_0 = mk.original_test(df[variables[0]].dropna(), alpha=.05)\n",
    "# v_1 = mk.original_test(df[variables[1]].dropna(), alpha=.05)\n",
    "# v_2 = mk.original_test(df[variables[2]].dropna(), alpha=.05)\n",
    "# v_3 = mk.original_test(df[variables[3]].dropna(), alpha=.05)"
   ]
  },
  {
   "cell_type": "markdown",
   "metadata": {},
   "source": [
    "Because the Mann-Kendall test assesses the null hypothesis (H<sub>0</sub>) that there is no trend in the time series data, in CO<sub>2</sub>, H<sub>0</sub> is rejected, and the alternative hypothesis (H<sub>1</sub>) accepted, where there is a monotonic increasing trend in the time series data. \n",
    "\n",
    "h=True indicates that the trend is present. \n",
    "\n",
    "p (p-value of the significance test) is small (0.0), maybe due to limitations in floating-point representation.\n",
    "\n",
    "z (Test Statistic (MK Z)) is a normalized test statistics, where a positive Z value indicates an increasing trend, while a negative Z value indicates a decreasing trend (Hussain, Nabi and Boota, 2015). The positive Z value in CO<sub>2</sub> indicates a positive trend.\n",
    "\n",
    "Tau (Kendall's Tau) is a correlation coefficient that measures the strength and direction of the monotonic relationship between data points, where positive Tau values indicate increasing trends, while negative Tau values indicate decreasing trends (Jain, 2023). The positive Tau value in CO<sub>2</sub> indicates a positive trend.\n",
    "\n",
    "s (Mann-Kendall's score) represents the sum of the signs of the differences between earlier and later data points (Statistics How To, 2016). \n",
    "\n",
    "var_s (Variance of the Mann-Kendall's score (s)) measure of the variability of the signs of the differences between earlier and later data points in a time-ordered dataset.\n",
    "\n",
    "slope (Theil-Sen estimator/slope) provides an estimate of the magnitude of the trend (Higgins, 2023).\n",
    "\n",
    "intercept (intercept of Kendall-Theil Robust Line)  is used to estimate the underlying trend in the time series. The intercept represents the predicted value of the dependent variable when the time index is zero (where the KT-RL line intersects the y-axis) (Granato, 2006)."
   ]
  },
  {
   "cell_type": "code",
   "execution_count": null,
   "metadata": {},
   "outputs": [],
   "source": [
    "gtemp = df_all.resample('1Y')[globalvar[1]].max().dropna()\n",
    "gtemp.plot(figsize=(15,5))\n",
    "plt.title('Time Scale Plot of Global Temperature from 822Kya to 2022');"
   ]
  },
  {
   "cell_type": "code",
   "execution_count": null,
   "metadata": {},
   "outputs": [],
   "source": [
    "mk.original_test(df_all['temp c ffill'].dropna(), alpha=0.05)"
   ]
  },
  {
   "cell_type": "markdown",
   "metadata": {},
   "source": [
    "H<sub>0</sub> (there is no trend in the time series data) is rejected and the alternative hypothesis (H<sub>1</sub>) accepted. The trend is present and increasing. \n",
    "\n",
    "Extremely small p-value indicates high significance.\n",
    "\n",
    "Positive Z value in termperature indicates a positive trend.\n",
    "\n",
    "Positive Tau value in temperature indicates a positive trend."
   ]
  },
  {
   "cell_type": "code",
   "execution_count": null,
   "metadata": {},
   "outputs": [],
   "source": [
    "methane = df_all.resample('1Y')[globalvar[2]].max().dropna()\n",
    "methane.plot(figsize=(15,5))\n",
    "plt.title('Time Scale Plot of Atmospheric Methane from 822Kya to 2022');"
   ]
  },
  {
   "cell_type": "code",
   "execution_count": null,
   "metadata": {},
   "outputs": [],
   "source": [
    "mk.original_test(df_all['ch4 mean'].dropna(), alpha=0.05)"
   ]
  },
  {
   "cell_type": "markdown",
   "metadata": {},
   "source": [
    "H<sub>0</sub> (there is no trend in the time series data) is rejected and the alternative hypothesis (H<sub>1</sub>) accepted. The trend is present and increasing. \n",
    "\n",
    "p-value is small (0.0), maybe due to limitations in floating-point representation.\n",
    "\n",
    "Positive Z value in CH<sub>4</sub> indicates a positive trend.\n",
    "\n",
    "Positive Tau value in CHO<sub>4</sub> indicates a positive trend."
   ]
  },
  {
   "cell_type": "code",
   "execution_count": null,
   "metadata": {},
   "outputs": [],
   "source": [
    "# For Irish temperature: pd.Period > set index > resample\n",
    "\n",
    "irvar = ['irrain mean', 'irtemp mean']\n",
    "\n",
    "# df_all['year reset'] = df['year reset'].apply(lambda x: pd.Period(year=x, freq='Y')) # done above\n",
    "# df_all.set_index('year reset', drop=True, inplace=True) # done above\n",
    "temp = df_all.resample('1Y')[irvar[-1]].max().dropna() # can try median, min or mean\n",
    "temp.plot(figsize=(15,5))\n",
    "plt.title('Time Scale Plot of Irish Temperature from 1831 to 2023');"
   ]
  },
  {
   "cell_type": "code",
   "execution_count": null,
   "metadata": {},
   "outputs": [],
   "source": [
    "mk.original_test(temp, alpha=0.05)"
   ]
  },
  {
   "cell_type": "markdown",
   "metadata": {},
   "source": [
    "H<sub>0</sub> (there is no trend in the time series data) is rejected and the alternative hypothesis (H<sub>1</sub>) accepted. The trend is present and decreasing. \n",
    "\n",
    "Extremely small p-value indicates high significance.\n",
    "\n",
    "Negative Z value in Irish temperature indicates a negative trend.\n",
    "\n",
    "Negative Tau value in Irish temperature indicates a negative trend."
   ]
  },
  {
   "cell_type": "code",
   "execution_count": null,
   "metadata": {},
   "outputs": [],
   "source": [
    "# For Irish Precipitation: pd.Period > set index > resample\n",
    "\n",
    "# df['year reset'] = df['year reset'].apply(lambda x: pd.Period(year=x, freq='Y')) # done above\n",
    "# df.set_index('year reset', drop=True, inplace=True) # done above\n",
    "rain = df_all.resample('1Y')[irvar[-2]].mean().dropna() # can try median, min or max"
   ]
  },
  {
   "cell_type": "code",
   "execution_count": null,
   "metadata": {},
   "outputs": [],
   "source": [
    "rain.plot(figsize=(15,5))\n",
    "plt.title('Time Scale Plot of Irish Precipitation from 1711 to 2023');"
   ]
  },
  {
   "cell_type": "code",
   "execution_count": null,
   "metadata": {},
   "outputs": [],
   "source": [
    "mk.original_test(df_all['irrain mean'].dropna(), alpha=0.05)"
   ]
  },
  {
   "cell_type": "markdown",
   "metadata": {},
   "source": [
    "H<sub>0</sub> (there is no trend in the time series data) is rejected and the alternative hypothesis (H<sub>1</sub>) accepted. The trend is present and decreasing. \n",
    "\n",
    "Extremely small p-value indicates high significance.\n",
    "\n",
    "Negative Z value in Irish precipitation indicates a negative trend.\n",
    "\n",
    "Negative Tau value in Irish precipitation indicates a negative trend."
   ]
  },
  {
   "cell_type": "markdown",
   "metadata": {},
   "source": [
    "#### 2.5.2.2 Fast Fourier Transform (FFT)\n",
    "\n",
    "The Fast Fourier Transform (FFT) transforms a time domain function into the frequency domain signal (Bhandari, 2023). It simplifies the Discrete Fourier Transform (DFT) computation and particularly useful in large datsets (GeeksforGeeks FFT, 2019). In the context of climate change analysis, FFT can be applied to examine climate oscillations, periodic patterns, seasonal variations, diurnal cycles, trends, and frequency-based anomalies (Liu et al., 2024). \n",
    "\n",
    "FFT can be used to transform time-domain data into the frequency domain while removing interference and noise, revealing relevant periodic patterns and cycles in the climate data (Quora, 2023). By analyzing the frequency components of extreme events, researchers can gain insights into the underlying processes and better predict the likelihood and intensity of such events in the future (Quora, 2023). FFT can be useful in studying extreme climate events, such as hurricanes, droughts, or heatwaves (ELmaghraby, Abu Khadra and Eissa, 2016). Time frequency analysis allows researchers to track the evolution of climate patterns and identify trends or shifts in the frequency domain (Quora, 2023). Understanding these patterns is crucial for predicting future climate trends and assessing the impact of climate change on various timescales. Analysis of this time series was done according to MacLeod (n.d.), Docs.scipy.org fft (n.d.) and charlesreid1 (2019)."
   ]
  },
  {
   "cell_type": "code",
   "execution_count": null,
   "metadata": {},
   "outputs": [],
   "source": [
    "# Note: FFT needs evenly sampled data, so may need to interpolate or resample data\n",
    "df_fft = df_all[['co2 mean', 'ch4 mean', 'temp c ffill']].ffill()\n",
    "time = df_fft.index \n",
    "time = time.astype(str).astype(float)\n",
    "df_fft_resampled = df_fft.resample('1000Y')[['co2 mean', 'ch4 mean', 'temp c ffill']].mean()\n",
    "df_fft_resampled.dropna(how='any', inplace=True)\n",
    "co2 = df_fft_resampled ['co2 mean']#.dropna() df_fft.resample('1000Y')\n",
    "ch4 = df_fft_resampled ['ch4 mean'] # df_fft.resample('1000Y')['ch4 mean'].mean()#.dropna()\n",
    "temp = df_fft_resampled ['temp c ffill'] # df_fft.resample('1000Y')['temp c ffill'].mean()#.dropna()\n",
    "\n",
    "co2_fft = fft(co2.values)\n",
    "ch4_fft = fft(ch4.values)\n",
    "temp_fft = fft(temp.values)\n",
    "\n",
    "n = len(time)\n",
    "sampling_rate = 1 / (time[1] - time[0])\n",
    "frequencies = fftfreq(co2.shape[0], d=1/sampling_rate) \n",
    "\n",
    "fig = make_subplots(rows=3, cols=1, subplot_titles=(\"CO2\", \"CH4\", \"Temperature\"))\n",
    "\n",
    "fig.append_trace(go.Scatter(\n",
    "    x=frequencies,\n",
    "    y=np.abs(co2_fft),\n",
    "), row=1, col=1)\n",
    "\n",
    "fig.append_trace(go.Scatter(\n",
    "    x=frequencies,\n",
    "    y=np.abs(ch4_fft),\n",
    "), row=2, col=1)\n",
    "\n",
    "fig.append_trace(go.Scatter(\n",
    "    x=frequencies,\n",
    "    y=np.abs(temp_fft)\n",
    "), row=3, col=1)\n",
    "\n",
    "fig.update_xaxes(title_text=\"Frequency (1/1000Y)\", row=1, col=1)\n",
    "fig.update_xaxes(title_text=\"Frequency (1/1000Y)\", row=2, col=1)\n",
    "fig.update_xaxes(title_text=\"Frequency (1/1000Y)\", row=3, col=1)\n",
    "\n",
    "fig.update_yaxes(title_text=\"Magnitude Of Frequency\", row=1, col=1)\n",
    "fig.update_yaxes(title_text=\"Magnitude Of Frequency\", row=2, col=1)\n",
    "fig.update_yaxes(title_text=\"Magnitude Of Frequency\", row=3, col=1)\n",
    "\n",
    "fig.update_layout(height=600, width=1200, \n",
    "                  title_text=\"FFT Subplots for Carbon Dioxide, Methane and Temperature from 822Kya to 2022\", showlegend=False)\n",
    "fig.show()"
   ]
  },
  {
   "cell_type": "markdown",
   "metadata": {},
   "source": [
    "All parameters were resampled at 1000 years mean. Peaks in the FFT plot indicate dominant frequencies occuring in the data and the magnitude of the frequency is in y-axis.\n",
    "\n",
    "For CO<sub>2</sub>, CH<sub>4</sub> and temperature, results suggest that there is a significant dominant frequency every 10000 years and a lesser magnitude one every 25000 years."
   ]
  },
  {
   "cell_type": "markdown",
   "metadata": {},
   "source": [
    "#### 2.5.2.3 Multi-Seasonal Time Series Decomposition for Ireland's Temperature and Precipitation\n",
    "\n",
    "Time Series Decomposition helps identify patterns and trends by decomposing a time series into its trend, seasonal, and residual components Palvel (2023). Multi-Seasonal Time Series Decomposition was performed according to Bexgboost (2023) Manani (2022)."
   ]
  },
  {
   "cell_type": "code",
   "execution_count": null,
   "metadata": {},
   "outputs": [],
   "source": [
    "# df_irtemp_all.resample('1M')['irtemp mean'].mean()\n",
    "# df_irrain_all.resample('1M')['irrain mean'].mean()\n",
    "\n",
    "# result_temperature = seasonal_decompose(df['irtemp mean'].dropna(), \n",
    "#                                         two_sided=False, extrapolate_trend='freq', period=365)\n",
    "# result_precipitation = seasonal_decompose(df['irrain mean'].dropna(), \n",
    "#                                           two_sided=False, extrapolate_trend='freq', period=365)\n",
    "\n",
    "result_temperature = seasonal_decompose(df_irtemp_all.resample('1M')['irtemp mean'].mean().dropna(), \n",
    "                                        two_sided=False, extrapolate_trend='freq', period=365)\n",
    "result_precipitation = seasonal_decompose(df_irrain_all.resample('1M')['irrain mean'].mean().dropna(), \n",
    "                                          two_sided=False, extrapolate_trend='freq', period=365)\n",
    "\n",
    "plt.figure(figsize=(12, 8))\n",
    "\n",
    "plt.subplot(2, 1, 1)\n",
    "result_temperature.observed.plot(label='Observed')\n",
    "result_temperature.trend.plot(label='Trend')\n",
    "result_temperature.seasonal.plot(label='Seasonal')\n",
    "result_temperature.resid.plot(label='Residual')\n",
    "plt.title('Multi-Seasonal Decomposition for Ireland Temperature from 1831 to 2023')\n",
    "plt.legend()\n",
    "\n",
    "plt.subplot(2, 1, 2)\n",
    "result_precipitation.observed.plot(label='Observed')\n",
    "result_precipitation.trend.plot(label='Trend')\n",
    "result_precipitation.seasonal.plot(label='Seasonal')\n",
    "result_precipitation.resid.plot(label='Residual')\n",
    "plt.title('Multi-Seasonal Decomposition for Ireland Precipitation from 1711 to 2023')\n",
    "plt.legend()\n",
    "\n",
    "plt.tight_layout()\n",
    "plt.show()"
   ]
  },
  {
   "cell_type": "code",
   "execution_count": null,
   "metadata": {},
   "outputs": [],
   "source": [
    "df_irish"
   ]
  },
  {
   "cell_type": "markdown",
   "metadata": {},
   "source": [
    "For Ireland's temperature and precipitation, results are as follows:\n",
    "\n",
    "Observed Plot: Seasonal effect is present.\n",
    "\n",
    "Trend Plot: Ireland's temperature and precipitation have remained relatively constant.\n",
    "\n",
    "Seasonal Plot: Seasonal pattern spikes indicate weaker but consistent seasonality.\n",
    "\n",
    "Residual Plot: There are no clear systematic patterns or irregularities in the data after removing the trend and seasonal components."
   ]
  },
  {
   "cell_type": "markdown",
   "metadata": {},
   "source": [
    "#### 2.5.2.4 Ireland's Temperature Signal to Noise Ratio (SNR)\n",
    "\n",
    "Ireland's Signal to Noise Ratio (SNR) for annual mean temperature were performed according to Murphy et al. (2023) and (Hawkins et al., 2020). The signal of global temperature change is defined as SNR<1 is normal, 1<SNR<2 is unusual, 2<SNR<3 is unfamiliar and SNR>3 is unknown and SNR>5 is inconceivable. As described in Hawkins et al. (2017), smoothed\n",
    "with a lowess ﬁlter of 41 years (Weckesser, 2015, www.statsmodels.org LOWESS Smoother, n.d., www.statsmodels.org lowess, n.d.). "
   ]
  },
  {
   "cell_type": "code",
   "execution_count": 237,
   "metadata": {},
   "outputs": [
    {
     "data": {
      "text/html": [
       "<div>\n",
       "<style scoped>\n",
       "    .dataframe tbody tr th:only-of-type {\n",
       "        vertical-align: middle;\n",
       "    }\n",
       "\n",
       "    .dataframe tbody tr th {\n",
       "        vertical-align: top;\n",
       "    }\n",
       "\n",
       "    .dataframe thead th {\n",
       "        text-align: right;\n",
       "    }\n",
       "</style>\n",
       "<table border=\"1\" class=\"dataframe\">\n",
       "  <thead>\n",
       "    <tr style=\"text-align: right;\">\n",
       "      <th></th>\n",
       "      <th>year reset</th>\n",
       "      <th>irrain mean</th>\n",
       "      <th>irtemp mean</th>\n",
       "      <th>co2 ppmv pre2001</th>\n",
       "      <th>co2 ppmv luthi</th>\n",
       "      <th>co2 ppmv post2001</th>\n",
       "      <th>co2 mean</th>\n",
       "      <th>temp c ffill</th>\n",
       "      <th>temp c mean ffill</th>\n",
       "      <th>anom c</th>\n",
       "      <th>modern temp c</th>\n",
       "      <th>modern anom c</th>\n",
       "      <th>anom modern anom</th>\n",
       "      <th>ch4 ppbv pre1937</th>\n",
       "      <th>ch4 ppbv 1938</th>\n",
       "      <th>ch4 ppbv 1997</th>\n",
       "      <th>ch4 mean</th>\n",
       "    </tr>\n",
       "  </thead>\n",
       "  <tbody>\n",
       "    <tr>\n",
       "      <th>0</th>\n",
       "      <td>0.0</td>\n",
       "      <td>NaN</td>\n",
       "      <td>NaN</td>\n",
       "      <td>NaN</td>\n",
       "      <td>NaN</td>\n",
       "      <td>NaN</td>\n",
       "      <td>NaN</td>\n",
       "      <td>-61.75</td>\n",
       "      <td>NaN</td>\n",
       "      <td>NaN</td>\n",
       "      <td>NaN</td>\n",
       "      <td>NaN</td>\n",
       "      <td>NaN</td>\n",
       "      <td>NaN</td>\n",
       "      <td>NaN</td>\n",
       "      <td>NaN</td>\n",
       "      <td>NaN</td>\n",
       "    </tr>\n",
       "    <tr>\n",
       "      <th>1</th>\n",
       "      <td>999.0</td>\n",
       "      <td>NaN</td>\n",
       "      <td>NaN</td>\n",
       "      <td>NaN</td>\n",
       "      <td>NaN</td>\n",
       "      <td>NaN</td>\n",
       "      <td>NaN</td>\n",
       "      <td>-61.75</td>\n",
       "      <td>-61.75</td>\n",
       "      <td>NaN</td>\n",
       "      <td>NaN</td>\n",
       "      <td>NaN</td>\n",
       "      <td>NaN</td>\n",
       "      <td>NaN</td>\n",
       "      <td>NaN</td>\n",
       "      <td>NaN</td>\n",
       "      <td>NaN</td>\n",
       "    </tr>\n",
       "    <tr>\n",
       "      <th>2</th>\n",
       "      <td>1069.0</td>\n",
       "      <td>NaN</td>\n",
       "      <td>NaN</td>\n",
       "      <td>NaN</td>\n",
       "      <td>NaN</td>\n",
       "      <td>NaN</td>\n",
       "      <td>NaN</td>\n",
       "      <td>-61.75</td>\n",
       "      <td>-61.75</td>\n",
       "      <td>NaN</td>\n",
       "      <td>NaN</td>\n",
       "      <td>NaN</td>\n",
       "      <td>NaN</td>\n",
       "      <td>NaN</td>\n",
       "      <td>NaN</td>\n",
       "      <td>NaN</td>\n",
       "      <td>NaN</td>\n",
       "    </tr>\n",
       "  </tbody>\n",
       "</table>\n",
       "</div>"
      ],
      "text/plain": [
       "   year reset  irrain mean  irtemp mean  co2 ppmv pre2001  co2 ppmv luthi  \\\n",
       "0         0.0          NaN          NaN               NaN             NaN   \n",
       "1       999.0          NaN          NaN               NaN             NaN   \n",
       "2      1069.0          NaN          NaN               NaN             NaN   \n",
       "\n",
       "   co2 ppmv post2001  co2 mean  temp c ffill  temp c mean ffill  anom c  \\\n",
       "0                NaN       NaN        -61.75                NaN     NaN   \n",
       "1                NaN       NaN        -61.75             -61.75     NaN   \n",
       "2                NaN       NaN        -61.75             -61.75     NaN   \n",
       "\n",
       "   modern temp c  modern anom c  anom modern anom  ch4 ppbv pre1937  \\\n",
       "0            NaN            NaN               NaN               NaN   \n",
       "1            NaN            NaN               NaN               NaN   \n",
       "2            NaN            NaN               NaN               NaN   \n",
       "\n",
       "   ch4 ppbv 1938  ch4 ppbv 1997  ch4 mean  \n",
       "0            NaN            NaN       NaN  \n",
       "1            NaN            NaN       NaN  \n",
       "2            NaN            NaN       NaN  "
      ]
     },
     "execution_count": 237,
     "metadata": {},
     "output_type": "execute_result"
    }
   ],
   "source": [
    "df_all = pd.read_csv('df_all.csv')\n",
    "df_all.head(3)"
   ]
  },
  {
   "cell_type": "code",
   "execution_count": 238,
   "metadata": {},
   "outputs": [
    {
     "data": {
      "text/html": [
       "<div>\n",
       "<style scoped>\n",
       "    .dataframe tbody tr th:only-of-type {\n",
       "        vertical-align: middle;\n",
       "    }\n",
       "\n",
       "    .dataframe tbody tr th {\n",
       "        vertical-align: top;\n",
       "    }\n",
       "\n",
       "    .dataframe thead th {\n",
       "        text-align: right;\n",
       "    }\n",
       "</style>\n",
       "<table border=\"1\" class=\"dataframe\">\n",
       "  <thead>\n",
       "    <tr style=\"text-align: right;\">\n",
       "      <th></th>\n",
       "      <th>year reset</th>\n",
       "      <th>irtemp mean</th>\n",
       "      <th>anom modern anom</th>\n",
       "    </tr>\n",
       "  </thead>\n",
       "  <tbody>\n",
       "    <tr>\n",
       "      <th>18582</th>\n",
       "      <td>821719.083333</td>\n",
       "      <td>NaN</td>\n",
       "      <td>NaN</td>\n",
       "    </tr>\n",
       "    <tr>\n",
       "      <th>18583</th>\n",
       "      <td>821719.083333</td>\n",
       "      <td>NaN</td>\n",
       "      <td>NaN</td>\n",
       "    </tr>\n",
       "    <tr>\n",
       "      <th>18584</th>\n",
       "      <td>821719.083333</td>\n",
       "      <td>NaN</td>\n",
       "      <td>NaN</td>\n",
       "    </tr>\n",
       "    <tr>\n",
       "      <th>18585</th>\n",
       "      <td>821719.083333</td>\n",
       "      <td>NaN</td>\n",
       "      <td>NaN</td>\n",
       "    </tr>\n",
       "    <tr>\n",
       "      <th>18586</th>\n",
       "      <td>821719.083333</td>\n",
       "      <td>NaN</td>\n",
       "      <td>NaN</td>\n",
       "    </tr>\n",
       "    <tr>\n",
       "      <th>...</th>\n",
       "      <td>...</td>\n",
       "      <td>...</td>\n",
       "      <td>...</td>\n",
       "    </tr>\n",
       "    <tr>\n",
       "      <th>68983</th>\n",
       "      <td>821911.583333</td>\n",
       "      <td>14.9</td>\n",
       "      <td>NaN</td>\n",
       "    </tr>\n",
       "    <tr>\n",
       "      <th>68984</th>\n",
       "      <td>821911.666667</td>\n",
       "      <td>15.4</td>\n",
       "      <td>NaN</td>\n",
       "    </tr>\n",
       "    <tr>\n",
       "      <th>68985</th>\n",
       "      <td>821911.750000</td>\n",
       "      <td>14.5</td>\n",
       "      <td>NaN</td>\n",
       "    </tr>\n",
       "    <tr>\n",
       "      <th>68986</th>\n",
       "      <td>821911.833333</td>\n",
       "      <td>11.3</td>\n",
       "      <td>NaN</td>\n",
       "    </tr>\n",
       "    <tr>\n",
       "      <th>68987</th>\n",
       "      <td>821911.916667</td>\n",
       "      <td>7.3</td>\n",
       "      <td>NaN</td>\n",
       "    </tr>\n",
       "  </tbody>\n",
       "</table>\n",
       "<p>50406 rows × 3 columns</p>\n",
       "</div>"
      ],
      "text/plain": [
       "          year reset  irtemp mean  anom modern anom\n",
       "18582  821719.083333          NaN               NaN\n",
       "18583  821719.083333          NaN               NaN\n",
       "18584  821719.083333          NaN               NaN\n",
       "18585  821719.083333          NaN               NaN\n",
       "18586  821719.083333          NaN               NaN\n",
       "...              ...          ...               ...\n",
       "68983  821911.583333         14.9               NaN\n",
       "68984  821911.666667         15.4               NaN\n",
       "68985  821911.750000         14.5               NaN\n",
       "68986  821911.833333         11.3               NaN\n",
       "68987  821911.916667          7.3               NaN\n",
       "\n",
       "[50406 rows x 3 columns]"
      ]
     },
     "execution_count": 238,
     "metadata": {},
     "output_type": "execute_result"
    }
   ],
   "source": [
    "df_alin = df_all[\n",
    "                        (df_all['year reset'] >= 821719.08333) &\n",
    "                         (df_all['year reset'] <= 821911.9166667)\n",
    "                         ][[\n",
    "                             'year reset', \n",
    "                             'irtemp mean', \n",
    "                             'anom modern anom'\n",
    "                             ]] .copy()\n",
    "df_alin"
   ]
  },
  {
   "cell_type": "code",
   "execution_count": null,
   "metadata": {},
   "outputs": [],
   "source": [
    "it, frac = 41, 0.95\n",
    "\n",
    "irish_lowess = lowess(endog=df_alin['irtemp mean'], \n",
    "            exog=df_alin.index,\n",
    "            it=it,\n",
    "            frac=frac\n",
    "            )\n",
    "\n",
    "# anom modern anom is yearly, so use it=41 like Hawkins et al., (2020)\n",
    "\n",
    "global_lowess = lowess(endog=df_alin['anom modern anom'],\n",
    "                exog=df_alin.index,\n",
    "                it=it,\n",
    "                frac=frac\n",
    "                )\n",
    "\n",
    "irish_lowess = pd.DataFrame(irish_lowess)\n",
    "irish_lowess.columns = ['date', 'irish smoothed']\n",
    "\n",
    "global_lowess = pd.DataFrame(global_lowess)\n",
    "global_lowess.columns = ['date', 'global smoothed']"
   ]
  },
  {
   "cell_type": "code",
   "execution_count": null,
   "metadata": {},
   "outputs": [],
   "source": [
    "df_alin = df_alin.merge(irish_lowess, \n",
    "                       left_index=True, right_on='date',\n",
    "                       how='left')\n",
    "\n",
    "df_alin.merge(global_lowess, left_on='date', right_on='date', how='left').to_csv('df_alin.csv', index=True)"
   ]
  },
  {
   "cell_type": "code",
   "execution_count": null,
   "metadata": {},
   "outputs": [],
   "source": [
    "df_alin = pd.read_csv('df_alin.csv')\n",
    "df_alin.set_index('year reset', inplace=True)\n",
    "df_alin.head(3)"
   ]
  },
  {
   "cell_type": "code",
   "execution_count": null,
   "metadata": {},
   "outputs": [],
   "source": [
    "px.scatter(df_alin,\n",
    "        y=['irtemp mean', 'irish smoothed', 'global smoothed', 'anom modern anom']\n",
    "        title=\"Plot of Irish Temperature, Smoothed Irish Temperature, Global Temperature Anomaly and Smoothed Global Temperature Anomaly\") "
   ]
  },
  {
   "cell_type": "code",
   "execution_count": null,
   "metadata": {},
   "outputs": [],
   "source": [
    "lin_fiti = px.scatter(df_alin,\n",
    "                    x='global smoothed', y='irish smoothed', \n",
    "                    trendline='ols')\n",
    "lin_fiti.show()"
   ]
  },
  {
   "cell_type": "code",
   "execution_count": null,
   "metadata": {},
   "outputs": [],
   "source": [
    "paramsi = px.get_trendline_results(lin_fiti).iloc[0].values[0] \n",
    "alphai, intercepti = paramsi.params[1], paramsi.params[0]\n",
    "\n",
    "df_alin['irish calculated'] = alphai * df_alin['global smoothed'] + intercepti\n",
    "\n",
    "print(np.array([alphai, intercepti, paramsi.rsquared]).round(8))"
   ]
  },
  {
   "cell_type": "code",
   "execution_count": null,
   "metadata": {},
   "outputs": [],
   "source": [
    "df_alin['residual'] = ((alphai * df_alin['global smoothed'] + intercepti) - df_alin['irtemp mean'])\n",
    "df_alin.tail(25)"
   ]
  },
  {
   "cell_type": "code",
   "execution_count": null,
   "metadata": {},
   "outputs": [],
   "source": [
    "px.bar(df_alin['residual'].dropna().reset_index().drop_duplicates(subset='year reset'),\n",
    "       x='year reset', y='residual')"
   ]
  },
  {
   "cell_type": "markdown",
   "metadata": {},
   "source": []
  },
  {
   "cell_type": "markdown",
   "metadata": {},
   "source": [
    "#### 2.5.3 Temporal Lead/Lag Analysis\n",
    "\n",
    "#### 2.5.3.1 The Granger Causality Test\n",
    "\n",
    "The Granger causality test is used to determine whether one time series can be used to predict another. It assesses whether past values of one variable provide information about future values of another variable, with the conditions that the data should have a constant mean, constant variance and without seasonal component (Padav, 2021). Statsmodels package was installed(www.statsmodels.org, n.d.) and performed according to Prabhakaran (2022) and Moro (2021) at maxlag=1 (maximum possible time delay) (Package ‘VLTimeCausality’, 2022)."
   ]
  },
  {
   "cell_type": "code",
   "execution_count": null,
   "metadata": {},
   "outputs": [],
   "source": [
    "result_co2_temp = grangercausalitytests(df_all[['co2 mean','temp c ffill']].dropna(), maxlag=3)"
   ]
  },
  {
   "cell_type": "markdown",
   "metadata": {},
   "source": [
    "Result shows that a p-value of less than 0.05 indicate a causal relationship between CO<sub>2</sub> and temperature at maxlag=2."
   ]
  },
  {
   "cell_type": "code",
   "execution_count": null,
   "metadata": {},
   "outputs": [],
   "source": [
    "result_co2_methane = grangercausalitytests(df_all[['co2 mean', 'ch4 mean']].dropna(), maxlag=3)"
   ]
  },
  {
   "cell_type": "markdown",
   "metadata": {},
   "source": [
    "Result shows that CO<sub>2</sub> correlates with a rise in CH<sub>4</sub> and causality can be infered from it."
   ]
  },
  {
   "cell_type": "code",
   "execution_count": null,
   "metadata": {},
   "outputs": [],
   "source": [
    "result_temp_ch4 = grangercausalitytests(df_all[['temp c ffill', 'ch4 mean']].dropna(), maxlag=3)"
   ]
  },
  {
   "cell_type": "markdown",
   "metadata": {},
   "source": [
    "Result shows that a p-value of less than 0.05 indicate a causal relationship between temperature and CH<sub>04</sub>."
   ]
  },
  {
   "cell_type": "markdown",
   "metadata": {},
   "source": [
    "#### 2.5.3.2 Autocorrelation Function (ACF) and Partial Autocorrelation Function (PACF)\n",
    "\n",
    "Autocorrelation and Partial Autocorrelation functions analyses the correlation with itself at different lags in a time series, where high correlation indicates that current values are influenced by its past values (Frost, 2021). The ACF plot is a bar chart of the coefficients of correlation between a time series and its lags (Duke.edu, 2019). The PACF values at certain lags in the plot helps identify the order of the autoregressive (AR) model (online.stat.psu.edu, n.d.). The Autocorrelation function were performed according to Brownlee (2017) and Mallick (2020). Both the Pandas (Pandas.pydata.org autocorrelation_plot , n.d.) and Statsmodels versions (www.statsmodels.org tsaplots.plot_acf , n.d., www.statsmodels.org tsaplots.plot_pacf, n.d.) were used, with a difference in subtraction of the mean and normalization or division of variance in correlation coefficient determination (Nikhase, 2017)."
   ]
  },
  {
   "cell_type": "code",
   "execution_count": null,
   "metadata": {},
   "outputs": [],
   "source": [
    "df_all.head(3)"
   ]
  },
  {
   "cell_type": "code",
   "execution_count": null,
   "metadata": {},
   "outputs": [],
   "source": [
    "df_all.index"
   ]
  },
  {
   "cell_type": "code",
   "execution_count": null,
   "metadata": {},
   "outputs": [],
   "source": [
    "#df_all['year reset'] = \n",
    "#df_all.index = df_all.reset_index()['index'].apply(lambda x: pd.Period(year=x, freq='Y'))#.resample('1000Y')\n",
    "\n",
    "#df_all.set_index('year reset', drop=True, inplace=True) # yours\n",
    "\n",
    "\n",
    "#df_all['year reset'] = df_all['year reset'].apply(lambda x: pd.Period(year=x, freq='Y'))\n",
    "\n",
    "\n",
    "#df_all.index = df_all.reset_index()['year reset'].apply(lambda x: pd.Period(year=x, freq='Y'))#.resample('1000Y')\n",
    "# #pd.PeriodIndex(\n",
    "# df_all.index.to_list()[-1]\n",
    "    #)"
   ]
  },
  {
   "cell_type": "code",
   "execution_count": null,
   "metadata": {},
   "outputs": [],
   "source": [
    "# resample to 1000 years to quantify time lag\n",
    "\n",
    "df_all.resample('1000Y')['co2 mean'].mean().dropna()\n",
    "df_all.resample('1000Y')['ch4 mean'].mean().dropna()\n",
    "resampledtll = df_all.resample(\n",
    "    '1000Y')['temp c ffill'].mean().to_frame(name='temp restll')\n",
    "resampledtll.head(3)"
   ]
  },
  {
   "cell_type": "code",
   "execution_count": null,
   "metadata": {},
   "outputs": [],
   "source": [
    "fig, axes = plt.subplots(nrows=3, ncols=1, figsize=(8, 6))\n",
    "\n",
    "pd.plotting.autocorrelation_plot(resampledtll.dropna(), ax=axes[0])\n",
    "axes[0].set_title('Temperature')\n",
    "\n",
    "pd.plotting.autocorrelation_plot(df_all.resample('1000Y')['co2 mean'].mean().dropna(), ax=axes[1])\n",
    "axes[1].set_title('CO2')\n",
    "\n",
    "pd.plotting.autocorrelation_plot(df_all.resample('1000Y')['ch4 mean'].mean().dropna(), ax=axes[2])\n",
    "axes[1].set_title('CH4')\n",
    "\n",
    "axes[0].legend(['Temperature'])\n",
    "axes[1].legend(['CO2'])\n",
    "axes[1].legend(['CH4'])\n",
    "plt.tight_layout()"
   ]
  },
  {
   "cell_type": "markdown",
   "metadata": {},
   "source": []
  },
  {
   "cell_type": "code",
   "execution_count": null,
   "metadata": {},
   "outputs": [],
   "source": [
    "fig, axes = plt.subplots(3, 1, figsize=(10, 12))\n",
    "\n",
    "plot_acf(resampledtll.dropna(), lags=100)\n",
    "axes[0].set_title('Autocorrelation Function (ACF) Plot for Temperature')\n",
    "\n",
    "plot_acf(df_all.resample('1000Y')['co2 mean'].mean().dropna(), lags=100)\n",
    "axes[1].set_title('Autocorrelation Function (ACF) Plot for Carbon Dioxide')\n",
    "\n",
    "plot_acf(df_all.resample('1000Y')['ch4 mean'].mean().dropna(), lags=100)\n",
    "axes[2].set_title('Autocorrelation Function (ACF) Plot for Methane')\n",
    "\n",
    "plt.tight_layout()\n",
    "plt.show()\n",
    "\n",
    "plt.figure(figsize=(12, 4))\n",
    "plot_acf(resampledtll.dropna(), lags=100, title='Autocorrelation Function (ACF) Plot for Temperature')\n",
    "plt.show()\n",
    "\n",
    "pd.plotting.autocorrelation_plot(df_all.resample('1000Y')['co2 mean'].mean().dropna());\n",
    "plt.figure(figsize=(12, 4))\n",
    "plot_acf(df_all.resample('1000Y')['co2 mean'].mean().dropna(), lags=100, title='Autocorrelation Function (ACF) Plot for Carbon Dioxide')\n",
    "plt.show()\n",
    "\n",
    "plt.figure(figsize=(12, 4))\n",
    "plot_acf(df_all.resample('1000Y')['ch4 mean'].mean().dropna(), lags=100, title='Autocorrelation Function (ACF) Plot for Methane')\n",
    "plt.show()"
   ]
  },
  {
   "cell_type": "markdown",
   "metadata": {},
   "source": [
    "Results show that the ACF values for temperature are statistically significant for lags up to 12000years, suggesting a meaningful autocorrelation.\n",
    "\n",
    "Results show that the ACF values for CO<sub>2</sub> are statistically significant for lags up to 15000 years, suggesting a meaningful autocorrelation.\n",
    "\n",
    "Results show that the ACF values for CH<sub>4</sub> are statistically significant for lags up to 11000 years, suggesting a meaningful autocorrelation."
   ]
  },
  {
   "cell_type": "code",
   "execution_count": null,
   "metadata": {},
   "outputs": [],
   "source": [
    "fig, axes = plt.subplots(3, 1, figsize=(10, 12))\n",
    "\n",
    "plot_pacf(resampledtll.dropna(), lags=100)\n",
    "axes[0].set_title('Partial Autocorrelation Function (PACF) Plot for Temperature')\n",
    "\n",
    "plot_pacf(df_all.resample('1000Y')['co2 mean'].mean().dropna(), lags=100)\n",
    "axes[1].set_title('Partial Autocorrelation Function (PACF) Plot for Carbon Dioxide')\n",
    "\n",
    "plot_pacf(df_all.resample('1000Y')['ch4 mean'].mean().dropna(), lags=100)\n",
    "axes[2].set_title('Partial Autocorrelation Function (PACF) Plot for Methane')\n",
    "\n",
    "plt.tight_layout()\n",
    "plt.show()\n",
    "\n",
    "# plt.figure(figsize=(12, 4))\n",
    "# plot_pacf(resampledtll.dropna(), lags=100, title='Partial Autocorrelation Function (PACF) Plot for Temperature')\n",
    "# plt.show();\n",
    "\n",
    "# plt.figure(figsize=(12, 4))\n",
    "# plot_pacf(df_all.resample('1000Y')['co2 mean'].mean().dropna(), lags=100, title='Partial Autocorrelation Function (PACF) Plot for Carbon Dioxide')\n",
    "# plt.show();\n",
    "\n",
    "# plt.figure(figsize=(12, 4))\n",
    "# plot_pacf(df_all.resample('1000Y')['ch4 mean'].mean().dropna(), lags=100, title='Partial Autocorrelation Function (PACF) Plot for Methane')\n",
    "# plt.show()"
   ]
  },
  {
   "cell_type": "markdown",
   "metadata": {},
   "source": [
    "The PACF values for temperature are statistically significant at lags 1000 years (positive correlation) and 2000 years(negative correlation), indicating a direct relationship between the ACF value and the lags.\n",
    "\n",
    "The PACF values for CO<sub>2</sub> are statistically significant until lag=1000 years, indicating a direct relationship between the ACF value and the lag.\n",
    "\n",
    "The PACF values for CH<sub>4</sub> are statistically significant at 1000 years lag, indicating a direct relationship between the ACF value and the lag."
   ]
  },
  {
   "cell_type": "code",
   "execution_count": null,
   "metadata": {},
   "outputs": [],
   "source": [
    "pd.plotting.autocorrelation_plot(resampledtll.dropna());\n",
    "\n",
    "plt.figure(figsize=(12, 4))\n",
    "plot_acf(resampledtll.dropna(), lags=100, title='Autocorrelation Function (ACF) Plot for Temperature')\n",
    "plt.show()\n",
    "\n",
    "plt.figure(figsize=(12, 4))\n",
    "plot_pacf(resampledtll.dropna(), lags=100, title='Partial Autocorrelation Function (PACF) Plot for Temperature')\n",
    "plt.show()\n",
    "\n",
    "pd.plotting.autocorrelation_plot(df_all.resample('1000Y')['co2 mean'].mean().dropna());\n",
    "\n",
    "plt.figure(figsize=(12, 4))\n",
    "plot_acf(df_all.resample('1000Y')['co2 mean'].mean().dropna(), lags=100, title='Autocorrelation Function (ACF) Plot for Carbon Dioxide')\n",
    "plt.show()\n",
    "\n",
    "plt.figure(figsize=(12, 4))\n",
    "plot_pacf(df_all.resample('1000Y')['co2 mean'].mean().dropna(), lags=100, title='Partial Autocorrelation Function (PACF) Plot for Carbon Dioxide')\n",
    "plt.show();\n",
    "\n",
    "pd.plotting.autocorrelation_plot(df_all.resample('1000Y')['ch4 mean'].mean().dropna());\n",
    "\n",
    "plt.figure(figsize=(12, 4))\n",
    "plot_acf(df_all.resample('1000Y')['ch4 mean'].mean().dropna(), lags=100, title='Autocorrelation Function (ACF) Plot for Methane')\n",
    "plt.show()\n",
    "\n",
    "plt.figure(figsize=(12, 4))\n",
    "plot_pacf(df_all.resample('1000Y')['ch4 mean'].mean().dropna(), lags=100, title='Partial Autocorrelation Function (PACF) Plot for Methane')\n",
    "plt.show()"
   ]
  },
  {
   "cell_type": "markdown",
   "metadata": {},
   "source": [
    "Because the Irish data has seasonality, it was first detrended using seasonal_decompose (www.statsmodels.org seasonal_decom, n.d.)."
   ]
  },
  {
   "cell_type": "code",
   "execution_count": null,
   "metadata": {},
   "outputs": [],
   "source": [
    "# df_irtemp_all.resample('1M')['irtemp mean'].mean()\n",
    "# df['irtemp mean']\n",
    "\n",
    "# autocorrelation BEFORE detrending\n",
    "pd.plotting.autocorrelation_plot(df_all['irtemp mean'].dropna())\n",
    "#pd.plotting.autocorrelation_plot(df['irtemp mean'].dropna().iloc[:1000]); # first 1000 rows\n",
    "plt.title('Autocorrelation Function (ACF) Plot for Ireland Temperature Before Detrending')\n",
    "plt.show()\n",
    "resultit = seasonal_decompose(df_all['irtemp mean'].dropna(), period=365)\n",
    "\n",
    "plt.figure(figsize=(12, 8))\n",
    "\n",
    "plt.subplot(3, 1, 1)\n",
    "plt.plot(resultit.observed.values, label='Observed')\n",
    "plt.legend()\n",
    "plt.title('Observed')\n",
    "\n",
    "plt.subplot(3, 1, 2)\n",
    "plt.plot(resultit.trend.values, label='Trend')\n",
    "plt.legend()\n",
    "plt.title('Trend')\n",
    "\n",
    "plt.subplot(3, 1, 3)\n",
    "plt.plot(resultit.resid.values, label='Residual')\n",
    "plt.legend()\n",
    "plt.title('Residual')\n",
    "\n",
    "plt.tight_layout()\n",
    "plt.show()\n",
    "\n",
    "# autocorrelation AFTER detrending\n",
    "pd.plotting.autocorrelation_plot(resultit.resid.dropna())\n",
    "plt.title('Autocorrelation Function (ACF) Plot for Ireland Temperature After Detrending')\n",
    "plt.show()\n",
    "\n",
    "\n",
    "# Plot PACF for Irish Temperature\n",
    "plt.figure(figsize=(12, 4))\n",
    "plot_pacf(resultit.resid.dropna(), lags=100, title='Partial Autocorrelation Function (PACF) Plot for Ireland Temperature')\n",
    "plt.show();"
   ]
  },
  {
   "cell_type": "markdown",
   "metadata": {},
   "source": [
    "The result shows that the correlation between Irish temperature and its lagged version decreases over time. The observed and trend plots show no long term trend. The residual plot exhibit no clear patterns  in temperature variations after removing the trend and seasonal components.\n",
    "\n",
    "The PACF plot at lag 1 suggests a strong relationship between the current observation and its immediately preceding observation."
   ]
  },
  {
   "cell_type": "code",
   "execution_count": null,
   "metadata": {},
   "outputs": [],
   "source": [
    "# df_irrain_all.resample('1M')['irrain mean'].mean()\n",
    "# df['irrain mean']\n",
    "\n",
    "# autocorrelation BEFORE detrending\n",
    "pd.plotting.autocorrelation_plot(df_all['irrain mean'].dropna())\n",
    "#pd.plotting.autocorrelation_plot(df['irrain mean'].dropna().iloc[:1000])\n",
    "plt.title('Autocorrelation Function (ACF) Plot for Ireland Precipitation Before Detrending')\n",
    "plt.show()\n",
    "\n",
    "resultir = seasonal_decompose(df_all['irrain mean'].dropna(), period=365)\n",
    "\n",
    "plt.figure(figsize=(12, 8))\n",
    "\n",
    "plt.subplot(3, 1, 1)\n",
    "plt.plot(resultir.observed.values, label='Observed')\n",
    "plt.legend()\n",
    "plt.title('Observed')\n",
    "\n",
    "plt.subplot(3, 1, 2)\n",
    "plt.plot(resultir.trend.values, label='Trend')\n",
    "plt.legend()\n",
    "plt.title('Trend')\n",
    "\n",
    "plt.subplot(3, 1, 3)\n",
    "plt.plot(resultir.resid.values, label='Residual')\n",
    "plt.legend()\n",
    "plt.title('Residual')\n",
    "\n",
    "plt.tight_layout()\n",
    "plt.show()\n",
    "\n",
    "# autocorrelation AFTER detrending\n",
    "pd.plotting.autocorrelation_plot(resultir.resid.dropna())\n",
    "#pd.plotting.autocorrelation_plot(df['irrain mean'].dropna().iloc[:1000])\n",
    "plt.title('Autocorrelation Function (ACF) Plot for Ireland Precipitation After Detrending')\n",
    "plt.show()\n",
    "\n",
    "# Plot PACF for Irish Precipitation\n",
    "plt.figure(figsize=(12, 4))\n",
    "plot_pacf(resultir.resid.dropna(), lags=100, \n",
    "          title='Partial Autocorrelation Function (PACF) Plot for Ireland Precipitation')\n",
    "plt.show()\n"
   ]
  },
  {
   "cell_type": "markdown",
   "metadata": {},
   "source": [
    "The result shows no correlation between Irish precipitation and its lagged version. The observed plot shows no long term trend. The trend plots shows a decreasing trend over time. The residual plot exhibit no clear patterns  in precipitation variations after removing the trend and seasonal components.\n",
    "\n",
    "The PACF plot at lag 1 suggests a weak relationship between the current observation and its immediately preceding observation."
   ]
  },
  {
   "cell_type": "markdown",
   "metadata": {},
   "source": [
    "#### 2.5.3.1 Time Lagged Cross-Correlation Analysis\n",
    "\n",
    "Cross-Correlation Analysis helps identify if changes in one variable lead or lag changes in another by measuring the similarity between two time series when a time lag function is applied to one of them (FasterCapital, n.d.). Positive lags indicate that the second time series follows the first, while negative lags indicate the second time series leads the first (methods-sagepub-com-christuniversity.knimbus.com, 2016). Scipy Python package was installed (projects.scipy.org, n.d.) and Time Lagged Cross-Correlation was executed as shown in docs.scipy.org signal.correlate (n.d.)."
   ]
  },
  {
   "cell_type": "code",
   "execution_count": null,
   "metadata": {},
   "outputs": [],
   "source": [
    "df_all"
   ]
  },
  {
   "cell_type": "code",
   "execution_count": null,
   "metadata": {},
   "outputs": [],
   "source": [
    "co2_series = df_all.resample('1000Y')['co2 mean'].mean().dropna()\n",
    "temp_series = df_all.resample('1000Y')['temp c ffill'].mean().dropna()\n",
    "\n",
    "min_length = min(len(co2_series), len(temp_series)) # both time series must have the same length\n",
    "co2_series = co2_series[:min_length]\n",
    "temp_series = temp_series[:min_length]\n",
    "\n",
    "co2_temp = pd.DataFrame([co2_series.values, temp_series.values]).T\n",
    "co2_temp.index=temp_series.index\n",
    "co2_temp.shape"
   ]
  },
  {
   "cell_type": "code",
   "execution_count": null,
   "metadata": {},
   "outputs": [],
   "source": [
    "co2_temp.index = co2_temp.index.astype(str).astype(float)\n",
    "px.scatter(co2_temp, title=\"Scatter Plot of  Carbon Dioxide and Atmospheric Temperature\")"
   ]
  },
  {
   "cell_type": "code",
   "execution_count": null,
   "metadata": {},
   "outputs": [],
   "source": [
    "corr = correlate(co2_series, temp_series, \n",
    "                 method='direct'\n",
    "                 )\n",
    "\n",
    "sig = df_all.resample('1000Y')['co2 mean'].mean().dropna().values\n",
    "sig_noise = df_all.resample('1000Y')['temp c ffill'].mean().dropna().values\n",
    "sig.shape, sig_noise.shape\n",
    "\n",
    "clock = np.arange(64, len(sig), 128)\n",
    "\n",
    "fig, (ax_orig, ax_noise, ax_corr) = plt.subplots(3, 1, sharex=True, figsize=(15,5))\n",
    "ax_orig.plot(sig)\n",
    "ax_orig.plot(clock, sig[clock], 'ro')\n",
    "ax_orig.set_title('CO2')\n",
    "\n",
    "ax_noise.plot(sig_noise)\n",
    "ax_noise.set_title('Temperature')\n",
    "\n",
    "ax_corr.plot(corr)\n",
    "ax_corr.plot(clock, corr[clock], 'ro')\n",
    "ax_corr.axhline(y=0.5, ls='--')\n",
    "ax_corr.set_title('Cross-correlation between CO2 and Temperature')\n",
    "\n",
    "ax_orig.margins(0, 0.1)\n",
    "fig.tight_layout()\n",
    "plt.show()"
   ]
  },
  {
   "cell_type": "markdown",
   "metadata": {},
   "source": [
    "Result shows that CO<sub>2</sub> and temperature exhibit negative cross-correlation towards present time."
   ]
  },
  {
   "cell_type": "code",
   "execution_count": null,
   "metadata": {},
   "outputs": [],
   "source": [
    "co2_series = df_all.resample('1000Y')['co2 mean'].mean().dropna()\n",
    "ch4_series = df_all.resample('1000Y')['ch4 mean'].mean().dropna()\n",
    "\n",
    "min_length = min(len(co2_series), len(ch4_series)) # both time series must have the same length\n",
    "co2_series = co2_series[:min_length]\n",
    "ch4_series = ch4_series[:min_length]\n",
    "\n",
    "co2_ch4 = pd.DataFrame([co2_series.values, ch4_series.values]).T\n",
    "co2_ch4.index=ch4_series.index\n",
    "co2_ch4.shape"
   ]
  },
  {
   "cell_type": "code",
   "execution_count": null,
   "metadata": {},
   "outputs": [],
   "source": [
    "co2_ch4.index = co2_ch4.index.astype(str).astype(float)\n",
    "px.scatter(co2_ch4, title=\"Scatter Plot of Carbon Dioxide and Methane\")"
   ]
  },
  {
   "cell_type": "code",
   "execution_count": null,
   "metadata": {},
   "outputs": [],
   "source": [
    "corr = correlate(co2_series, ch4_series, \n",
    "                 method='direct'\n",
    "                 )\n",
    "\n",
    "sig = df_all.resample('1000Y')['co2 mean'].mean().dropna().values\n",
    "sig_noise = df_all.resample('1000Y')['ch4 mean'].mean().dropna().values\n",
    "sig.shape, sig_noise.shape\n",
    "\n",
    "clock = np.arange(64, len(sig), 128)\n",
    "\n",
    "fig, (ax_orig, ax_noise, ax_corr) = plt.subplots(3, 1, sharex=True, figsize=(15,5))\n",
    "ax_orig.plot(sig)\n",
    "ax_orig.plot(clock, sig[clock], 'ro')\n",
    "ax_orig.set_title('CO2')\n",
    "\n",
    "ax_noise.plot(sig_noise)\n",
    "ax_noise.set_title('CH4')\n",
    "\n",
    "ax_corr.plot(corr)\n",
    "ax_corr.plot(clock, corr[clock], 'ro')\n",
    "ax_corr.axhline(0.5, ls=':')\n",
    "ax_corr.set_title('Cross-correlation between CO2 and CH4')\n",
    "\n",
    "ax_orig.margins(0, 0.1)\n",
    "fig.tight_layout()\n",
    "plt.show()"
   ]
  },
  {
   "cell_type": "markdown",
   "metadata": {},
   "source": [
    "Result shows that CO<sub>2</sub> and CH<sub>4</sub> exhibit stronger positive cross-correlation towards present time."
   ]
  },
  {
   "cell_type": "code",
   "execution_count": null,
   "metadata": {},
   "outputs": [],
   "source": [
    "temp_series = df_all.resample('1000Y')['temp c ffill'].mean().dropna()\n",
    "ch4_series = df_all.resample('1000Y')['ch4 mean'].mean().dropna()\n",
    "\n",
    "min_length = min(len(temp_series), len(ch4_series)) # both time series must have the same length\n",
    "temp_series = temp_series[:min_length]\n",
    "ch4_series = ch4_series[:min_length]\n",
    "\n",
    "temp_ch4 = pd.DataFrame([temp_series.values, ch4_series.values]).T\n",
    "temp_ch4.index=ch4_series.index\n",
    "temp_ch4.shape"
   ]
  },
  {
   "cell_type": "code",
   "execution_count": null,
   "metadata": {},
   "outputs": [],
   "source": [
    "temp_ch4.index = temp_ch4.index.astype(str).astype(float)\n",
    "px.scatter(temp_ch4, title=\"Scatter Plot of Atmospheric Temperature and Methane\")"
   ]
  },
  {
   "cell_type": "code",
   "execution_count": null,
   "metadata": {},
   "outputs": [],
   "source": [
    "corr = correlate(temp_series, ch4_series, \n",
    "                 method='direct'\n",
    "                 )\n",
    "\n",
    "sig = df_all.resample('1000Y')['temp c ffill'].mean().dropna().values\n",
    "sig_noise = df_all.resample('1000Y')['ch4 mean'].mean().dropna().values\n",
    "sig.shape, sig_noise.shape\n",
    "\n",
    "clock = np.arange(64, len(sig), 128)\n",
    "\n",
    "fig, (ax_orig, ax_noise, ax_corr) = plt.subplots(3, 1, sharex=True, figsize=(15,5))\n",
    "ax_orig.plot(sig)\n",
    "ax_orig.plot(clock, sig[clock], 'ro')\n",
    "ax_orig.set_title('Temperature')\n",
    "\n",
    "ax_noise.plot(sig_noise)\n",
    "ax_noise.set_title('CH4')\n",
    "\n",
    "ax_corr.plot(corr)\n",
    "ax_corr.plot(clock, corr[clock], 'ro')\n",
    "ax_corr.axhline(0.5, ls=':')\n",
    "ax_corr.set_title('Cross-correlation between Temperature and CH4')\n",
    "\n",
    "ax_orig.margins(0, 0.1)\n",
    "fig.tight_layout()\n",
    "plt.show()"
   ]
  },
  {
   "cell_type": "markdown",
   "metadata": {},
   "source": [
    "Result shows that temperature and CH<sub>4</sub> exhibit negative cross-correlation towards present time."
   ]
  },
  {
   "cell_type": "code",
   "execution_count": null,
   "metadata": {},
   "outputs": [],
   "source": [
    "irtemp_series = df_irtemp_all.resample('1Y')['irtemp mean'].mean()\n",
    "irrain_series = df_irrain_all.resample('1Y')['irrain mean'].mean()\n",
    "\n",
    "min_length = min(len(irtemp_series), len(irrain_series)) # both time series must have the same length\n",
    "irtemp_series = irtemp_series[:min_length]\n",
    "irrain_series = irrain_series[:min_length]\n",
    "\n",
    "irtemp_irrain = pd.DataFrame([irtemp_series.values, irrain_series.values]).T\n",
    "irtemp_irrain.index=irrain_series.index\n",
    "irtemp_irrain.shape"
   ]
  },
  {
   "cell_type": "code",
   "execution_count": null,
   "metadata": {},
   "outputs": [],
   "source": [
    "df_irtemp_all.index = df_irtemp_all.index.values.astype(float)\n",
    "df_irrain_all.index = df_irrain_all.index.values.astype(float)\n",
    "\n",
    "# irtemp_irrain.index = irtemp_irrain.index.astype(str).astype(float)\n",
    "px.scatter(irtemp_irrain)"
   ]
  },
  {
   "cell_type": "code",
   "execution_count": null,
   "metadata": {},
   "outputs": [],
   "source": [
    "df_irtemp_all.index = pd.to_datetime(df_irtemp_all.index)\n",
    "df_irrain_all.index = pd.to_datetime(df_irrain_all.index)\n",
    "\n",
    "corr = correlate(irtemp_series, irrain_series, \n",
    "                 method='direct'\n",
    "                 )\n",
    "\n",
    "sig = df_irtemp_all.resample('1Y')['irtemp mean'].mean().dropna().values\n",
    "sig_noise = df_irrain_all.resample('1Y')['irrain mean'].mean().dropna().values\n",
    "sig.shape, sig_noise.shape\n",
    "\n",
    "clock = np.arange(64, len(sig), 128)\n",
    "\n",
    "fig, (ax_orig, ax_noise, ax_corr) = plt.subplots(3, 1, sharex=True, figsize=(15,5))\n",
    "ax_orig.plot(sig)\n",
    "ax_orig.plot(clock, sig[clock], 'ro')\n",
    "ax_orig.set_title('Ireland Temperature')\n",
    "\n",
    "ax_noise.plot(sig_noise)\n",
    "ax_noise.set_title('Ireland Precipitation')\n",
    "\n",
    "ax_corr.plot(corr)\n",
    "ax_corr.plot(clock, corr[clock], 'ro')\n",
    "ax_corr.axhline(0.5, ls=':')\n",
    "ax_corr.set_title('Cross-correlation between Ireland Temperature and Precipitation')\n",
    "\n",
    "ax_orig.margins(0, 0.1)\n",
    "fig.tight_layout()\n",
    "plt.show()"
   ]
  },
  {
   "cell_type": "markdown",
   "metadata": {},
   "source": [
    "Result shows that there is positive cross-correlation between Ireland's temperature and precipitation towards present time. "
   ]
  },
  {
   "cell_type": "markdown",
   "metadata": {},
   "source": [
    "#### 2.5.4 Global Temperature Anomaly Prediction\n",
    "\n",
    "Prediction of global temperature anomaly over next few decades was performed using linear regression as shown by Das (2019) and Mali (2021)."
   ]
  },
  {
   "cell_type": "code",
   "execution_count": null,
   "metadata": {},
   "outputs": [],
   "source": [
    "df_all = pd.read_csv('df_all.csv')\n",
    "df_all.head(3)"
   ]
  },
  {
   "cell_type": "code",
   "execution_count": null,
   "metadata": {},
   "outputs": [],
   "source": [
    "df_all_plot = df_all[['year reset', 'anom modern anom', 'temp c ffill', 'co2 mean']].ffill().copy()\n",
    "df_all_plot.dropna(inplace=True)"
   ]
  },
  {
   "cell_type": "code",
   "execution_count": null,
   "metadata": {},
   "outputs": [],
   "source": [
    "df_all['temp cffill mod'] = df_all[['temp c ffill', 'modern temp c']].mean(1)\n",
    "df_all['anom c mod'] = df_all[['anom c', 'modern anom c']].mean(1)\n",
    "df_all[['year reset', 'temp cffill mod', 'anom c mod', 'co2 mean']].to_csv('df_all_plot.csv', index=False)"
   ]
  },
  {
   "cell_type": "code",
   "execution_count": null,
   "metadata": {},
   "outputs": [],
   "source": [
    "df_all_plot = pd.read_csv('df_all_plot.csv') \n",
    "df_all_plot.head(3)"
   ]
  },
  {
   "cell_type": "code",
   "execution_count": null,
   "metadata": {},
   "outputs": [],
   "source": [
    "df_all_plot.ffill().dropna(inplace=True)"
   ]
  },
  {
   "cell_type": "code",
   "execution_count": null,
   "metadata": {},
   "outputs": [],
   "source": [
    "px.scatter(df_all_plot, x='year reset', \n",
    "           y=df_all_plot.drop(columns='year reset').columns, trendline='ols',\n",
    "           title = 'Global Atmospheric Temperature, Temperature Anomaly and Carbon Dioxide (ppmv) from 822Kya to 2022'\n",
    "           ) "
   ]
  },
  {
   "cell_type": "code",
   "execution_count": null,
   "metadata": {},
   "outputs": [],
   "source": [
    "history = df_all_plot[df_all_plot['year reset'] <= 2022]\n",
    "\n",
    "X = df_all_plot[['co2 mean']].dropna()\n",
    "y = df_all_plot[['anom c mod']].dropna()\n",
    "\n",
    "min_length = min(len(X), len(y)) # both time series must have the same length\n",
    "X = X[:min_length]\n",
    "y = y[:min_length]\n",
    "\n",
    "X_train, X_test, y_train, y_test = train_test_split(X, y, test_size=0.2)\n",
    "\n",
    "model = LinearRegression()\n",
    "model.fit(X_train, y_train)\n",
    "\n",
    "predictions = model.predict(X_test)\n",
    "\n",
    "# mse = mean_squared_error(y_test, predictions)\n",
    "# print(f'Mean Squared Error: {mse}')\n",
    "\n",
    "print('Score :' ,model.score(X_test,y_test))\n",
    "\n",
    "plt.scatter(X_test, y_test, label='Test Data')\n",
    "plt.plot(X_test, predictions, label='Model Prediction', color='red')\n",
    "plt.xlabel('CO2 Levels (ppm)')\n",
    "plt.ylabel('Temperature Anomaly')\n",
    "plt.legend()\n",
    "plt.show();"
   ]
  },
  {
   "cell_type": "code",
   "execution_count": null,
   "metadata": {},
   "outputs": [],
   "source": [
    "# Use the trained model to extrapolate temperature anomalies for future years\n",
    "\n",
    "future_years = np.arange(2023, 3000).reshape(-1, 1)\n",
    "future_co2 = model.predict(future_years)\n",
    "\n",
    "X = np.concatenate([history['year reset'], future_years.reshape(-1) ])\n",
    "y = np.concatenate([history['anom c mod'], future_co2.reshape(-1)])\n",
    "\n",
    "Xy = pd.DataFrame([X, y]).T\n",
    "Xy.columns = ['year reset', 'Temperature Anomaly x CO2 Levels (ppm)']\n",
    "\n",
    "Xy"
   ]
  },
  {
   "cell_type": "code",
   "execution_count": null,
   "metadata": {},
   "outputs": [],
   "source": [
    "px.scatter(Xy, x='year reset', y='Temperature Anomaly x CO2 Levels (ppm)', width=800, \n",
    "           title=\"Extrapolated Temperature Anomaly x CO2 Levels (ppm) from 2023 to 3000 \"\n",
    "           )"
   ]
  },
  {
   "cell_type": "markdown",
   "metadata": {},
   "source": [
    "Result shows that global temperature anomaly will increase over time if atmospheric CO<sub>2</sub> trend keeps increasing as published by Szulejko et al. (2017), Ekwurzel et al. (2017) and NOAA (2023). However, in the ancient climate, Davis (2017) showed that atmospheric CO<sub>2</sub> changes did not cause temperature variations."
   ]
  },
  {
   "cell_type": "markdown",
   "metadata": {},
   "source": [
    "Method 2 for global temperature anomaly prediction utilises Ordinary Least Squares (OLS) regression trendline slopes (plotly.com linear-fits, n.d.)."
   ]
  },
  {
   "cell_type": "code",
   "execution_count": null,
   "metadata": {},
   "outputs": [],
   "source": [
    "# Method 2:\n",
    "\n",
    "df_all_plot=pd.read_csv('df_all_plot.csv')\n",
    "df_all_plot.tail(3)"
   ]
  },
  {
   "cell_type": "code",
   "execution_count": null,
   "metadata": {},
   "outputs": [],
   "source": [
    "# df_all_plot['anomxco2'] = df_all_plot['anom c mod'] * df_all_plot['co2 mean']\n",
    "# df_all_plot.head(3)"
   ]
  },
  {
   "cell_type": "code",
   "execution_count": null,
   "metadata": {},
   "outputs": [],
   "source": [
    "anom = df_all_plot[['year reset', 'anom c mod']].ffill().dropna()\n",
    "anom_ols = px.scatter(anom, x='year reset', y='anom c mod', \n",
    "                      trendline='ols', trendline_color_override=\"red\") \n",
    "anom_ols.show()\n",
    "\n",
    "# anom = df_all_plot[['year reset', 'anomxco2']].dropna()\n",
    "# anom_ols = px.scatter(anom, x='year reset', y='anomxco2', trendline='ols', trendline_color_override=\"red\") \n",
    "# anom_ols.show()"
   ]
  },
  {
   "cell_type": "code",
   "execution_count": null,
   "metadata": {},
   "outputs": [],
   "source": [
    "anom_ols_fit = px.get_trendline_results(anom_ols).iloc[0].values[0]\n",
    "slope, intercept = anom_ols_fit.params[1], anom_ols_fit.params[0]\n",
    "slope, intercept"
   ]
  },
  {
   "cell_type": "code",
   "execution_count": null,
   "metadata": {},
   "outputs": [],
   "source": [
    "anom_ols_fit.summary()"
   ]
  },
  {
   "cell_type": "code",
   "execution_count": null,
   "metadata": {},
   "outputs": [],
   "source": [
    "years = np.array([821988, 822388, 822888]) # Year: 2100, 2500, 3000\n",
    "anom_predict = slope * years + intercept\n",
    "anom_predict"
   ]
  },
  {
   "cell_type": "code",
   "execution_count": null,
   "metadata": {},
   "outputs": [],
   "source": [
    "anom_predict = pd.DataFrame([years, anom_predict]).T\n",
    "anom_predict.columns = anom.columns\n",
    "anom_predict['label'] = 'predicted'\n",
    "anom['label'] = 'observed'\n",
    "anom_predict = pd.concat([anom, anom_predict])\n",
    "anom_predict"
   ]
  },
  {
   "cell_type": "code",
   "execution_count": null,
   "metadata": {},
   "outputs": [],
   "source": [
    "anom_ols_fit.summary()"
   ]
  },
  {
   "cell_type": "code",
   "execution_count": null,
   "metadata": {},
   "outputs": [],
   "source": [
    "# y = mx + c\n",
    "\n",
    "# anom = 8.803996840327045e-06 * year reset + (-7.9372) \n",
    "# anom = 0.0028054007637301607 * year reset + (-2244.3278) \n",
    "\n",
    "# years = np.array([821988, 822388, 822888]) # Year: 2100, 2500, 3000\n",
    "# anom_predict = slope * years + intercept\n",
    "# anom_predict"
   ]
  },
  {
   "cell_type": "code",
   "execution_count": null,
   "metadata": {},
   "outputs": [],
   "source": [
    "# write down your steps to troubleshoot here\n",
    "anom_predict.columns.shape, anom.columns.shape"
   ]
  },
  {
   "cell_type": "code",
   "execution_count": null,
   "metadata": {},
   "outputs": [],
   "source": [
    "# anom_predict = pd.DataFrame([years, anom_predict]).T # fix pls \n",
    "# anom_predict.columns = anom.columns\n",
    "# anom_predict['label'] = 'predicted'\n",
    "# anom['label'] = 'observed'\n",
    "# anom_predict = pd.concat([anom, anom_predict])\n",
    "# anom_predict"
   ]
  },
  {
   "cell_type": "code",
   "execution_count": null,
   "metadata": {},
   "outputs": [],
   "source": [
    "px.scatter(anom_predict, x='year reset', y='anom c mod', color='label', trendline='ols')\n",
    "\n",
    "# px.scatter(anom_predict, x='year reset', y='anomxco2', color='label')"
   ]
  },
  {
   "cell_type": "markdown",
   "metadata": {},
   "source": [
    "Result shows that global temperature anomaly increases linearly over time. "
   ]
  },
  {
   "cell_type": "code",
   "execution_count": null,
   "metadata": {},
   "outputs": [],
   "source": [
    "temp = df_all_plot[['year reset', 'temp cffill mod']]\n",
    "temp.head(2)"
   ]
  },
  {
   "cell_type": "code",
   "execution_count": null,
   "metadata": {},
   "outputs": [],
   "source": [
    "temp_ols = px.scatter(temp, x='year reset', y='temp cffill mod', trendline='ols') \n",
    "temp_ols.show()"
   ]
  },
  {
   "cell_type": "code",
   "execution_count": null,
   "metadata": {},
   "outputs": [],
   "source": [
    "temp_ols_fit = px.get_trendline_results(temp_ols).iloc[0].values[0]\n",
    "slope, intercept = temp_ols_fit.params[1], temp_ols_fit.params[0]\n",
    "slope, intercept"
   ]
  },
  {
   "cell_type": "code",
   "execution_count": null,
   "metadata": {},
   "outputs": [],
   "source": [
    "temp_ols_fit.summary()"
   ]
  },
  {
   "cell_type": "code",
   "execution_count": null,
   "metadata": {},
   "outputs": [],
   "source": [
    "years = np.array([821988, 822388, 822888]) # Year: 2100, 2500, 3000\n",
    "temp_predict = slope * years + intercept\n",
    "temp_predict"
   ]
  },
  {
   "cell_type": "code",
   "execution_count": null,
   "metadata": {},
   "outputs": [],
   "source": [
    "temp_predict = pd.DataFrame([years, temp_predict]).T\n",
    "temp_predict.columns = temp.columns\n",
    "temp_predict['label'] = 'predicted'\n",
    "temp['label'] = 'observed'\n",
    "temp_predict = pd.concat([temp, temp_predict])\n",
    "temp_predict"
   ]
  },
  {
   "cell_type": "code",
   "execution_count": null,
   "metadata": {},
   "outputs": [],
   "source": [
    "px.scatter(temp_predict, x='year reset', y='temp cffill mod', color='label', trendline='ols')\n"
   ]
  },
  {
   "cell_type": "markdown",
   "metadata": {},
   "source": [
    "Result shows that global temperature increases linearly over time. "
   ]
  },
  {
   "cell_type": "code",
   "execution_count": null,
   "metadata": {},
   "outputs": [],
   "source": [
    "carbon = df_all_plot[['year reset', 'co2 mean']].ffill().dropna()\n",
    "carbon_ols = px.scatter(carbon, x='year reset', y='co2 mean', trendline='ols', trendline_color_override=\"red\") \n",
    "carbon_ols.show()"
   ]
  },
  {
   "cell_type": "code",
   "execution_count": null,
   "metadata": {},
   "outputs": [],
   "source": [
    "carbon_ols_fit = px.get_trendline_results(carbon_ols).iloc[0].values[0]\n",
    "slope, intercept = carbon_ols_fit.params[1], carbon_ols_fit.params[0]\n",
    "slope, intercept"
   ]
  },
  {
   "cell_type": "code",
   "execution_count": null,
   "metadata": {},
   "outputs": [],
   "source": [
    "carbon_ols_fit.summary()"
   ]
  },
  {
   "cell_type": "code",
   "execution_count": null,
   "metadata": {},
   "outputs": [],
   "source": [
    "years = np.array([821988, 822388, 822888]) # Year: 2100, 2500, 3000\n",
    "carbon_predict = slope * years + intercept\n",
    "carbon_predict"
   ]
  },
  {
   "cell_type": "code",
   "execution_count": null,
   "metadata": {},
   "outputs": [],
   "source": [
    "carbon_predict = pd.DataFrame([years, carbon_predict]).T\n",
    "carbon_predict.columns = carbon.columns\n",
    "carbon_predict['label'] = 'predicted'\n",
    "carbon['label'] = 'observed'\n",
    "carbon_predict = pd.concat([carbon, carbon_predict])\n",
    "carbon_predict"
   ]
  },
  {
   "cell_type": "code",
   "execution_count": null,
   "metadata": {},
   "outputs": [],
   "source": [
    "px.scatter(carbon_predict, x='year reset', y='co2 mean', color='label', trendline='ols')"
   ]
  },
  {
   "cell_type": "markdown",
   "metadata": {},
   "source": [
    "Result shows that atmospheric CO<sub>2</sub> also increases linearly over time. "
   ]
  },
  {
   "cell_type": "markdown",
   "metadata": {},
   "source": [
    "#### 2.5.5 Accelerated Warming\n",
    "\n",
    "To evaluate the presence of accelerated warming based on CO<sub>2</sub> , temperature, temperature anomaly, CH<sub>4</sub> and Ireland's temperature and precipitation, Ordinary Least Squares (OLS) regression trendline slopes (plotly.com linear-fits, n.d.) from paleo data were compared with those from the last 5 years."
   ]
  },
  {
   "cell_type": "code",
   "execution_count": null,
   "metadata": {},
   "outputs": [],
   "source": [
    "df_all = pd.read_csv('df_all.csv')\n",
    "df_all.head(3)"
   ]
  },
  {
   "cell_type": "code",
   "execution_count": null,
   "metadata": {},
   "outputs": [],
   "source": [
    "df_all_var = df_all[['year reset', 'anom modern anom', 'temp c ffill', 'co2 mean', 'ch4 mean', 'irtemp mean', 'irrain mean']].ffill().copy()\n",
    "df_all_var.dropna(inplace=True)\n",
    "df_all_var.head(3)"
   ]
  },
  {
   "cell_type": "code",
   "execution_count": null,
   "metadata": {},
   "outputs": [],
   "source": [
    "df_all['temp cffill mod'] = df_all[['temp c ffill', 'modern temp c']].mean(1).iloc[:-1]\n",
    "df_all['anom c mod'] = df_all[['anom c', 'modern anom c']].mean(1)\n",
    "df_all[['year reset', 'temp cffill mod', 'anom c mod', 'co2 mean', 'ch4 mean', 'irtemp mean', 'irrain mean']].to_csv('df_all_var.csv', index=False)"
   ]
  },
  {
   "cell_type": "code",
   "execution_count": null,
   "metadata": {},
   "outputs": [],
   "source": [
    "df_all_var = pd.read_csv('df_all_var.csv') \n",
    "df_all_var.head(3)"
   ]
  },
  {
   "cell_type": "code",
   "execution_count": null,
   "metadata": {},
   "outputs": [],
   "source": [
    "df_all_var.ffill().dropna(inplace=True)\n",
    "df_all_var.tail(3)"
   ]
  },
  {
   "cell_type": "code",
   "execution_count": null,
   "metadata": {},
   "outputs": [],
   "source": [
    "px.scatter(df_all_var, x='year reset', \n",
    "           y=df_all_var.drop(columns='year reset').columns, trendline='ols',\n",
    "           title = 'Global Atmospheric Temperature, Temperature Anomaly, Carbon Dioxide (ppmv), Methane (ppbv) and Irish Temperature and Precipitation over Time'\n",
    "           )"
   ]
  },
  {
   "cell_type": "markdown",
   "metadata": {},
   "source": [
    "Plot shows that there is an accelerated increase of CO<sub>2</sub>, temperature, temperature anomaly, CH<sub>4</sub> and Ireland's temperature and precipitation from the last 200 years. Because the levels are consistently increasing over that period, there is definitely a signal happening in the data, and not just some random effects of noise."
   ]
  },
  {
   "cell_type": "code",
   "execution_count": null,
   "metadata": {},
   "outputs": [],
   "source": [
    "# Plot for 2018 to 2023 (821906 to 821911)\n",
    "\n",
    "px.scatter(df_all_var.tail(73), x='year reset', \n",
    "           y=df_all_var.drop(columns='year reset').columns, trendline='ols',\n",
    "           range_x=[821906, 821912],\n",
    "           title = 'Global Atmospheric Temperature, Temperature Anomaly, Carbon Dioxide (ppmv), Methane (ppbv) and Irish Temperature and Precipitation from 2018 to 2023'\n",
    "           )"
   ]
  },
  {
   "cell_type": "markdown",
   "metadata": {},
   "source": [
    "There is no significant indication of accelerated warming based on data from the last 5 years."
   ]
  },
  {
   "cell_type": "markdown",
   "metadata": {},
   "source": [
    "## 4.0 Conclusions\n",
    "\n",
    "All data from CO<sub>2</sub>, temperature, temperature anomaly, CH<sub>4</sub> from 822kya to present and Ireland's temperature and precipitation were processed and merged into df_all.csv and df_all.json. \n",
    "\n",
    "A comparison between IPCC Report's CO<sub>2</sub> and Luthi et al. 2008 datasets shows that CO<sub>2</sub> dataset from Luthi et al. 2008 is not a subset of the IPCC Report and suggests the presence of gas age revision in IPCC Report.\n",
    "\n",
    "Comparison of temperature data from Jouzel et al. (2007)-AICC and NOAA NCEI (2023b) found that the time (Gas age) adjustment in AICC2012 shifted the temperature values from 822kya to 400kya, while temperature and time from 400kya to present remain the same. A comparison of temperature and anomaly from the Jouzel-AICC and NOAA Dataset shows that the anomaly from Jouzel-AICC paper matched the anomaly from NOAA. \n",
    "\n",
    "Pearson Correlation results show that CO<sub>2</sub> has a high positive correlation with CH<sub>4</sub> and temperature, and a high negative correlation with Irish temperature. \n",
    "\n",
    "The Mann-Kendall Test shows significant increasing trends in CO<sub>2</sub>, temperature, temperature anomaly, CH<sub>4</sub>, while Ireland's temperature and precipitation show decreasing trends. \n",
    "\n",
    "Fast Fourier Transform (FFT) result shows that for CO<sub>2</sub>, CH<sub>4</sub> and temperature, there is a significant dominant frequency occuring every 10000 years and a lesser magnitude one every 25000 years. \n",
    "\n",
    "Multi-Seasonal Time Series Decomposition for Ireland's temperature and precipitation shows that the seasonal effect is consistently present, but shows weak seasonality. Ireland's temperature and precipitation have remained relatively constant over the years, and there are no clear systematic patterns or irregularities in the data after removing the trend and seasonal components. \n",
    "\n",
    "Ireland's Signal to Noise Ratio (SNR) for annual mean temperature\n",
    "\n",
    "The Granger Causality Test indicate a a causal relationship between CO<sub>2</sub> and temperature, between temperature and CH<sub>04</sub>, and CO<sub>2</sub> correlates with a rise in CH<sub>4</sub>.\n",
    "\n",
    "Autocorrelation Function (ACF) shows that current values are significantly influenced by its past values for temperature, CO<sub>2</sub> and CH<sub>4</sub> for lags up to 12000years, 15000 years and 11000 years, respectively. Partial Autocorrelation Function (PACF) values for temperature, CO<sub>2</sub> and CH<sub>4</sub> are statistically significant until lag=1000 years. The autocorrelation between Irish temperature and precipitation and their lagged versions decrease over time.\n",
    "\n",
    "Time Lagged Cross-Correlation Analysis shows that CO<sub>2</sub> and temperature exhibit negative cross-correlation towards present time, CO<sub>2</sub> and CH<sub>4</sub> exhibit stronger positive cross-correlation towards present time and temperature and CH<sub>4</sub> exhibit negative cross-correlation towards present time. There is also a positive cross-correlation between Ireland's temperature and precipitation towards present time.\n",
    "\n",
    "Results from global temperature anomaly prediction shows that global temperature anomaly will increase over time, if the atmospheric CO<sub>2</sub> trend keeps increasing. \n",
    "\n",
    "There is an accelerated increase of CO<sub>2</sub>, temperature, temperature anomaly, CH<sub>4</sub> and Ireland's temperature and precipitation over the last 200 years, although there is no indication of accelerated warming based on data from the last 5 years."
   ]
  },
  {
   "cell_type": "markdown",
   "metadata": {},
   "source": [
    "## 5.0 References"
   ]
  },
  {
   "cell_type": "markdown",
   "metadata": {},
   "source": []
  },
  {
   "cell_type": "markdown",
   "metadata": {},
   "source": [
    "***\n",
    "\n",
    "## End of Project 2"
   ]
  }
 ],
 "metadata": {
  "kernelspec": {
   "display_name": "base_3.11",
   "language": "python",
   "name": "python3"
  },
  "language_info": {
   "codemirror_mode": {
    "name": "ipython",
    "version": 3
   },
   "file_extension": ".py",
   "mimetype": "text/x-python",
   "name": "python",
   "nbconvert_exporter": "python",
   "pygments_lexer": "ipython3",
   "version": "3.11.5"
  }
 },
 "nbformat": 4,
 "nbformat_minor": 2
}
