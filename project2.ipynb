{
 "cells": [
  {
   "cell_type": "markdown",
   "metadata": {},
   "source": [
    "# Project 2 Programming for Data Analysis Winter 2023 \n",
    "\n",
    "**Author: Nur Bujang**\n",
    "\n",
    "project2.ipynb\n",
    "***"
   ]
  },
  {
   "cell_type": "markdown",
   "metadata": {
    "vscode": {
     "languageId": "plaintext"
    }
   },
   "source": [
    "### Project Instruction:\n",
    "\n",
    "> Analyse CO2 vs Temperature Anomaly from 800kyrs – present.\n",
    "\n",
    "> Examine one other (paleo/modern) features (e.g. CH4 or polar ice-coverage)\n",
    "\n",
    "> Examine Irish context:\n",
    "\n",
    "    > Climate change signals: (see Maynooth study: The emergence of a climate change signal in long-term Irish meteorological observations - ScienceDirect)\n",
    "\n",
    "> Fuse and analyse data from various data sources and format fused data set as a pandas dataframe and export to csv and json formats\n",
    "\n",
    "> For all of the above variables, analyse the data, the trends and the relationships between them (temporal leads/lags/frequency analysis).\n",
    "\n",
    "> Predict global temperature anomaly over next few decades (synthesise data) and compare to published climate models if atmospheric CO2 trends continue\n",
    "\n",
    "> Comment on accelerated warming based on very latest features (e.g. temperature/polar-ice-coverage)"
   ]
  },
  {
   "cell_type": "markdown",
   "metadata": {},
   "source": []
  },
  {
   "cell_type": "markdown",
   "metadata": {
    "vscode": {
     "languageId": "plaintext"
    }
   },
   "source": [
    "# Project Title: \n",
    "\n",
    "## **An Analysis Of Paleo-Present Climate Data**\n",
    "\n",
    "## Abstract\n"
   ]
  },
  {
   "cell_type": "markdown",
   "metadata": {
    "vscode": {
     "languageId": "plaintext"
    }
   },
   "source": [
    "## 1.0 Background\n",
    "\n",
    "### 1.1 Climate Change\n",
    "\n",
    "Climate is characterized by long-term patterns in temperature, humidity, winds, rainfall and extreme weather frequency. Climate change refers to significant and persistent changes in the local, regional and global climate pattern (NASA, 2023b). According to United Nations (2023) and NASA (2023a), the impacts of climate change include rising sea levels, catastrophic and frequent floods and droughts and melting polar ice. \n",
    "\n",
    "### 1.2 Global Warming\n",
    "Global warming is a specific aspect of climate change defined by the abnormally-accelerated increase in Earth's average surface temperature due to human activity (Riebeek, 2010). This surface temperature increase has been observed since the pre-industrial period, mostly due to greenhouse gasses from fossil fuel burning (NASA, 2023b). According to United States Environmental Protection Agency (2017), examples of greenhouse gases include carbon dioxide(CO<sub>2</sub>), nitrous oxide(N<sub>2</sub>O), methane (CH<sub>4</sub>) and sulfur hexafluoride (SF<sub>6</sub>).\n",
    "\n",
    "### 1.3 Links Between CO<sub>2</sub>, Temperature, CH<sub>4</sub> And Precipitation In Climate Change\n",
    "\n",
    "The interrelationships between atmospheric carbon dioxide (CO2), methane (CH4), temperature, and precipitation is intricate and play a vital role in the complex system of climate change. The greenhouse gases (CO<sub>2</sub> and CH<sub>4</sub>) trap heat in the Earth's atmosphere by absorbing and re-emitting infrared radiation back toward Earth's surface (www.ces.fau.edu, n.d.). This Greenhouse Effect results in a rise in average global temperatures, impacting various components of the Earth's climate system. \n",
    "\n",
    "These warmer temperatures affect the atmospheric circulation and moisture patterns through intensification of the water cycle where warmer air holds more moisture (Wikipedia, 2023). This shifts in rainfall and precipitation distribution patterns leads to intense and frequent extreme weather events, such as heavy rainfall, storms, heatwaves and droughts (Understanding Global Change, n.d., Dore, 2005, www.eea.europa.eu, n.d.).\n",
    "\n",
    "Changes in temperature and precipitation can also create an ice-albedo feedback, where the reduction Earth's albedo (reflectivity) from ice and snow melt caused by warmer temperatures leads to more absorption of solar radiation, thus further warming the planet (CIRES Education and Outreach at CU Boulder, n.d.).\n",
    "\n",
    "#### 1.3.1 Atmospheric CO<sub>2</sub>\n",
    "\n",
    "According to Berner (1991), atmospheric CO<sub>2</sub> dictates the world climate on geological time magnitude. Results from ice-core data show that atmospheric CO<sub>2</sub> concentrations were significantly lower between 650kyr and 750kyr compared to the present day (Lüthi et al., 2008). A few years later, Bereiter et al. (2015) followed up with a corrected 442–816kyr portion of the EPICA Dome C CO<sub>2</sub> data.\n",
    "\n",
    "According to Hertzberg and Schreuder (2016), there has been a steady increase in the average atmospheric CO<sub>2</sub> concentration from 280ppmv to 400ppmv over the last two centuries. Data from atmospheric CO<sub>2</sub> concentration collected at  at Mauna Loa Observatory, Hawaii shows a linear trend from 315ppm in 1959 to 425ppm in 2022 (NOAA, 2023).\n",
    "\n",
    "#### 1.3.2 Temperature\n",
    "\n",
    "Results from high-resolution deuterium measurements of ice core data show that based on 100-year mean values over the past 800kyr, surface temperature increased ~15°C (Jouzel et al., 2007). Parrenin et al. (2013) found that atmospheric CO<sub>2</sub> and surface air temperature move synchronously for most part from 800kyr to the present time eventhough Fischer et al. (1999), Monnin et al. (2001) and Lourantou et al. (2010) reported that atmospheric CO<sub>2</sub> lags behind temperature by a few hundred years. However, Hertzberg and Schreuder (2016) noticed that temperature changes always precedes atmospheric CO<sub>2</sub> changes by several hundred to a thousand years, thus suggesting that temperature change causes CO<sub>2</sub>, and not vice versa. \n",
    "\n",
    "Chen et al. (2023) reported a correlation between atmospheric CO<sub>2</sub> and temperature. Earlier, Kang and Larsson (2013) reported a feedback system where temperature and CO<sub>2</sub> Granger-cause each other in both directions.\n",
    "\n",
    "#### 1.3.3 Atmospheric CH<sub>4</sub>\n",
    "\n",
    "Petit et al. (1999) reported that CO<sub>2</sub> and CH<sub>4</sub> concentrations follow the same trend for each glacial cycle. Monnin et al. (2001) reported that eventough the reasons behind CH<sub>4</sub> concentrations variations are different from CO<sub>2</sub>, in general, CO<sub>2</sub> and CH<sub>4</sub> increase are parallel with each other. There is also a high correlation between temperature and CH<sub>4</sub> in the past (Spahni et al., 2005). Using Granger causality analysis, temperature, CO<sub>2</sub> and CH<sub>4</sub> bidirectionally Granger-cause each other, where one's increase causes an increase in the other in a feedback system (Larsson and Persson, 2023).\n",
    "\n",
    "#### 1.3.4 Irish Precipitation\n",
    "\n",
    "An analysis of a homogenized Island of Ireland Precipitation (IIP) data from 1850–2010 to study long-term rainfall series in Ireland found an increasing pattern or upward trend in the amount of precipitation (rainfall or snowfall) during the winter months, while a negative or decreasing pattern was found in the amount of precipitation during the summer months (Noone et al., 2016). \n",
    "\n",
    "Long-term air temperature series data for Ireland between 1831-1968 was reconstructed by Mateus, Potito and Curley (2020) and between 1885–2018 (Mateus and Potito, 2021). Subsequent analysis between 1885 to 2018 found significant air temperature increase in all seasons, especially spring and autumn and significant air temperature decrease during cold days, cold nights and frost days (Mateus and Potito, 2022).\n",
    "\n",
    "Later, Murphy et al. (2023a) found that Dublin-based stations show a maximum increase of 1.14°C in the annual mean temperature for every 1°C increase in the global mean surface temperature and increase in extremely heavy rainfall were recorded for 30% of stations. Such temperature increase would result in higher a risk of river and groundwater flooding in Ireland (Murphy et al., 2023b)."
   ]
  },
  {
   "cell_type": "markdown",
   "metadata": {
    "vscode": {
     "languageId": "plaintext"
    }
   },
   "source": []
  },
  {
   "cell_type": "markdown",
   "metadata": {
    "vscode": {
     "languageId": "plaintext"
    }
   },
   "source": []
  },
  {
   "cell_type": "markdown",
   "metadata": {},
   "source": [
    "## 2.0 Methods and Implementation\n",
    "\n",
    "### 2.1 CO<sub>2</sub> vs Temperature Anomaly From 800kyrs – Present\n",
    "\n",
    "Data for CO<sub>2</sub> was a composite of Chen et al. (2023) for 800kyr-2001 and Lan, Tans and Thoning (2023) for 2002-2022.\n",
    "\n",
    "pandas to see if 1 is subset of another, overlap etc, plot on same axis, plot one over the other, why is ipcc different from the other one?\n",
    "\n"
   ]
  },
  {
   "cell_type": "code",
   "execution_count": null,
   "metadata": {},
   "outputs": [],
   "source": [
    "import pandas as pd"
   ]
  },
  {
   "cell_type": "code",
   "execution_count": null,
   "metadata": {},
   "outputs": [],
   "source": []
  },
  {
   "cell_type": "code",
   "execution_count": null,
   "metadata": {},
   "outputs": [],
   "source": []
  },
  {
   "cell_type": "code",
   "execution_count": null,
   "metadata": {},
   "outputs": [],
   "source": []
  },
  {
   "cell_type": "code",
   "execution_count": null,
   "metadata": {},
   "outputs": [],
   "source": []
  },
  {
   "cell_type": "code",
   "execution_count": null,
   "metadata": {},
   "outputs": [],
   "source": []
  },
  {
   "cell_type": "code",
   "execution_count": null,
   "metadata": {},
   "outputs": [],
   "source": []
  },
  {
   "cell_type": "code",
   "execution_count": null,
   "metadata": {},
   "outputs": [],
   "source": []
  },
  {
   "cell_type": "code",
   "execution_count": null,
   "metadata": {},
   "outputs": [],
   "source": []
  },
  {
   "cell_type": "code",
   "execution_count": null,
   "metadata": {},
   "outputs": [],
   "source": []
  },
  {
   "cell_type": "code",
   "execution_count": null,
   "metadata": {},
   "outputs": [],
   "source": []
  },
  {
   "cell_type": "code",
   "execution_count": null,
   "metadata": {},
   "outputs": [],
   "source": []
  },
  {
   "cell_type": "code",
   "execution_count": null,
   "metadata": {},
   "outputs": [],
   "source": []
  },
  {
   "cell_type": "code",
   "execution_count": null,
   "metadata": {},
   "outputs": [],
   "source": []
  },
  {
   "cell_type": "code",
   "execution_count": null,
   "metadata": {},
   "outputs": [],
   "source": []
  },
  {
   "cell_type": "code",
   "execution_count": null,
   "metadata": {},
   "outputs": [],
   "source": []
  },
  {
   "cell_type": "code",
   "execution_count": null,
   "metadata": {},
   "outputs": [],
   "source": []
  },
  {
   "cell_type": "markdown",
   "metadata": {},
   "source": [
    "Data for temperature was a composite of National Centers for Environmental Information (NOAA NCEI, n.d.), Jouzel and Masson‐Delmotte (2007) versions of Jouzel et al. (2007) for 800kyr-2000 and NOAA NCEI (2023b) for 2001-2022, where the 20th century global average temperature is 13.9°C (57.0°F) NOAA NCEI (2023a).\n",
    "\n",
    "tempnoaajoudelt2000-801662 - (Jouzel and Masson‐Delmotte, 2007), $\\delta$ T is the temperature difference from the average of the last 1000 years in °C, with corrections (Bintanja, van de Wal and Oerlemans, 2005, Parrenin et al., 2007).\n",
    "\n",
    "tempjouzelaicc2000-800kyr - AICC12 with different ice core chronology and timescale.\n",
    "\n",
    "find baseline/is there a constant from jouzel to get the noaa anomaly\n",
    "subtract one graph from another\n",
    "\n"
   ]
  },
  {
   "cell_type": "code",
   "execution_count": null,
   "metadata": {},
   "outputs": [],
   "source": []
  },
  {
   "cell_type": "code",
   "execution_count": null,
   "metadata": {},
   "outputs": [],
   "source": []
  },
  {
   "cell_type": "markdown",
   "metadata": {},
   "source": [
    "### 2.2 CH<sub>4</sub> Anomaly From 800kyrs – Present\n",
    "\n",
    "Data for CH<sub>4</sub> was a composite of Loulergue et al. (2008) for 800kyr-1937, Rubino et al. (2019) for 1938-1996 and Lan, Thoning and Dlugokencky (2023) for 1997-2022.\n",
    "\n"
   ]
  },
  {
   "cell_type": "code",
   "execution_count": null,
   "metadata": {},
   "outputs": [],
   "source": []
  },
  {
   "cell_type": "code",
   "execution_count": null,
   "metadata": {},
   "outputs": [],
   "source": []
  },
  {
   "cell_type": "code",
   "execution_count": null,
   "metadata": {},
   "outputs": [],
   "source": []
  },
  {
   "cell_type": "code",
   "execution_count": null,
   "metadata": {},
   "outputs": [],
   "source": []
  },
  {
   "cell_type": "code",
   "execution_count": null,
   "metadata": {},
   "outputs": [],
   "source": []
  },
  {
   "cell_type": "code",
   "execution_count": null,
   "metadata": {},
   "outputs": [],
   "source": []
  },
  {
   "cell_type": "code",
   "execution_count": null,
   "metadata": {},
   "outputs": [],
   "source": []
  },
  {
   "cell_type": "markdown",
   "metadata": {},
   "source": [
    "### 2.3 Irish Context: Precipitation\n",
    "\n",
    "Temperature data was a composite of Mateus (2021), Mateus and Potito (2021), Mateus, Potito and Curley (2020a), Mateus, Potito and Curley (2020b) for 1831-1852 at Phoenix Park, Dublin, 1853-1854 at Botanic Gardens Glasnevin, Dublin, 1855-1940 at Phoenix Park, Dublin, and Met Eireann (2019) for 1941-2023 at Dublin Airport.\n",
    "\n",
    "Precipitation data was a composite of Murphy et al. (2018a,b) for 1711–2016 and Met Eireann (2019) for 2017-2023 at Dublin Airport."
   ]
  },
  {
   "cell_type": "code",
   "execution_count": null,
   "metadata": {},
   "outputs": [],
   "source": []
  },
  {
   "cell_type": "code",
   "execution_count": null,
   "metadata": {},
   "outputs": [],
   "source": []
  },
  {
   "cell_type": "code",
   "execution_count": null,
   "metadata": {},
   "outputs": [],
   "source": []
  },
  {
   "cell_type": "code",
   "execution_count": null,
   "metadata": {},
   "outputs": [],
   "source": []
  },
  {
   "cell_type": "markdown",
   "metadata": {},
   "source": [
    "### 2.4 Data Fusion To csv And json"
   ]
  },
  {
   "cell_type": "code",
   "execution_count": null,
   "metadata": {},
   "outputs": [],
   "source": []
  },
  {
   "cell_type": "code",
   "execution_count": null,
   "metadata": {},
   "outputs": [],
   "source": []
  },
  {
   "cell_type": "code",
   "execution_count": null,
   "metadata": {},
   "outputs": [],
   "source": []
  },
  {
   "cell_type": "markdown",
   "metadata": {},
   "source": [
    "### 2.5 Analysis Of CO<sub>2</sub>, Temperature, CH<sub>4</sub> and Precipitation\n",
    "\n",
    "frequency analysis of a time-based signal\n",
    "fft function Fast Fourier Transformation FFT-to analyse time series - extracting frequency info abt a time signal"
   ]
  },
  {
   "cell_type": "code",
   "execution_count": null,
   "metadata": {},
   "outputs": [],
   "source": []
  },
  {
   "cell_type": "code",
   "execution_count": null,
   "metadata": {},
   "outputs": [],
   "source": []
  },
  {
   "cell_type": "code",
   "execution_count": null,
   "metadata": {},
   "outputs": [],
   "source": []
  },
  {
   "cell_type": "markdown",
   "metadata": {},
   "source": [
    "### 2.6 Global Temperature Anomaly Prediction"
   ]
  },
  {
   "cell_type": "code",
   "execution_count": null,
   "metadata": {},
   "outputs": [],
   "source": []
  },
  {
   "cell_type": "code",
   "execution_count": null,
   "metadata": {},
   "outputs": [],
   "source": []
  },
  {
   "cell_type": "code",
   "execution_count": null,
   "metadata": {},
   "outputs": [],
   "source": []
  },
  {
   "cell_type": "code",
   "execution_count": null,
   "metadata": {},
   "outputs": [],
   "source": []
  },
  {
   "cell_type": "markdown",
   "metadata": {},
   "source": [
    "### 2.7 Accelerated Warming"
   ]
  },
  {
   "cell_type": "code",
   "execution_count": null,
   "metadata": {},
   "outputs": [],
   "source": []
  },
  {
   "cell_type": "code",
   "execution_count": null,
   "metadata": {},
   "outputs": [],
   "source": []
  },
  {
   "cell_type": "code",
   "execution_count": null,
   "metadata": {},
   "outputs": [],
   "source": []
  },
  {
   "cell_type": "code",
   "execution_count": null,
   "metadata": {},
   "outputs": [],
   "source": []
  },
  {
   "cell_type": "code",
   "execution_count": null,
   "metadata": {},
   "outputs": [],
   "source": []
  },
  {
   "cell_type": "code",
   "execution_count": null,
   "metadata": {},
   "outputs": [],
   "source": []
  },
  {
   "cell_type": "code",
   "execution_count": null,
   "metadata": {},
   "outputs": [],
   "source": []
  },
  {
   "cell_type": "code",
   "execution_count": null,
   "metadata": {},
   "outputs": [],
   "source": []
  },
  {
   "cell_type": "code",
   "execution_count": null,
   "metadata": {},
   "outputs": [],
   "source": []
  },
  {
   "cell_type": "markdown",
   "metadata": {},
   "source": [
    "## 4.0 Conclusions"
   ]
  },
  {
   "cell_type": "markdown",
   "metadata": {},
   "source": [
    "## 5.0 References"
   ]
  },
  {
   "cell_type": "markdown",
   "metadata": {},
   "source": []
  },
  {
   "cell_type": "code",
   "execution_count": null,
   "metadata": {},
   "outputs": [],
   "source": [
    "***\n",
    "\n",
    "## End of Project 2"
   ]
  },
  {
   "cell_type": "markdown",
   "metadata": {},
   "source": [
    "https://www.climate.gov/news-features/understanding-climate/climate-change-atmospheric-carbon-dioxide\n",
    "\n",
    "https://theconversation.com/the-three-minute-story-of-800-000-years-of-climate-change-with-a-sting-in-the-tail-73368\n",
    "\n",
    "https://www.researchgate.net/publication/340121184_Forty_years_of_ice-core_records_of_CO2\n",
    "\n",
    "https://www.beyondepica.eu/en/\n",
    "\n",
    "https://doi.pangaea.de/10.1594/PANGAEA.710901\n",
    "\n",
    "better Co2 data than this: https://www.ncei.noaa.gov/pub/data/paleo/icecore/antarctica/antarctica2015co2composite.txt\n",
    "\n",
    "better temp data than this: https://www.pangaea.de/?q=temperature+anomaly+ice+core\n",
    "\n",
    "Carbon dioxide pumphandle - 2022: https://www.youtube.com/watch?v=gbxEsG8g6BA\n",
    "\n",
    "Co2, CH4, N2o, SF6: https://gml.noaa.gov/ccgg/trends/data.html\n",
    "\n",
    "methane 800kyr: https://www.ncei.noaa.gov/access/paleo-search/?dataTypeId=7\n",
    "\n",
    "1. merge ice core x Mauna Loa data for temp and co2 from 800kyrs to now- some will hv time overlap, look at how the composite record from both these experiments was formed, overlay all the graphs, some will have time overlap. overlay them all on the same axis, with the composite, how did they decide with overlapping years, which one to take? and how much agreement between all diff datasets, what temporal overlap in time between them all? - RECREATE THE GRAPH FROM coluthi.xlx 80kyr of CO2 (data is from coluthi Vostok-TD-DomeC tab). temp is from \n",
    "\n",
    "beware of temp unit. 41586_2008_BFnature06949_MOESM31_ESM, Jouzel's data (epicaDC.deutemp.EDC3-AICC), 191.8 VS186ya, temp in kelvin - SO how did they get the temp anomaly? was all these expressed in Celcius, and these are averages calculated over the entire period or what's the offset to change 218.3 (absolute temp in kelvin in deuttemp) to 0.88, 1.84 (temp anomaly in BFnature) for year 38,46 in BFnature datafile? how was that transformation done?\n",
    "\n",
    "other feature: ncei.noaa.gov/products/paleoclimatology, ncei.noaa.gov/access/paleo-search, CH4 https://euanmearns.com/the-vostok-ice-core-temperature-co2-and-ch4  or sea ice https://nsidc.org/data/seaice_index, https://www.climate.gov/news-features/event-tracker/2023-antarctic-sea-ice-winter-maximum-lowest-record-wide-margin 2023 record low, way outside std, how many std from mean is it out, estimate how much of a fluke it is VS https://earth.gsfc.nasa.gov/cryo/data/arcticantarctic-sea-ice-time-series or total solar irradiance (look in paleo)\n",
    "\n",
    "in Irish context: https://www.rte.ie/brainstorm/2023/1020/1412054-human-induced-climate-change-irish-weather/, https://www.maynoothuniversity.ie/icarus/news/icarus-research-identifies-climate-change-weather-records-0 temp and precipitation data from long-term trends in daily extreme air temperature indices in ireland from 1885 to 2018 https://www.sciencedirect.com/science/article/pii/S2212094722000469- https:www.met.ie/climate/available-data/long-term-data-sets/ reproduce some of the analysis in Murphy paper\n",
    "\n",
    "relationship between all variables-correlation, does one lead/lag to the other, \n",
    "\n",
    "Just for temp: linear regression - predict global temp anomaly over next few decases, synthesise data and compare to published climate models if atmospheric CO2 trends continue\n",
    "\n",
    "Analysis:\n",
    "\n",
    "traditionalist vs accelerationists- https://twitter.com/ryankatzrosene/status/1710108929789759812 look back at source data and see with CO2, esp temp, are we seeing linear/nonlinear increase ? Mann: warming is linear, but effects from warming is not. https://edition.cnn.com/2023/11/20/climate/2-degree-warming-limit-record-copernicus-climate-int/index.html, \n",
    "\n",
    "comment: are the data that u see outside of normal noise or within? if outside, there's a signal happening in data, not just some random effects of noise\n",
    "\n",
    "***\n",
    "\n",
    "CO2 data from Luthi et al. 2008: https://static-content.springer.com/esm/art%3A10.1038%2Fnature06949/MediaObjects/41586_2008_BFnature06949_MOESM31_ESM.xls\n",
    "\n",
    "CO2 data from IPCC: paper: https://www.ipcc.ch/report/ar6/wg1/downloads/report/IPCC_AR6_WGI_Chapter01_SM.pdf\n",
    "                data: https://agupubs.onlinelibrary.wiley.com/action/downloadSupplement?doi=10.1002%2F2014GL061957&file=grl52461-sup-0003-supplementary.xls\n",
    "\n",
    "Temp Jouzel - epicaDC.deuttemp.EDC3-AICC: https://vlegalwaymayo.atu.ie/pluginfile.php/1171393/mod_resource/content/0/epicaDC.deuttemp.EDC3-AICC.xls\n",
    "\n",
    "Temperature Data from NOAA: https://www.ncei.noaa.gov/access/paleo-search/study/6080\n",
    "\n",
    "Irish Datasets: https://www.met.ie/climate/available-data/long-term-data-sets/"
   ]
  }
 ],
 "metadata": {
  "kernelspec": {
   "display_name": "base_3.11",
   "language": "python",
   "name": "python3"
  },
  "language_info": {
   "codemirror_mode": {
    "name": "ipython",
    "version": 3
   },
   "file_extension": ".py",
   "mimetype": "text/x-python",
   "name": "python",
   "nbconvert_exporter": "python",
   "pygments_lexer": "ipython3",
   "version": "3.11.5"
  }
 },
 "nbformat": 4,
 "nbformat_minor": 2
}
